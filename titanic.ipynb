{
 "cells": [
  {
   "cell_type": "markdown",
   "id": "b818f8f7",
   "metadata": {},
   "source": [
    "# Titanic baseline solution on Julia"
   ]
  },
  {
   "cell_type": "code",
   "execution_count": 26,
   "id": "1dbe0d20",
   "metadata": {},
   "outputs": [
    {
     "name": "stderr",
     "output_type": "stream",
     "text": [
      "\u001b[32m\u001b[1m   Resolving\u001b[22m\u001b[39m package versions...\n",
      "\u001b[32m\u001b[1m  No Changes\u001b[22m\u001b[39m to `~/Projects/julia/Project.toml`\n",
      "\u001b[32m\u001b[1m  No Changes\u001b[22m\u001b[39m to `~/Projects/julia/Manifest.toml`\n",
      "\u001b[32m\u001b[1m   Resolving\u001b[22m\u001b[39m package versions...\n",
      "\u001b[32m\u001b[1m  No Changes\u001b[22m\u001b[39m to `~/Projects/julia/Project.toml`\n",
      "\u001b[32m\u001b[1m  No Changes\u001b[22m\u001b[39m to `~/Projects/julia/Manifest.toml`\n",
      "\u001b[32m\u001b[1m   Resolving\u001b[22m\u001b[39m package versions...\n",
      "\u001b[32m\u001b[1m  No Changes\u001b[22m\u001b[39m to `~/Projects/julia/Project.toml`\n",
      "\u001b[32m\u001b[1m  No Changes\u001b[22m\u001b[39m to `~/Projects/julia/Manifest.toml`\n",
      "\u001b[32m\u001b[1m   Resolving\u001b[22m\u001b[39m package versions...\n",
      "\u001b[32m\u001b[1m  No Changes\u001b[22m\u001b[39m to `~/Projects/julia/Project.toml`\n",
      "\u001b[32m\u001b[1m  No Changes\u001b[22m\u001b[39m to `~/Projects/julia/Manifest.toml`\n",
      "\u001b[32m\u001b[1m   Resolving\u001b[22m\u001b[39m package versions...\n",
      "\u001b[32m\u001b[1m  No Changes\u001b[22m\u001b[39m to `~/Projects/julia/Project.toml`\n",
      "\u001b[32m\u001b[1m  No Changes\u001b[22m\u001b[39m to `~/Projects/julia/Manifest.toml`\n",
      "\u001b[32m\u001b[1m   Resolving\u001b[22m\u001b[39m package versions...\n",
      "\u001b[32m\u001b[1m  No Changes\u001b[22m\u001b[39m to `~/Projects/julia/Project.toml`\n",
      "\u001b[32m\u001b[1m  No Changes\u001b[22m\u001b[39m to `~/Projects/julia/Manifest.toml`\n"
     ]
    }
   ],
   "source": [
    "# Install required packages\n",
    "using Pkg\n",
    "\n",
    "Pkg.add(\"CSV\")\n",
    "Pkg.add(\"DataFrames\")\n",
    "Pkg.add(\"Plots\")\n",
    "Pkg.add(\"ScikitLearn\")\n",
    "Pkg.add(\"DecisionTree\")\n",
    "Pkg.add(\"JLD2\")"
   ]
  },
  {
   "cell_type": "code",
   "execution_count": 27,
   "id": "096692bc",
   "metadata": {},
   "outputs": [],
   "source": [
    "# Load required modules\n",
    "using CSV, DataFrames, Plots, ScikitLearn, DecisionTree, JLD2"
   ]
  },
  {
   "cell_type": "code",
   "execution_count": 28,
   "id": "bea5b247",
   "metadata": {},
   "outputs": [
    {
     "data": {
      "text/html": [
       "<div><div style = \"float: left;\"><span>891×12 DataFrame</span></div><div style = \"float: right;\"><span style = \"font-style: italic;\">866 rows omitted</span></div><div style = \"clear: both;\"></div></div><div class = \"data-frame\" style = \"overflow-x: scroll;\"><table class = \"data-frame\" style = \"margin-bottom: 6px;\"><thead><tr class = \"header\"><th class = \"rowNumber\" style = \"font-weight: bold; text-align: right;\">Row</th><th style = \"text-align: left;\">PassengerId</th><th style = \"text-align: left;\">Survived</th><th style = \"text-align: left;\">Pclass</th><th style = \"text-align: left;\">Name</th><th style = \"text-align: left;\">Sex</th><th style = \"text-align: left;\">Age</th><th style = \"text-align: left;\">SibSp</th><th style = \"text-align: left;\">Parch</th><th style = \"text-align: left;\">Ticket</th><th style = \"text-align: left;\">Fare</th><th style = \"text-align: left;\">Cabin</th><th style = \"text-align: left;\">Embarked</th></tr><tr class = \"subheader headerLastRow\"><th class = \"rowNumber\" style = \"font-weight: bold; text-align: right;\"></th><th title = \"Int64\" style = \"text-align: left;\">Int64</th><th title = \"Int64\" style = \"text-align: left;\">Int64</th><th title = \"Int64\" style = \"text-align: left;\">Int64</th><th title = \"String\" style = \"text-align: left;\">String</th><th title = \"String7\" style = \"text-align: left;\">String7</th><th title = \"Union{Missing, Float64}\" style = \"text-align: left;\">Float64?</th><th title = \"Int64\" style = \"text-align: left;\">Int64</th><th title = \"Int64\" style = \"text-align: left;\">Int64</th><th title = \"String31\" style = \"text-align: left;\">String31</th><th title = \"Float64\" style = \"text-align: left;\">Float64</th><th title = \"Union{Missing, String15}\" style = \"text-align: left;\">String15?</th><th title = \"Union{Missing, String1}\" style = \"text-align: left;\">String1?</th></tr></thead><tbody><tr><td class = \"rowNumber\" style = \"font-weight: bold; text-align: right;\">1</td><td style = \"text-align: right;\">1</td><td style = \"text-align: right;\">0</td><td style = \"text-align: right;\">3</td><td style = \"text-align: left;\">Braund, Mr. Owen Harris</td><td style = \"text-align: left;\">male</td><td style = \"text-align: right;\">22.0</td><td style = \"text-align: right;\">1</td><td style = \"text-align: right;\">0</td><td style = \"text-align: left;\">A/5 21171</td><td style = \"text-align: right;\">7.25</td><td style = \"font-style: italic; text-align: left;\">missing</td><td style = \"text-align: left;\">S</td></tr><tr><td class = \"rowNumber\" style = \"font-weight: bold; text-align: right;\">2</td><td style = \"text-align: right;\">2</td><td style = \"text-align: right;\">1</td><td style = \"text-align: right;\">1</td><td style = \"text-align: left;\">Cumings, Mrs. John Bradley (Florence Briggs Thayer)</td><td style = \"text-align: left;\">female</td><td style = \"text-align: right;\">38.0</td><td style = \"text-align: right;\">1</td><td style = \"text-align: right;\">0</td><td style = \"text-align: left;\">PC 17599</td><td style = \"text-align: right;\">71.2833</td><td style = \"text-align: left;\">C85</td><td style = \"text-align: left;\">C</td></tr><tr><td class = \"rowNumber\" style = \"font-weight: bold; text-align: right;\">3</td><td style = \"text-align: right;\">3</td><td style = \"text-align: right;\">1</td><td style = \"text-align: right;\">3</td><td style = \"text-align: left;\">Heikkinen, Miss. Laina</td><td style = \"text-align: left;\">female</td><td style = \"text-align: right;\">26.0</td><td style = \"text-align: right;\">0</td><td style = \"text-align: right;\">0</td><td style = \"text-align: left;\">STON/O2. 3101282</td><td style = \"text-align: right;\">7.925</td><td style = \"font-style: italic; text-align: left;\">missing</td><td style = \"text-align: left;\">S</td></tr><tr><td class = \"rowNumber\" style = \"font-weight: bold; text-align: right;\">4</td><td style = \"text-align: right;\">4</td><td style = \"text-align: right;\">1</td><td style = \"text-align: right;\">1</td><td style = \"text-align: left;\">Futrelle, Mrs. Jacques Heath (Lily May Peel)</td><td style = \"text-align: left;\">female</td><td style = \"text-align: right;\">35.0</td><td style = \"text-align: right;\">1</td><td style = \"text-align: right;\">0</td><td style = \"text-align: left;\">113803</td><td style = \"text-align: right;\">53.1</td><td style = \"text-align: left;\">C123</td><td style = \"text-align: left;\">S</td></tr><tr><td class = \"rowNumber\" style = \"font-weight: bold; text-align: right;\">5</td><td style = \"text-align: right;\">5</td><td style = \"text-align: right;\">0</td><td style = \"text-align: right;\">3</td><td style = \"text-align: left;\">Allen, Mr. William Henry</td><td style = \"text-align: left;\">male</td><td style = \"text-align: right;\">35.0</td><td style = \"text-align: right;\">0</td><td style = \"text-align: right;\">0</td><td style = \"text-align: left;\">373450</td><td style = \"text-align: right;\">8.05</td><td style = \"font-style: italic; text-align: left;\">missing</td><td style = \"text-align: left;\">S</td></tr><tr><td class = \"rowNumber\" style = \"font-weight: bold; text-align: right;\">6</td><td style = \"text-align: right;\">6</td><td style = \"text-align: right;\">0</td><td style = \"text-align: right;\">3</td><td style = \"text-align: left;\">Moran, Mr. James</td><td style = \"text-align: left;\">male</td><td style = \"font-style: italic; text-align: right;\">missing</td><td style = \"text-align: right;\">0</td><td style = \"text-align: right;\">0</td><td style = \"text-align: left;\">330877</td><td style = \"text-align: right;\">8.4583</td><td style = \"font-style: italic; text-align: left;\">missing</td><td style = \"text-align: left;\">Q</td></tr><tr><td class = \"rowNumber\" style = \"font-weight: bold; text-align: right;\">7</td><td style = \"text-align: right;\">7</td><td style = \"text-align: right;\">0</td><td style = \"text-align: right;\">1</td><td style = \"text-align: left;\">McCarthy, Mr. Timothy J</td><td style = \"text-align: left;\">male</td><td style = \"text-align: right;\">54.0</td><td style = \"text-align: right;\">0</td><td style = \"text-align: right;\">0</td><td style = \"text-align: left;\">17463</td><td style = \"text-align: right;\">51.8625</td><td style = \"text-align: left;\">E46</td><td style = \"text-align: left;\">S</td></tr><tr><td class = \"rowNumber\" style = \"font-weight: bold; text-align: right;\">8</td><td style = \"text-align: right;\">8</td><td style = \"text-align: right;\">0</td><td style = \"text-align: right;\">3</td><td style = \"text-align: left;\">Palsson, Master. Gosta Leonard</td><td style = \"text-align: left;\">male</td><td style = \"text-align: right;\">2.0</td><td style = \"text-align: right;\">3</td><td style = \"text-align: right;\">1</td><td style = \"text-align: left;\">349909</td><td style = \"text-align: right;\">21.075</td><td style = \"font-style: italic; text-align: left;\">missing</td><td style = \"text-align: left;\">S</td></tr><tr><td class = \"rowNumber\" style = \"font-weight: bold; text-align: right;\">9</td><td style = \"text-align: right;\">9</td><td style = \"text-align: right;\">1</td><td style = \"text-align: right;\">3</td><td style = \"text-align: left;\">Johnson, Mrs. Oscar W (Elisabeth Vilhelmina Berg)</td><td style = \"text-align: left;\">female</td><td style = \"text-align: right;\">27.0</td><td style = \"text-align: right;\">0</td><td style = \"text-align: right;\">2</td><td style = \"text-align: left;\">347742</td><td style = \"text-align: right;\">11.1333</td><td style = \"font-style: italic; text-align: left;\">missing</td><td style = \"text-align: left;\">S</td></tr><tr><td class = \"rowNumber\" style = \"font-weight: bold; text-align: right;\">10</td><td style = \"text-align: right;\">10</td><td style = \"text-align: right;\">1</td><td style = \"text-align: right;\">2</td><td style = \"text-align: left;\">Nasser, Mrs. Nicholas (Adele Achem)</td><td style = \"text-align: left;\">female</td><td style = \"text-align: right;\">14.0</td><td style = \"text-align: right;\">1</td><td style = \"text-align: right;\">0</td><td style = \"text-align: left;\">237736</td><td style = \"text-align: right;\">30.0708</td><td style = \"font-style: italic; text-align: left;\">missing</td><td style = \"text-align: left;\">C</td></tr><tr><td class = \"rowNumber\" style = \"font-weight: bold; text-align: right;\">11</td><td style = \"text-align: right;\">11</td><td style = \"text-align: right;\">1</td><td style = \"text-align: right;\">3</td><td style = \"text-align: left;\">Sandstrom, Miss. Marguerite Rut</td><td style = \"text-align: left;\">female</td><td style = \"text-align: right;\">4.0</td><td style = \"text-align: right;\">1</td><td style = \"text-align: right;\">1</td><td style = \"text-align: left;\">PP 9549</td><td style = \"text-align: right;\">16.7</td><td style = \"text-align: left;\">G6</td><td style = \"text-align: left;\">S</td></tr><tr><td class = \"rowNumber\" style = \"font-weight: bold; text-align: right;\">12</td><td style = \"text-align: right;\">12</td><td style = \"text-align: right;\">1</td><td style = \"text-align: right;\">1</td><td style = \"text-align: left;\">Bonnell, Miss. Elizabeth</td><td style = \"text-align: left;\">female</td><td style = \"text-align: right;\">58.0</td><td style = \"text-align: right;\">0</td><td style = \"text-align: right;\">0</td><td style = \"text-align: left;\">113783</td><td style = \"text-align: right;\">26.55</td><td style = \"text-align: left;\">C103</td><td style = \"text-align: left;\">S</td></tr><tr><td class = \"rowNumber\" style = \"font-weight: bold; text-align: right;\">13</td><td style = \"text-align: right;\">13</td><td style = \"text-align: right;\">0</td><td style = \"text-align: right;\">3</td><td style = \"text-align: left;\">Saundercock, Mr. William Henry</td><td style = \"text-align: left;\">male</td><td style = \"text-align: right;\">20.0</td><td style = \"text-align: right;\">0</td><td style = \"text-align: right;\">0</td><td style = \"text-align: left;\">A/5. 2151</td><td style = \"text-align: right;\">8.05</td><td style = \"font-style: italic; text-align: left;\">missing</td><td style = \"text-align: left;\">S</td></tr><tr><td style = \"text-align: right;\">&vellip;</td><td style = \"text-align: right;\">&vellip;</td><td style = \"text-align: right;\">&vellip;</td><td style = \"text-align: right;\">&vellip;</td><td style = \"text-align: right;\">&vellip;</td><td style = \"text-align: right;\">&vellip;</td><td style = \"text-align: right;\">&vellip;</td><td style = \"text-align: right;\">&vellip;</td><td style = \"text-align: right;\">&vellip;</td><td style = \"text-align: right;\">&vellip;</td><td style = \"text-align: right;\">&vellip;</td><td style = \"text-align: right;\">&vellip;</td><td style = \"text-align: right;\">&vellip;</td></tr><tr><td class = \"rowNumber\" style = \"font-weight: bold; text-align: right;\">880</td><td style = \"text-align: right;\">880</td><td style = \"text-align: right;\">1</td><td style = \"text-align: right;\">1</td><td style = \"text-align: left;\">Potter, Mrs. Thomas Jr (Lily Alexenia Wilson)</td><td style = \"text-align: left;\">female</td><td style = \"text-align: right;\">56.0</td><td style = \"text-align: right;\">0</td><td style = \"text-align: right;\">1</td><td style = \"text-align: left;\">11767</td><td style = \"text-align: right;\">83.1583</td><td style = \"font-style: italic; text-align: left;\">C50</td><td style = \"text-align: left;\">C</td></tr><tr><td class = \"rowNumber\" style = \"font-weight: bold; text-align: right;\">881</td><td style = \"text-align: right;\">881</td><td style = \"text-align: right;\">1</td><td style = \"text-align: right;\">2</td><td style = \"text-align: left;\">Shelley, Mrs. William (Imanita Parrish Hall)</td><td style = \"text-align: left;\">female</td><td style = \"text-align: right;\">25.0</td><td style = \"text-align: right;\">0</td><td style = \"text-align: right;\">1</td><td style = \"text-align: left;\">230433</td><td style = \"text-align: right;\">26.0</td><td style = \"font-style: italic; text-align: left;\">missing</td><td style = \"text-align: left;\">S</td></tr><tr><td class = \"rowNumber\" style = \"font-weight: bold; text-align: right;\">882</td><td style = \"text-align: right;\">882</td><td style = \"text-align: right;\">0</td><td style = \"text-align: right;\">3</td><td style = \"text-align: left;\">Markun, Mr. Johann</td><td style = \"text-align: left;\">male</td><td style = \"text-align: right;\">33.0</td><td style = \"text-align: right;\">0</td><td style = \"text-align: right;\">0</td><td style = \"text-align: left;\">349257</td><td style = \"text-align: right;\">7.8958</td><td style = \"font-style: italic; text-align: left;\">missing</td><td style = \"text-align: left;\">S</td></tr><tr><td class = \"rowNumber\" style = \"font-weight: bold; text-align: right;\">883</td><td style = \"text-align: right;\">883</td><td style = \"text-align: right;\">0</td><td style = \"text-align: right;\">3</td><td style = \"text-align: left;\">Dahlberg, Miss. Gerda Ulrika</td><td style = \"text-align: left;\">female</td><td style = \"text-align: right;\">22.0</td><td style = \"text-align: right;\">0</td><td style = \"text-align: right;\">0</td><td style = \"text-align: left;\">7552</td><td style = \"text-align: right;\">10.5167</td><td style = \"font-style: italic; text-align: left;\">missing</td><td style = \"text-align: left;\">S</td></tr><tr><td class = \"rowNumber\" style = \"font-weight: bold; text-align: right;\">884</td><td style = \"text-align: right;\">884</td><td style = \"text-align: right;\">0</td><td style = \"text-align: right;\">2</td><td style = \"text-align: left;\">Banfield, Mr. Frederick James</td><td style = \"text-align: left;\">male</td><td style = \"font-style: italic; text-align: right;\">28.0</td><td style = \"text-align: right;\">0</td><td style = \"text-align: right;\">0</td><td style = \"text-align: left;\">C.A./SOTON 34068</td><td style = \"text-align: right;\">10.5</td><td style = \"font-style: italic; text-align: left;\">missing</td><td style = \"text-align: left;\">S</td></tr><tr><td class = \"rowNumber\" style = \"font-weight: bold; text-align: right;\">885</td><td style = \"text-align: right;\">885</td><td style = \"text-align: right;\">0</td><td style = \"text-align: right;\">3</td><td style = \"text-align: left;\">Sutehall, Mr. Henry Jr</td><td style = \"text-align: left;\">male</td><td style = \"text-align: right;\">25.0</td><td style = \"text-align: right;\">0</td><td style = \"text-align: right;\">0</td><td style = \"text-align: left;\">SOTON/OQ 392076</td><td style = \"text-align: right;\">7.05</td><td style = \"font-style: italic; text-align: left;\">missing</td><td style = \"text-align: left;\">S</td></tr><tr><td class = \"rowNumber\" style = \"font-weight: bold; text-align: right;\">886</td><td style = \"text-align: right;\">886</td><td style = \"text-align: right;\">0</td><td style = \"text-align: right;\">3</td><td style = \"text-align: left;\">Rice, Mrs. William (Margaret Norton)</td><td style = \"text-align: left;\">female</td><td style = \"font-style: italic; text-align: right;\">39.0</td><td style = \"text-align: right;\">0</td><td style = \"text-align: right;\">5</td><td style = \"text-align: left;\">382652</td><td style = \"text-align: right;\">29.125</td><td style = \"font-style: italic; text-align: left;\">missing</td><td style = \"text-align: left;\">Q</td></tr><tr><td class = \"rowNumber\" style = \"font-weight: bold; text-align: right;\">887</td><td style = \"text-align: right;\">887</td><td style = \"text-align: right;\">0</td><td style = \"text-align: right;\">2</td><td style = \"text-align: left;\">Montvila, Rev. Juozas</td><td style = \"text-align: left;\">male</td><td style = \"text-align: right;\">27.0</td><td style = \"text-align: right;\">0</td><td style = \"text-align: right;\">0</td><td style = \"text-align: left;\">211536</td><td style = \"text-align: right;\">13.0</td><td style = \"font-style: italic; text-align: left;\">missing</td><td style = \"text-align: left;\">S</td></tr><tr><td class = \"rowNumber\" style = \"font-weight: bold; text-align: right;\">888</td><td style = \"text-align: right;\">888</td><td style = \"text-align: right;\">1</td><td style = \"text-align: right;\">1</td><td style = \"text-align: left;\">Graham, Miss. Margaret Edith</td><td style = \"text-align: left;\">female</td><td style = \"text-align: right;\">19.0</td><td style = \"text-align: right;\">0</td><td style = \"text-align: right;\">0</td><td style = \"text-align: left;\">112053</td><td style = \"text-align: right;\">30.0</td><td style = \"text-align: left;\">B42</td><td style = \"text-align: left;\">S</td></tr><tr><td class = \"rowNumber\" style = \"font-weight: bold; text-align: right;\">889</td><td style = \"text-align: right;\">889</td><td style = \"text-align: right;\">0</td><td style = \"text-align: right;\">3</td><td style = \"text-align: left;\">Johnston, Miss. Catherine Helen &quot;Carrie&quot;</td><td style = \"text-align: left;\">female</td><td style = \"text-align: right;\">missing</td><td style = \"text-align: right;\">1</td><td style = \"text-align: right;\">2</td><td style = \"text-align: left;\">W./C. 6607</td><td style = \"text-align: right;\">23.45</td><td style = \"font-style: italic; text-align: left;\">missing</td><td style = \"text-align: left;\">S</td></tr><tr><td class = \"rowNumber\" style = \"font-weight: bold; text-align: right;\">890</td><td style = \"text-align: right;\">890</td><td style = \"text-align: right;\">1</td><td style = \"text-align: right;\">1</td><td style = \"text-align: left;\">Behr, Mr. Karl Howell</td><td style = \"text-align: left;\">male</td><td style = \"text-align: right;\">26.0</td><td style = \"text-align: right;\">0</td><td style = \"text-align: right;\">0</td><td style = \"text-align: left;\">111369</td><td style = \"text-align: right;\">30.0</td><td style = \"text-align: left;\">C148</td><td style = \"text-align: left;\">C</td></tr><tr><td class = \"rowNumber\" style = \"font-weight: bold; text-align: right;\">891</td><td style = \"text-align: right;\">891</td><td style = \"text-align: right;\">0</td><td style = \"text-align: right;\">3</td><td style = \"text-align: left;\">Dooley, Mr. Patrick</td><td style = \"text-align: left;\">male</td><td style = \"text-align: right;\">32.0</td><td style = \"text-align: right;\">0</td><td style = \"text-align: right;\">0</td><td style = \"text-align: left;\">370376</td><td style = \"text-align: right;\">7.75</td><td style = \"font-style: italic; text-align: left;\">missing</td><td style = \"text-align: left;\">Q</td></tr></tbody></table></div>"
      ],
      "text/latex": [
       "\\begin{tabular}{r|ccccc}\n",
       "\t& PassengerId & Survived & Pclass & Name & \\\\\n",
       "\t\\hline\n",
       "\t& Int64 & Int64 & Int64 & String & \\\\\n",
       "\t\\hline\n",
       "\t1 & 1 & 0 & 3 & Braund, Mr. Owen Harris & $\\dots$ \\\\\n",
       "\t2 & 2 & 1 & 1 & Cumings, Mrs. John Bradley (Florence Briggs Thayer) & $\\dots$ \\\\\n",
       "\t3 & 3 & 1 & 3 & Heikkinen, Miss. Laina & $\\dots$ \\\\\n",
       "\t4 & 4 & 1 & 1 & Futrelle, Mrs. Jacques Heath (Lily May Peel) & $\\dots$ \\\\\n",
       "\t5 & 5 & 0 & 3 & Allen, Mr. William Henry & $\\dots$ \\\\\n",
       "\t6 & 6 & 0 & 3 & Moran, Mr. James & $\\dots$ \\\\\n",
       "\t7 & 7 & 0 & 1 & McCarthy, Mr. Timothy J & $\\dots$ \\\\\n",
       "\t8 & 8 & 0 & 3 & Palsson, Master. Gosta Leonard & $\\dots$ \\\\\n",
       "\t9 & 9 & 1 & 3 & Johnson, Mrs. Oscar W (Elisabeth Vilhelmina Berg) & $\\dots$ \\\\\n",
       "\t10 & 10 & 1 & 2 & Nasser, Mrs. Nicholas (Adele Achem) & $\\dots$ \\\\\n",
       "\t11 & 11 & 1 & 3 & Sandstrom, Miss. Marguerite Rut & $\\dots$ \\\\\n",
       "\t12 & 12 & 1 & 1 & Bonnell, Miss. Elizabeth & $\\dots$ \\\\\n",
       "\t13 & 13 & 0 & 3 & Saundercock, Mr. William Henry & $\\dots$ \\\\\n",
       "\t14 & 14 & 0 & 3 & Andersson, Mr. Anders Johan & $\\dots$ \\\\\n",
       "\t15 & 15 & 0 & 3 & Vestrom, Miss. Hulda Amanda Adolfina & $\\dots$ \\\\\n",
       "\t16 & 16 & 1 & 2 & Hewlett, Mrs. (Mary D Kingcome)  & $\\dots$ \\\\\n",
       "\t17 & 17 & 0 & 3 & Rice, Master. Eugene & $\\dots$ \\\\\n",
       "\t18 & 18 & 1 & 2 & Williams, Mr. Charles Eugene & $\\dots$ \\\\\n",
       "\t19 & 19 & 0 & 3 & Vander Planke, Mrs. Julius (Emelia Maria Vandemoortele) & $\\dots$ \\\\\n",
       "\t20 & 20 & 1 & 3 & Masselmani, Mrs. Fatima & $\\dots$ \\\\\n",
       "\t21 & 21 & 0 & 2 & Fynney, Mr. Joseph J & $\\dots$ \\\\\n",
       "\t22 & 22 & 1 & 2 & Beesley, Mr. Lawrence & $\\dots$ \\\\\n",
       "\t23 & 23 & 1 & 3 & McGowan, Miss. Anna \"Annie\" & $\\dots$ \\\\\n",
       "\t24 & 24 & 1 & 1 & Sloper, Mr. William Thompson & $\\dots$ \\\\\n",
       "\t25 & 25 & 0 & 3 & Palsson, Miss. Torborg Danira & $\\dots$ \\\\\n",
       "\t26 & 26 & 1 & 3 & Asplund, Mrs. Carl Oscar (Selma Augusta Emilia Johansson) & $\\dots$ \\\\\n",
       "\t27 & 27 & 0 & 3 & Emir, Mr. Farred Chehab & $\\dots$ \\\\\n",
       "\t28 & 28 & 0 & 1 & Fortune, Mr. Charles Alexander & $\\dots$ \\\\\n",
       "\t29 & 29 & 1 & 3 & O'Dwyer, Miss. Ellen \"Nellie\" & $\\dots$ \\\\\n",
       "\t30 & 30 & 0 & 3 & Todoroff, Mr. Lalio & $\\dots$ \\\\\n",
       "\t$\\dots$ & $\\dots$ & $\\dots$ & $\\dots$ & $\\dots$ &  \\\\\n",
       "\\end{tabular}\n"
      ],
      "text/plain": [
       "\u001b[1m891×12 DataFrame\u001b[0m\n",
       "\u001b[1m Row \u001b[0m│\u001b[1m PassengerId \u001b[0m\u001b[1m Survived \u001b[0m\u001b[1m Pclass \u001b[0m\u001b[1m Name                              \u001b[0m\u001b[1m Sex  \u001b[0m ⋯\n",
       "     │\u001b[90m Int64       \u001b[0m\u001b[90m Int64    \u001b[0m\u001b[90m Int64  \u001b[0m\u001b[90m String                            \u001b[0m\u001b[90m Strin\u001b[0m ⋯\n",
       "─────┼──────────────────────────────────────────────────────────────────────────\n",
       "   1 │           1         0       3  Braund, Mr. Owen Harris            male  ⋯\n",
       "   2 │           2         1       1  Cumings, Mrs. John Bradley (Flor…  femal\n",
       "   3 │           3         1       3  Heikkinen, Miss. Laina             femal\n",
       "   4 │           4         1       1  Futrelle, Mrs. Jacques Heath (Li…  femal\n",
       "   5 │           5         0       3  Allen, Mr. William Henry           male  ⋯\n",
       "   6 │           6         0       3  Moran, Mr. James                   male\n",
       "   7 │           7         0       1  McCarthy, Mr. Timothy J            male\n",
       "   8 │           8         0       3  Palsson, Master. Gosta Leonard     male\n",
       "   9 │           9         1       3  Johnson, Mrs. Oscar W (Elisabeth…  femal ⋯\n",
       "  10 │          10         1       2  Nasser, Mrs. Nicholas (Adele Ach…  femal\n",
       "  11 │          11         1       3  Sandstrom, Miss. Marguerite Rut    femal\n",
       "  ⋮  │      ⋮          ⋮        ⋮                     ⋮                     ⋮  ⋱\n",
       " 882 │         882         0       3  Markun, Mr. Johann                 male\n",
       " 883 │         883         0       3  Dahlberg, Miss. Gerda Ulrika       femal ⋯\n",
       " 884 │         884         0       2  Banfield, Mr. Frederick James      male\n",
       " 885 │         885         0       3  Sutehall, Mr. Henry Jr             male\n",
       " 886 │         886         0       3  Rice, Mrs. William (Margaret Nor…  femal\n",
       " 887 │         887         0       2  Montvila, Rev. Juozas              male  ⋯\n",
       " 888 │         888         1       1  Graham, Miss. Margaret Edith       femal\n",
       " 889 │         889         0       3  Johnston, Miss. Catherine Helen …  femal\n",
       " 890 │         890         1       1  Behr, Mr. Karl Howell              male\n",
       " 891 │         891         0       3  Dooley, Mr. Patrick                male  ⋯\n",
       "\u001b[36m                                                  8 columns and 870 rows omitted\u001b[0m"
      ]
     },
     "execution_count": 28,
     "metadata": {},
     "output_type": "execute_result"
    }
   ],
   "source": [
    "# Load training dataset and show summary info\n",
    "train_df = CSV.read(\"train.csv\",DataFrame)"
   ]
  },
  {
   "cell_type": "code",
   "execution_count": 29,
   "id": "89250788",
   "metadata": {},
   "outputs": [
    {
     "data": {
      "text/html": [
       "<div><div style = \"float: left;\"><span>12×7 DataFrame</span></div><div style = \"clear: both;\"></div></div><div class = \"data-frame\" style = \"overflow-x: scroll;\"><table class = \"data-frame\" style = \"margin-bottom: 6px;\"><thead><tr class = \"header\"><th class = \"rowNumber\" style = \"font-weight: bold; text-align: right;\">Row</th><th style = \"text-align: left;\">variable</th><th style = \"text-align: left;\">mean</th><th style = \"text-align: left;\">min</th><th style = \"text-align: left;\">median</th><th style = \"text-align: left;\">max</th><th style = \"text-align: left;\">nmissing</th><th style = \"text-align: left;\">eltype</th></tr><tr class = \"subheader headerLastRow\"><th class = \"rowNumber\" style = \"font-weight: bold; text-align: right;\"></th><th title = \"Symbol\" style = \"text-align: left;\">Symbol</th><th title = \"Union{Nothing, Float64}\" style = \"text-align: left;\">Union…</th><th title = \"Any\" style = \"text-align: left;\">Any</th><th title = \"Union{Nothing, Float64}\" style = \"text-align: left;\">Union…</th><th title = \"Any\" style = \"text-align: left;\">Any</th><th title = \"Int64\" style = \"text-align: left;\">Int64</th><th title = \"Type\" style = \"text-align: left;\">Type</th></tr></thead><tbody><tr><td class = \"rowNumber\" style = \"font-weight: bold; text-align: right;\">1</td><td style = \"text-align: left;\">PassengerId</td><td style = \"text-align: left;\">446.0</td><td style = \"text-align: left;\">1</td><td style = \"text-align: left;\">446.0</td><td style = \"text-align: left;\">891</td><td style = \"text-align: right;\">0</td><td style = \"text-align: left;\">Int64</td></tr><tr><td class = \"rowNumber\" style = \"font-weight: bold; text-align: right;\">2</td><td style = \"text-align: left;\">Survived</td><td style = \"text-align: left;\">0.383838</td><td style = \"text-align: left;\">0</td><td style = \"text-align: left;\">0.0</td><td style = \"text-align: left;\">1</td><td style = \"text-align: right;\">0</td><td style = \"text-align: left;\">Int64</td></tr><tr><td class = \"rowNumber\" style = \"font-weight: bold; text-align: right;\">3</td><td style = \"text-align: left;\">Pclass</td><td style = \"text-align: left;\">2.30864</td><td style = \"text-align: left;\">1</td><td style = \"text-align: left;\">3.0</td><td style = \"text-align: left;\">3</td><td style = \"text-align: right;\">0</td><td style = \"text-align: left;\">Int64</td></tr><tr><td class = \"rowNumber\" style = \"font-weight: bold; text-align: right;\">4</td><td style = \"text-align: left;\">Name</td><td style = \"font-style: italic; text-align: left;\"></td><td style = \"text-align: left;\">Abbing, Mr. Anthony</td><td style = \"font-style: italic; text-align: left;\"></td><td style = \"text-align: left;\">van Melkebeke, Mr. Philemon</td><td style = \"text-align: right;\">0</td><td style = \"text-align: left;\">String</td></tr><tr><td class = \"rowNumber\" style = \"font-weight: bold; text-align: right;\">5</td><td style = \"text-align: left;\">Sex</td><td style = \"font-style: italic; text-align: left;\"></td><td style = \"text-align: left;\">female</td><td style = \"font-style: italic; text-align: left;\"></td><td style = \"text-align: left;\">male</td><td style = \"text-align: right;\">0</td><td style = \"text-align: left;\">String7</td></tr><tr><td class = \"rowNumber\" style = \"font-weight: bold; text-align: right;\">6</td><td style = \"text-align: left;\">Age</td><td style = \"text-align: left;\">29.6991</td><td style = \"text-align: left;\">0.42</td><td style = \"text-align: left;\">28.0</td><td style = \"text-align: left;\">80.0</td><td style = \"text-align: right;\">177</td><td style = \"text-align: left;\">Union{Missing, Float64}</td></tr><tr><td class = \"rowNumber\" style = \"font-weight: bold; text-align: right;\">7</td><td style = \"text-align: left;\">SibSp</td><td style = \"text-align: left;\">0.523008</td><td style = \"text-align: left;\">0</td><td style = \"text-align: left;\">0.0</td><td style = \"text-align: left;\">8</td><td style = \"text-align: right;\">0</td><td style = \"text-align: left;\">Int64</td></tr><tr><td class = \"rowNumber\" style = \"font-weight: bold; text-align: right;\">8</td><td style = \"text-align: left;\">Parch</td><td style = \"text-align: left;\">0.381594</td><td style = \"text-align: left;\">0</td><td style = \"text-align: left;\">0.0</td><td style = \"text-align: left;\">6</td><td style = \"text-align: right;\">0</td><td style = \"text-align: left;\">Int64</td></tr><tr><td class = \"rowNumber\" style = \"font-weight: bold; text-align: right;\">9</td><td style = \"text-align: left;\">Ticket</td><td style = \"font-style: italic; text-align: left;\"></td><td style = \"text-align: left;\">110152</td><td style = \"font-style: italic; text-align: left;\"></td><td style = \"text-align: left;\">WE/P 5735</td><td style = \"text-align: right;\">0</td><td style = \"text-align: left;\">String31</td></tr><tr><td class = \"rowNumber\" style = \"font-weight: bold; text-align: right;\">10</td><td style = \"text-align: left;\">Fare</td><td style = \"text-align: left;\">32.2042</td><td style = \"text-align: left;\">0.0</td><td style = \"text-align: left;\">14.4542</td><td style = \"text-align: left;\">512.329</td><td style = \"text-align: right;\">0</td><td style = \"text-align: left;\">Float64</td></tr><tr><td class = \"rowNumber\" style = \"font-weight: bold; text-align: right;\">11</td><td style = \"text-align: left;\">Cabin</td><td style = \"font-style: italic; text-align: left;\"></td><td style = \"text-align: left;\">A10</td><td style = \"font-style: italic; text-align: left;\"></td><td style = \"text-align: left;\">T</td><td style = \"text-align: right;\">687</td><td style = \"text-align: left;\">Union{Missing, String15}</td></tr><tr><td class = \"rowNumber\" style = \"font-weight: bold; text-align: right;\">12</td><td style = \"text-align: left;\">Embarked</td><td style = \"font-style: italic; text-align: left;\"></td><td style = \"text-align: left;\">C</td><td style = \"font-style: italic; text-align: left;\"></td><td style = \"text-align: left;\">S</td><td style = \"text-align: right;\">2</td><td style = \"text-align: left;\">Union{Missing, String1}</td></tr></tbody></table></div>"
      ],
      "text/latex": [
       "\\begin{tabular}{r|cccccc}\n",
       "\t& variable & mean & min & median & max & \\\\\n",
       "\t\\hline\n",
       "\t& Symbol & Union… & Any & Union… & Any & \\\\\n",
       "\t\\hline\n",
       "\t1 & PassengerId & 446.0 & 1 & 446.0 & 891 & $\\dots$ \\\\\n",
       "\t2 & Survived & 0.383838 & 0 & 0.0 & 1 & $\\dots$ \\\\\n",
       "\t3 & Pclass & 2.30864 & 1 & 3.0 & 3 & $\\dots$ \\\\\n",
       "\t4 & Name &  & Abbing, Mr. Anthony &  & van Melkebeke, Mr. Philemon & $\\dots$ \\\\\n",
       "\t5 & Sex &  & female &  & male & $\\dots$ \\\\\n",
       "\t6 & Age & 29.6991 & 0.42 & 28.0 & 80.0 & $\\dots$ \\\\\n",
       "\t7 & SibSp & 0.523008 & 0 & 0.0 & 8 & $\\dots$ \\\\\n",
       "\t8 & Parch & 0.381594 & 0 & 0.0 & 6 & $\\dots$ \\\\\n",
       "\t9 & Ticket &  & 110152 &  & WE/P 5735 & $\\dots$ \\\\\n",
       "\t10 & Fare & 32.2042 & 0.0 & 14.4542 & 512.329 & $\\dots$ \\\\\n",
       "\t11 & Cabin &  & A10 &  & T & $\\dots$ \\\\\n",
       "\t12 & Embarked &  & C &  & S & $\\dots$ \\\\\n",
       "\\end{tabular}\n"
      ],
      "text/plain": [
       "\u001b[1m12×7 DataFrame\u001b[0m\n",
       "\u001b[1m Row \u001b[0m│\u001b[1m variable    \u001b[0m\u001b[1m mean     \u001b[0m\u001b[1m min                 \u001b[0m\u001b[1m median  \u001b[0m\u001b[1m max               \u001b[0m ⋯\n",
       "     │\u001b[90m Symbol      \u001b[0m\u001b[90m Union…   \u001b[0m\u001b[90m Any                 \u001b[0m\u001b[90m Union…  \u001b[0m\u001b[90m Any               \u001b[0m ⋯\n",
       "─────┼──────────────────────────────────────────────────────────────────────────\n",
       "   1 │ PassengerId  446.0     1                    446.0    891                ⋯\n",
       "   2 │ Survived     0.383838  0                    0.0      1\n",
       "   3 │ Pclass       2.30864   1                    3.0      3\n",
       "   4 │ Name        \u001b[90m          \u001b[0m Abbing, Mr. Anthony \u001b[90m         \u001b[0m van Melkebeke, Mr.\n",
       "   5 │ Sex         \u001b[90m          \u001b[0m female              \u001b[90m         \u001b[0m male               ⋯\n",
       "   6 │ Age          29.6991   0.42                 28.0     80.0\n",
       "   7 │ SibSp        0.523008  0                    0.0      8\n",
       "   8 │ Parch        0.381594  0                    0.0      6\n",
       "   9 │ Ticket      \u001b[90m          \u001b[0m 110152              \u001b[90m         \u001b[0m WE/P 5735          ⋯\n",
       "  10 │ Fare         32.2042   0.0                  14.4542  512.329\n",
       "  11 │ Cabin       \u001b[90m          \u001b[0m A10                 \u001b[90m         \u001b[0m T\n",
       "  12 │ Embarked    \u001b[90m          \u001b[0m C                   \u001b[90m         \u001b[0m S\n",
       "\u001b[36m                                                               3 columns omitted\u001b[0m"
      ]
     },
     "execution_count": 29,
     "metadata": {},
     "output_type": "execute_result"
    }
   ],
   "source": [
    "describe(train_df)"
   ]
  },
  {
   "cell_type": "code",
   "execution_count": 30,
   "id": "c8885a71",
   "metadata": {},
   "outputs": [
    {
     "data": {
      "text/html": [
       "<div><div style = \"float: left;\"><span>889×11 DataFrame</span></div><div style = \"float: right;\"><span style = \"font-style: italic;\">864 rows omitted</span></div><div style = \"clear: both;\"></div></div><div class = \"data-frame\" style = \"overflow-x: scroll;\"><table class = \"data-frame\" style = \"margin-bottom: 6px;\"><thead><tr class = \"header\"><th class = \"rowNumber\" style = \"font-weight: bold; text-align: right;\">Row</th><th style = \"text-align: left;\">PassengerId</th><th style = \"text-align: left;\">Survived</th><th style = \"text-align: left;\">Pclass</th><th style = \"text-align: left;\">Name</th><th style = \"text-align: left;\">Sex</th><th style = \"text-align: left;\">Age</th><th style = \"text-align: left;\">SibSp</th><th style = \"text-align: left;\">Parch</th><th style = \"text-align: left;\">Ticket</th><th style = \"text-align: left;\">Fare</th><th style = \"text-align: left;\">Embarked</th></tr><tr class = \"subheader headerLastRow\"><th class = \"rowNumber\" style = \"font-weight: bold; text-align: right;\"></th><th title = \"Int64\" style = \"text-align: left;\">Int64</th><th title = \"Int64\" style = \"text-align: left;\">Int64</th><th title = \"Int64\" style = \"text-align: left;\">Int64</th><th title = \"String\" style = \"text-align: left;\">String</th><th title = \"String7\" style = \"text-align: left;\">String7</th><th title = \"Float64\" style = \"text-align: left;\">Float64</th><th title = \"Int64\" style = \"text-align: left;\">Int64</th><th title = \"Int64\" style = \"text-align: left;\">Int64</th><th title = \"String31\" style = \"text-align: left;\">String31</th><th title = \"Float64\" style = \"text-align: left;\">Float64</th><th title = \"String1\" style = \"text-align: left;\">String1</th></tr></thead><tbody><tr><td class = \"rowNumber\" style = \"font-weight: bold; text-align: right;\">1</td><td style = \"text-align: right;\">1</td><td style = \"text-align: right;\">0</td><td style = \"text-align: right;\">3</td><td style = \"text-align: left;\">Braund, Mr. Owen Harris</td><td style = \"text-align: left;\">male</td><td style = \"text-align: right;\">22.0</td><td style = \"text-align: right;\">1</td><td style = \"text-align: right;\">0</td><td style = \"text-align: left;\">A/5 21171</td><td style = \"text-align: right;\">7.25</td><td style = \"text-align: left;\">S</td></tr><tr><td class = \"rowNumber\" style = \"font-weight: bold; text-align: right;\">2</td><td style = \"text-align: right;\">2</td><td style = \"text-align: right;\">1</td><td style = \"text-align: right;\">1</td><td style = \"text-align: left;\">Cumings, Mrs. John Bradley (Florence Briggs Thayer)</td><td style = \"text-align: left;\">female</td><td style = \"text-align: right;\">38.0</td><td style = \"text-align: right;\">1</td><td style = \"text-align: right;\">0</td><td style = \"text-align: left;\">PC 17599</td><td style = \"text-align: right;\">71.2833</td><td style = \"text-align: left;\">C</td></tr><tr><td class = \"rowNumber\" style = \"font-weight: bold; text-align: right;\">3</td><td style = \"text-align: right;\">3</td><td style = \"text-align: right;\">1</td><td style = \"text-align: right;\">3</td><td style = \"text-align: left;\">Heikkinen, Miss. Laina</td><td style = \"text-align: left;\">female</td><td style = \"text-align: right;\">26.0</td><td style = \"text-align: right;\">0</td><td style = \"text-align: right;\">0</td><td style = \"text-align: left;\">STON/O2. 3101282</td><td style = \"text-align: right;\">7.925</td><td style = \"text-align: left;\">S</td></tr><tr><td class = \"rowNumber\" style = \"font-weight: bold; text-align: right;\">4</td><td style = \"text-align: right;\">4</td><td style = \"text-align: right;\">1</td><td style = \"text-align: right;\">1</td><td style = \"text-align: left;\">Futrelle, Mrs. Jacques Heath (Lily May Peel)</td><td style = \"text-align: left;\">female</td><td style = \"text-align: right;\">35.0</td><td style = \"text-align: right;\">1</td><td style = \"text-align: right;\">0</td><td style = \"text-align: left;\">113803</td><td style = \"text-align: right;\">53.1</td><td style = \"text-align: left;\">S</td></tr><tr><td class = \"rowNumber\" style = \"font-weight: bold; text-align: right;\">5</td><td style = \"text-align: right;\">5</td><td style = \"text-align: right;\">0</td><td style = \"text-align: right;\">3</td><td style = \"text-align: left;\">Allen, Mr. William Henry</td><td style = \"text-align: left;\">male</td><td style = \"text-align: right;\">35.0</td><td style = \"text-align: right;\">0</td><td style = \"text-align: right;\">0</td><td style = \"text-align: left;\">373450</td><td style = \"text-align: right;\">8.05</td><td style = \"text-align: left;\">S</td></tr><tr><td class = \"rowNumber\" style = \"font-weight: bold; text-align: right;\">6</td><td style = \"text-align: right;\">6</td><td style = \"text-align: right;\">0</td><td style = \"text-align: right;\">3</td><td style = \"text-align: left;\">Moran, Mr. James</td><td style = \"text-align: left;\">male</td><td style = \"text-align: right;\">28.0</td><td style = \"text-align: right;\">0</td><td style = \"text-align: right;\">0</td><td style = \"text-align: left;\">330877</td><td style = \"text-align: right;\">8.4583</td><td style = \"text-align: left;\">Q</td></tr><tr><td class = \"rowNumber\" style = \"font-weight: bold; text-align: right;\">7</td><td style = \"text-align: right;\">7</td><td style = \"text-align: right;\">0</td><td style = \"text-align: right;\">1</td><td style = \"text-align: left;\">McCarthy, Mr. Timothy J</td><td style = \"text-align: left;\">male</td><td style = \"text-align: right;\">54.0</td><td style = \"text-align: right;\">0</td><td style = \"text-align: right;\">0</td><td style = \"text-align: left;\">17463</td><td style = \"text-align: right;\">51.8625</td><td style = \"text-align: left;\">S</td></tr><tr><td class = \"rowNumber\" style = \"font-weight: bold; text-align: right;\">8</td><td style = \"text-align: right;\">8</td><td style = \"text-align: right;\">0</td><td style = \"text-align: right;\">3</td><td style = \"text-align: left;\">Palsson, Master. Gosta Leonard</td><td style = \"text-align: left;\">male</td><td style = \"text-align: right;\">2.0</td><td style = \"text-align: right;\">3</td><td style = \"text-align: right;\">1</td><td style = \"text-align: left;\">349909</td><td style = \"text-align: right;\">21.075</td><td style = \"text-align: left;\">S</td></tr><tr><td class = \"rowNumber\" style = \"font-weight: bold; text-align: right;\">9</td><td style = \"text-align: right;\">9</td><td style = \"text-align: right;\">1</td><td style = \"text-align: right;\">3</td><td style = \"text-align: left;\">Johnson, Mrs. Oscar W (Elisabeth Vilhelmina Berg)</td><td style = \"text-align: left;\">female</td><td style = \"text-align: right;\">27.0</td><td style = \"text-align: right;\">0</td><td style = \"text-align: right;\">2</td><td style = \"text-align: left;\">347742</td><td style = \"text-align: right;\">11.1333</td><td style = \"text-align: left;\">S</td></tr><tr><td class = \"rowNumber\" style = \"font-weight: bold; text-align: right;\">10</td><td style = \"text-align: right;\">10</td><td style = \"text-align: right;\">1</td><td style = \"text-align: right;\">2</td><td style = \"text-align: left;\">Nasser, Mrs. Nicholas (Adele Achem)</td><td style = \"text-align: left;\">female</td><td style = \"text-align: right;\">14.0</td><td style = \"text-align: right;\">1</td><td style = \"text-align: right;\">0</td><td style = \"text-align: left;\">237736</td><td style = \"text-align: right;\">30.0708</td><td style = \"text-align: left;\">C</td></tr><tr><td class = \"rowNumber\" style = \"font-weight: bold; text-align: right;\">11</td><td style = \"text-align: right;\">11</td><td style = \"text-align: right;\">1</td><td style = \"text-align: right;\">3</td><td style = \"text-align: left;\">Sandstrom, Miss. Marguerite Rut</td><td style = \"text-align: left;\">female</td><td style = \"text-align: right;\">4.0</td><td style = \"text-align: right;\">1</td><td style = \"text-align: right;\">1</td><td style = \"text-align: left;\">PP 9549</td><td style = \"text-align: right;\">16.7</td><td style = \"text-align: left;\">S</td></tr><tr><td class = \"rowNumber\" style = \"font-weight: bold; text-align: right;\">12</td><td style = \"text-align: right;\">12</td><td style = \"text-align: right;\">1</td><td style = \"text-align: right;\">1</td><td style = \"text-align: left;\">Bonnell, Miss. Elizabeth</td><td style = \"text-align: left;\">female</td><td style = \"text-align: right;\">58.0</td><td style = \"text-align: right;\">0</td><td style = \"text-align: right;\">0</td><td style = \"text-align: left;\">113783</td><td style = \"text-align: right;\">26.55</td><td style = \"text-align: left;\">S</td></tr><tr><td class = \"rowNumber\" style = \"font-weight: bold; text-align: right;\">13</td><td style = \"text-align: right;\">13</td><td style = \"text-align: right;\">0</td><td style = \"text-align: right;\">3</td><td style = \"text-align: left;\">Saundercock, Mr. William Henry</td><td style = \"text-align: left;\">male</td><td style = \"text-align: right;\">20.0</td><td style = \"text-align: right;\">0</td><td style = \"text-align: right;\">0</td><td style = \"text-align: left;\">A/5. 2151</td><td style = \"text-align: right;\">8.05</td><td style = \"text-align: left;\">S</td></tr><tr><td style = \"text-align: right;\">&vellip;</td><td style = \"text-align: right;\">&vellip;</td><td style = \"text-align: right;\">&vellip;</td><td style = \"text-align: right;\">&vellip;</td><td style = \"text-align: right;\">&vellip;</td><td style = \"text-align: right;\">&vellip;</td><td style = \"text-align: right;\">&vellip;</td><td style = \"text-align: right;\">&vellip;</td><td style = \"text-align: right;\">&vellip;</td><td style = \"text-align: right;\">&vellip;</td><td style = \"text-align: right;\">&vellip;</td><td style = \"text-align: right;\">&vellip;</td></tr><tr><td class = \"rowNumber\" style = \"font-weight: bold; text-align: right;\">878</td><td style = \"text-align: right;\">880</td><td style = \"text-align: right;\">1</td><td style = \"text-align: right;\">1</td><td style = \"text-align: left;\">Potter, Mrs. Thomas Jr (Lily Alexenia Wilson)</td><td style = \"text-align: left;\">female</td><td style = \"text-align: right;\">56.0</td><td style = \"text-align: right;\">0</td><td style = \"text-align: right;\">1</td><td style = \"text-align: left;\">11767</td><td style = \"text-align: right;\">83.1583</td><td style = \"text-align: left;\">C</td></tr><tr><td class = \"rowNumber\" style = \"font-weight: bold; text-align: right;\">879</td><td style = \"text-align: right;\">881</td><td style = \"text-align: right;\">1</td><td style = \"text-align: right;\">2</td><td style = \"text-align: left;\">Shelley, Mrs. William (Imanita Parrish Hall)</td><td style = \"text-align: left;\">female</td><td style = \"text-align: right;\">25.0</td><td style = \"text-align: right;\">0</td><td style = \"text-align: right;\">1</td><td style = \"text-align: left;\">230433</td><td style = \"text-align: right;\">26.0</td><td style = \"text-align: left;\">S</td></tr><tr><td class = \"rowNumber\" style = \"font-weight: bold; text-align: right;\">880</td><td style = \"text-align: right;\">882</td><td style = \"text-align: right;\">0</td><td style = \"text-align: right;\">3</td><td style = \"text-align: left;\">Markun, Mr. Johann</td><td style = \"text-align: left;\">male</td><td style = \"text-align: right;\">33.0</td><td style = \"text-align: right;\">0</td><td style = \"text-align: right;\">0</td><td style = \"text-align: left;\">349257</td><td style = \"text-align: right;\">7.8958</td><td style = \"text-align: left;\">S</td></tr><tr><td class = \"rowNumber\" style = \"font-weight: bold; text-align: right;\">881</td><td style = \"text-align: right;\">883</td><td style = \"text-align: right;\">0</td><td style = \"text-align: right;\">3</td><td style = \"text-align: left;\">Dahlberg, Miss. Gerda Ulrika</td><td style = \"text-align: left;\">female</td><td style = \"text-align: right;\">22.0</td><td style = \"text-align: right;\">0</td><td style = \"text-align: right;\">0</td><td style = \"text-align: left;\">7552</td><td style = \"text-align: right;\">10.5167</td><td style = \"text-align: left;\">S</td></tr><tr><td class = \"rowNumber\" style = \"font-weight: bold; text-align: right;\">882</td><td style = \"text-align: right;\">884</td><td style = \"text-align: right;\">0</td><td style = \"text-align: right;\">2</td><td style = \"text-align: left;\">Banfield, Mr. Frederick James</td><td style = \"text-align: left;\">male</td><td style = \"text-align: right;\">28.0</td><td style = \"text-align: right;\">0</td><td style = \"text-align: right;\">0</td><td style = \"text-align: left;\">C.A./SOTON 34068</td><td style = \"text-align: right;\">10.5</td><td style = \"text-align: left;\">S</td></tr><tr><td class = \"rowNumber\" style = \"font-weight: bold; text-align: right;\">883</td><td style = \"text-align: right;\">885</td><td style = \"text-align: right;\">0</td><td style = \"text-align: right;\">3</td><td style = \"text-align: left;\">Sutehall, Mr. Henry Jr</td><td style = \"text-align: left;\">male</td><td style = \"text-align: right;\">25.0</td><td style = \"text-align: right;\">0</td><td style = \"text-align: right;\">0</td><td style = \"text-align: left;\">SOTON/OQ 392076</td><td style = \"text-align: right;\">7.05</td><td style = \"text-align: left;\">S</td></tr><tr><td class = \"rowNumber\" style = \"font-weight: bold; text-align: right;\">884</td><td style = \"text-align: right;\">886</td><td style = \"text-align: right;\">0</td><td style = \"text-align: right;\">3</td><td style = \"text-align: left;\">Rice, Mrs. William (Margaret Norton)</td><td style = \"text-align: left;\">female</td><td style = \"text-align: right;\">39.0</td><td style = \"text-align: right;\">0</td><td style = \"text-align: right;\">5</td><td style = \"text-align: left;\">382652</td><td style = \"text-align: right;\">29.125</td><td style = \"text-align: left;\">Q</td></tr><tr><td class = \"rowNumber\" style = \"font-weight: bold; text-align: right;\">885</td><td style = \"text-align: right;\">887</td><td style = \"text-align: right;\">0</td><td style = \"text-align: right;\">2</td><td style = \"text-align: left;\">Montvila, Rev. Juozas</td><td style = \"text-align: left;\">male</td><td style = \"text-align: right;\">27.0</td><td style = \"text-align: right;\">0</td><td style = \"text-align: right;\">0</td><td style = \"text-align: left;\">211536</td><td style = \"text-align: right;\">13.0</td><td style = \"text-align: left;\">S</td></tr><tr><td class = \"rowNumber\" style = \"font-weight: bold; text-align: right;\">886</td><td style = \"text-align: right;\">888</td><td style = \"text-align: right;\">1</td><td style = \"text-align: right;\">1</td><td style = \"text-align: left;\">Graham, Miss. Margaret Edith</td><td style = \"text-align: left;\">female</td><td style = \"text-align: right;\">19.0</td><td style = \"text-align: right;\">0</td><td style = \"text-align: right;\">0</td><td style = \"text-align: left;\">112053</td><td style = \"text-align: right;\">30.0</td><td style = \"text-align: left;\">S</td></tr><tr><td class = \"rowNumber\" style = \"font-weight: bold; text-align: right;\">887</td><td style = \"text-align: right;\">889</td><td style = \"text-align: right;\">0</td><td style = \"text-align: right;\">3</td><td style = \"text-align: left;\">Johnston, Miss. Catherine Helen &quot;Carrie&quot;</td><td style = \"text-align: left;\">female</td><td style = \"text-align: right;\">28.0</td><td style = \"text-align: right;\">1</td><td style = \"text-align: right;\">2</td><td style = \"text-align: left;\">W./C. 6607</td><td style = \"text-align: right;\">23.45</td><td style = \"text-align: left;\">S</td></tr><tr><td class = \"rowNumber\" style = \"font-weight: bold; text-align: right;\">888</td><td style = \"text-align: right;\">890</td><td style = \"text-align: right;\">1</td><td style = \"text-align: right;\">1</td><td style = \"text-align: left;\">Behr, Mr. Karl Howell</td><td style = \"text-align: left;\">male</td><td style = \"text-align: right;\">26.0</td><td style = \"text-align: right;\">0</td><td style = \"text-align: right;\">0</td><td style = \"text-align: left;\">111369</td><td style = \"text-align: right;\">30.0</td><td style = \"text-align: left;\">C</td></tr><tr><td class = \"rowNumber\" style = \"font-weight: bold; text-align: right;\">889</td><td style = \"text-align: right;\">891</td><td style = \"text-align: right;\">0</td><td style = \"text-align: right;\">3</td><td style = \"text-align: left;\">Dooley, Mr. Patrick</td><td style = \"text-align: left;\">male</td><td style = \"text-align: right;\">32.0</td><td style = \"text-align: right;\">0</td><td style = \"text-align: right;\">0</td><td style = \"text-align: left;\">370376</td><td style = \"text-align: right;\">7.75</td><td style = \"text-align: left;\">Q</td></tr></tbody></table></div>"
      ],
      "text/latex": [
       "\\begin{tabular}{r|ccccc}\n",
       "\t& PassengerId & Survived & Pclass & Name & \\\\\n",
       "\t\\hline\n",
       "\t& Int64 & Int64 & Int64 & String & \\\\\n",
       "\t\\hline\n",
       "\t1 & 1 & 0 & 3 & Braund, Mr. Owen Harris & $\\dots$ \\\\\n",
       "\t2 & 2 & 1 & 1 & Cumings, Mrs. John Bradley (Florence Briggs Thayer) & $\\dots$ \\\\\n",
       "\t3 & 3 & 1 & 3 & Heikkinen, Miss. Laina & $\\dots$ \\\\\n",
       "\t4 & 4 & 1 & 1 & Futrelle, Mrs. Jacques Heath (Lily May Peel) & $\\dots$ \\\\\n",
       "\t5 & 5 & 0 & 3 & Allen, Mr. William Henry & $\\dots$ \\\\\n",
       "\t6 & 6 & 0 & 3 & Moran, Mr. James & $\\dots$ \\\\\n",
       "\t7 & 7 & 0 & 1 & McCarthy, Mr. Timothy J & $\\dots$ \\\\\n",
       "\t8 & 8 & 0 & 3 & Palsson, Master. Gosta Leonard & $\\dots$ \\\\\n",
       "\t9 & 9 & 1 & 3 & Johnson, Mrs. Oscar W (Elisabeth Vilhelmina Berg) & $\\dots$ \\\\\n",
       "\t10 & 10 & 1 & 2 & Nasser, Mrs. Nicholas (Adele Achem) & $\\dots$ \\\\\n",
       "\t11 & 11 & 1 & 3 & Sandstrom, Miss. Marguerite Rut & $\\dots$ \\\\\n",
       "\t12 & 12 & 1 & 1 & Bonnell, Miss. Elizabeth & $\\dots$ \\\\\n",
       "\t13 & 13 & 0 & 3 & Saundercock, Mr. William Henry & $\\dots$ \\\\\n",
       "\t14 & 14 & 0 & 3 & Andersson, Mr. Anders Johan & $\\dots$ \\\\\n",
       "\t15 & 15 & 0 & 3 & Vestrom, Miss. Hulda Amanda Adolfina & $\\dots$ \\\\\n",
       "\t16 & 16 & 1 & 2 & Hewlett, Mrs. (Mary D Kingcome)  & $\\dots$ \\\\\n",
       "\t17 & 17 & 0 & 3 & Rice, Master. Eugene & $\\dots$ \\\\\n",
       "\t18 & 18 & 1 & 2 & Williams, Mr. Charles Eugene & $\\dots$ \\\\\n",
       "\t19 & 19 & 0 & 3 & Vander Planke, Mrs. Julius (Emelia Maria Vandemoortele) & $\\dots$ \\\\\n",
       "\t20 & 20 & 1 & 3 & Masselmani, Mrs. Fatima & $\\dots$ \\\\\n",
       "\t21 & 21 & 0 & 2 & Fynney, Mr. Joseph J & $\\dots$ \\\\\n",
       "\t22 & 22 & 1 & 2 & Beesley, Mr. Lawrence & $\\dots$ \\\\\n",
       "\t23 & 23 & 1 & 3 & McGowan, Miss. Anna \"Annie\" & $\\dots$ \\\\\n",
       "\t24 & 24 & 1 & 1 & Sloper, Mr. William Thompson & $\\dots$ \\\\\n",
       "\t25 & 25 & 0 & 3 & Palsson, Miss. Torborg Danira & $\\dots$ \\\\\n",
       "\t26 & 26 & 1 & 3 & Asplund, Mrs. Carl Oscar (Selma Augusta Emilia Johansson) & $\\dots$ \\\\\n",
       "\t27 & 27 & 0 & 3 & Emir, Mr. Farred Chehab & $\\dots$ \\\\\n",
       "\t28 & 28 & 0 & 1 & Fortune, Mr. Charles Alexander & $\\dots$ \\\\\n",
       "\t29 & 29 & 1 & 3 & O'Dwyer, Miss. Ellen \"Nellie\" & $\\dots$ \\\\\n",
       "\t30 & 30 & 0 & 3 & Todoroff, Mr. Lalio & $\\dots$ \\\\\n",
       "\t$\\dots$ & $\\dots$ & $\\dots$ & $\\dots$ & $\\dots$ &  \\\\\n",
       "\\end{tabular}\n"
      ],
      "text/plain": [
       "\u001b[1m889×11 DataFrame\u001b[0m\n",
       "\u001b[1m Row \u001b[0m│\u001b[1m PassengerId \u001b[0m\u001b[1m Survived \u001b[0m\u001b[1m Pclass \u001b[0m\u001b[1m Name                              \u001b[0m\u001b[1m Sex  \u001b[0m ⋯\n",
       "     │\u001b[90m Int64       \u001b[0m\u001b[90m Int64    \u001b[0m\u001b[90m Int64  \u001b[0m\u001b[90m String                            \u001b[0m\u001b[90m Strin\u001b[0m ⋯\n",
       "─────┼──────────────────────────────────────────────────────────────────────────\n",
       "   1 │           1         0       3  Braund, Mr. Owen Harris            male  ⋯\n",
       "   2 │           2         1       1  Cumings, Mrs. John Bradley (Flor…  femal\n",
       "   3 │           3         1       3  Heikkinen, Miss. Laina             femal\n",
       "   4 │           4         1       1  Futrelle, Mrs. Jacques Heath (Li…  femal\n",
       "   5 │           5         0       3  Allen, Mr. William Henry           male  ⋯\n",
       "   6 │           6         0       3  Moran, Mr. James                   male\n",
       "   7 │           7         0       1  McCarthy, Mr. Timothy J            male\n",
       "   8 │           8         0       3  Palsson, Master. Gosta Leonard     male\n",
       "   9 │           9         1       3  Johnson, Mrs. Oscar W (Elisabeth…  femal ⋯\n",
       "  10 │          10         1       2  Nasser, Mrs. Nicholas (Adele Ach…  femal\n",
       "  11 │          11         1       3  Sandstrom, Miss. Marguerite Rut    femal\n",
       "  ⋮  │      ⋮          ⋮        ⋮                     ⋮                     ⋮  ⋱\n",
       " 880 │         882         0       3  Markun, Mr. Johann                 male\n",
       " 881 │         883         0       3  Dahlberg, Miss. Gerda Ulrika       femal ⋯\n",
       " 882 │         884         0       2  Banfield, Mr. Frederick James      male\n",
       " 883 │         885         0       3  Sutehall, Mr. Henry Jr             male\n",
       " 884 │         886         0       3  Rice, Mrs. William (Margaret Nor…  femal\n",
       " 885 │         887         0       2  Montvila, Rev. Juozas              male  ⋯\n",
       " 886 │         888         1       1  Graham, Miss. Margaret Edith       femal\n",
       " 887 │         889         0       3  Johnston, Miss. Catherine Helen …  femal\n",
       " 888 │         890         1       1  Behr, Mr. Karl Howell              male\n",
       " 889 │         891         0       3  Dooley, Mr. Patrick                male  ⋯\n",
       "\u001b[36m                                                  7 columns and 868 rows omitted\u001b[0m"
      ]
     },
     "execution_count": 30,
     "metadata": {},
     "output_type": "execute_result"
    }
   ],
   "source": [
    "# Process columns with missing values\n",
    "\n",
    "# Remove rows with missing Embarked because it's just two rows\n",
    "dropmissing!(train_df,\"Embarked\")\n",
    "\n",
    "# Fill missing Age with median age which is 28\n",
    "train_df.Age = replace(train_df.Age,missing=>28)\n",
    "\n",
    "# 'Cabin' column has too many missing values (more than 50%), \n",
    "# so perhaps better to remove it at all\n",
    "train_df = select(train_df,Not([\"Cabin\"]))"
   ]
  },
  {
   "cell_type": "code",
   "execution_count": 31,
   "id": "3e7a9f7d",
   "metadata": {},
   "outputs": [
    {
     "data": {
      "text/html": [
       "<div><div style = \"float: left;\"><span>3×2 DataFrame</span></div><div style = \"clear: both;\"></div></div><div class = \"data-frame\" style = \"overflow-x: scroll;\"><table class = \"data-frame\" style = \"margin-bottom: 6px;\"><thead><tr class = \"header\"><th class = \"rowNumber\" style = \"font-weight: bold; text-align: right;\">Row</th><th style = \"text-align: left;\">Embarked</th><th style = \"text-align: left;\">Count</th></tr><tr class = \"subheader headerLastRow\"><th class = \"rowNumber\" style = \"font-weight: bold; text-align: right;\"></th><th title = \"String1\" style = \"text-align: left;\">String1</th><th title = \"Int64\" style = \"text-align: left;\">Int64</th></tr></thead><tbody><tr><td class = \"rowNumber\" style = \"font-weight: bold; text-align: right;\">1</td><td style = \"text-align: left;\">S</td><td style = \"text-align: right;\">644</td></tr><tr><td class = \"rowNumber\" style = \"font-weight: bold; text-align: right;\">2</td><td style = \"text-align: left;\">C</td><td style = \"text-align: right;\">168</td></tr><tr><td class = \"rowNumber\" style = \"font-weight: bold; text-align: right;\">3</td><td style = \"text-align: left;\">Q</td><td style = \"text-align: right;\">77</td></tr></tbody></table></div>"
      ],
      "text/latex": [
       "\\begin{tabular}{r|cc}\n",
       "\t& Embarked & Count\\\\\n",
       "\t\\hline\n",
       "\t& String1 & Int64\\\\\n",
       "\t\\hline\n",
       "\t1 & S & 644 \\\\\n",
       "\t2 & C & 168 \\\\\n",
       "\t3 & Q & 77 \\\\\n",
       "\\end{tabular}\n"
      ],
      "text/plain": [
       "\u001b[1m3×2 DataFrame\u001b[0m\n",
       "\u001b[1m Row \u001b[0m│\u001b[1m Embarked \u001b[0m\u001b[1m Count \u001b[0m\n",
       "     │\u001b[90m String1  \u001b[0m\u001b[90m Int64 \u001b[0m\n",
       "─────┼─────────────────\n",
       "   1 │ S           644\n",
       "   2 │ C           168\n",
       "   3 │ Q            77"
      ]
     },
     "execution_count": 31,
     "metadata": {},
     "output_type": "execute_result"
    }
   ],
   "source": [
    "# Process categorial columns\n",
    "\n",
    "# Group by Embarked columns to see which categories it has\n",
    "# and number of rows in each category\n",
    "embarked_group = groupby(train_df,\"Embarked\")\n",
    "combine(embarked_group, nrow=>\"Count\")"
   ]
  },
  {
   "cell_type": "code",
   "execution_count": 32,
   "id": "8be9fb29",
   "metadata": {},
   "outputs": [
    {
     "data": {
      "text/plain": [
       "889-element Vector{Int64}:\n",
       " 1\n",
       " 2\n",
       " 1\n",
       " 1\n",
       " 1\n",
       " 3\n",
       " 1\n",
       " 1\n",
       " 1\n",
       " 2\n",
       " 1\n",
       " 1\n",
       " 1\n",
       " ⋮\n",
       " 2\n",
       " 1\n",
       " 1\n",
       " 1\n",
       " 1\n",
       " 1\n",
       " 3\n",
       " 1\n",
       " 1\n",
       " 1\n",
       " 2\n",
       " 3"
      ]
     },
     "execution_count": 32,
     "metadata": {},
     "output_type": "execute_result"
    }
   ],
   "source": [
    "# Encode and convert possible categories to numbers\n",
    "train_df.Embarked = Int64.(replace(train_df.Embarked, \"S\" => 1, \"C\" => 2, \"Q\" => 3))"
   ]
  },
  {
   "cell_type": "code",
   "execution_count": 33,
   "id": "8504b004",
   "metadata": {},
   "outputs": [
    {
     "data": {
      "text/html": [
       "<div><div style = \"float: left;\"><span>2×2 DataFrame</span></div><div style = \"clear: both;\"></div></div><div class = \"data-frame\" style = \"overflow-x: scroll;\"><table class = \"data-frame\" style = \"margin-bottom: 6px;\"><thead><tr class = \"header\"><th class = \"rowNumber\" style = \"font-weight: bold; text-align: right;\">Row</th><th style = \"text-align: left;\">Sex</th><th style = \"text-align: left;\">Count</th></tr><tr class = \"subheader headerLastRow\"><th class = \"rowNumber\" style = \"font-weight: bold; text-align: right;\"></th><th title = \"String7\" style = \"text-align: left;\">String7</th><th title = \"Int64\" style = \"text-align: left;\">Int64</th></tr></thead><tbody><tr><td class = \"rowNumber\" style = \"font-weight: bold; text-align: right;\">1</td><td style = \"text-align: left;\">male</td><td style = \"text-align: right;\">577</td></tr><tr><td class = \"rowNumber\" style = \"font-weight: bold; text-align: right;\">2</td><td style = \"text-align: left;\">female</td><td style = \"text-align: right;\">312</td></tr></tbody></table></div>"
      ],
      "text/latex": [
       "\\begin{tabular}{r|cc}\n",
       "\t& Sex & Count\\\\\n",
       "\t\\hline\n",
       "\t& String7 & Int64\\\\\n",
       "\t\\hline\n",
       "\t1 & male & 577 \\\\\n",
       "\t2 & female & 312 \\\\\n",
       "\\end{tabular}\n"
      ],
      "text/plain": [
       "\u001b[1m2×2 DataFrame\u001b[0m\n",
       "\u001b[1m Row \u001b[0m│\u001b[1m Sex     \u001b[0m\u001b[1m Count \u001b[0m\n",
       "     │\u001b[90m String7 \u001b[0m\u001b[90m Int64 \u001b[0m\n",
       "─────┼────────────────\n",
       "   1 │ male       577\n",
       "   2 │ female     312"
      ]
     },
     "execution_count": 33,
     "metadata": {},
     "output_type": "execute_result"
    }
   ],
   "source": [
    "# The same with Sex column\n",
    "combine(groupby(train_df,\"Sex\"), nrow=>\"Count\")"
   ]
  },
  {
   "cell_type": "code",
   "execution_count": 34,
   "id": "ed1fab58",
   "metadata": {},
   "outputs": [
    {
     "data": {
      "text/plain": [
       "889-element Vector{Int64}:\n",
       " 2\n",
       " 1\n",
       " 1\n",
       " 1\n",
       " 2\n",
       " 2\n",
       " 2\n",
       " 2\n",
       " 1\n",
       " 1\n",
       " 1\n",
       " 1\n",
       " 2\n",
       " ⋮\n",
       " 1\n",
       " 1\n",
       " 2\n",
       " 1\n",
       " 2\n",
       " 2\n",
       " 1\n",
       " 2\n",
       " 1\n",
       " 1\n",
       " 2\n",
       " 2"
      ]
     },
     "execution_count": 34,
     "metadata": {},
     "output_type": "execute_result"
    }
   ],
   "source": [
    "train_df.Sex = Int64.(replace(train_df.Sex, \"female\" => 1, \"male\" => 2))"
   ]
  },
  {
   "cell_type": "code",
   "execution_count": 35,
   "id": "46229b7f",
   "metadata": {},
   "outputs": [
    {
     "data": {
      "text/html": [
       "<div><div style = \"float: left;\"><span>680×2 DataFrame</span></div><div style = \"float: right;\"><span style = \"font-style: italic;\">655 rows omitted</span></div><div style = \"clear: both;\"></div></div><div class = \"data-frame\" style = \"overflow-x: scroll;\"><table class = \"data-frame\" style = \"margin-bottom: 6px;\"><thead><tr class = \"header\"><th class = \"rowNumber\" style = \"font-weight: bold; text-align: right;\">Row</th><th style = \"text-align: left;\">Ticket</th><th style = \"text-align: left;\">Count</th></tr><tr class = \"subheader headerLastRow\"><th class = \"rowNumber\" style = \"font-weight: bold; text-align: right;\"></th><th title = \"String31\" style = \"text-align: left;\">String31</th><th title = \"Int64\" style = \"text-align: left;\">Int64</th></tr></thead><tbody><tr><td class = \"rowNumber\" style = \"font-weight: bold; text-align: right;\">1</td><td style = \"text-align: left;\">A/5 21171</td><td style = \"text-align: right;\">1</td></tr><tr><td class = \"rowNumber\" style = \"font-weight: bold; text-align: right;\">2</td><td style = \"text-align: left;\">PC 17599</td><td style = \"text-align: right;\">1</td></tr><tr><td class = \"rowNumber\" style = \"font-weight: bold; text-align: right;\">3</td><td style = \"text-align: left;\">STON/O2. 3101282</td><td style = \"text-align: right;\">1</td></tr><tr><td class = \"rowNumber\" style = \"font-weight: bold; text-align: right;\">4</td><td style = \"text-align: left;\">113803</td><td style = \"text-align: right;\">2</td></tr><tr><td class = \"rowNumber\" style = \"font-weight: bold; text-align: right;\">5</td><td style = \"text-align: left;\">373450</td><td style = \"text-align: right;\">1</td></tr><tr><td class = \"rowNumber\" style = \"font-weight: bold; text-align: right;\">6</td><td style = \"text-align: left;\">330877</td><td style = \"text-align: right;\">1</td></tr><tr><td class = \"rowNumber\" style = \"font-weight: bold; text-align: right;\">7</td><td style = \"text-align: left;\">17463</td><td style = \"text-align: right;\">1</td></tr><tr><td class = \"rowNumber\" style = \"font-weight: bold; text-align: right;\">8</td><td style = \"text-align: left;\">349909</td><td style = \"text-align: right;\">4</td></tr><tr><td class = \"rowNumber\" style = \"font-weight: bold; text-align: right;\">9</td><td style = \"text-align: left;\">347742</td><td style = \"text-align: right;\">3</td></tr><tr><td class = \"rowNumber\" style = \"font-weight: bold; text-align: right;\">10</td><td style = \"text-align: left;\">237736</td><td style = \"text-align: right;\">2</td></tr><tr><td class = \"rowNumber\" style = \"font-weight: bold; text-align: right;\">11</td><td style = \"text-align: left;\">PP 9549</td><td style = \"text-align: right;\">2</td></tr><tr><td class = \"rowNumber\" style = \"font-weight: bold; text-align: right;\">12</td><td style = \"text-align: left;\">113783</td><td style = \"text-align: right;\">1</td></tr><tr><td class = \"rowNumber\" style = \"font-weight: bold; text-align: right;\">13</td><td style = \"text-align: left;\">A/5. 2151</td><td style = \"text-align: right;\">1</td></tr><tr><td style = \"text-align: right;\">&vellip;</td><td style = \"text-align: right;\">&vellip;</td><td style = \"text-align: right;\">&vellip;</td></tr><tr><td class = \"rowNumber\" style = \"font-weight: bold; text-align: right;\">669</td><td style = \"text-align: left;\">345765</td><td style = \"text-align: right;\">1</td></tr><tr><td class = \"rowNumber\" style = \"font-weight: bold; text-align: right;\">670</td><td style = \"text-align: left;\">2667</td><td style = \"text-align: right;\">1</td></tr><tr><td class = \"rowNumber\" style = \"font-weight: bold; text-align: right;\">671</td><td style = \"text-align: left;\">349212</td><td style = \"text-align: right;\">1</td></tr><tr><td class = \"rowNumber\" style = \"font-weight: bold; text-align: right;\">672</td><td style = \"text-align: left;\">349217</td><td style = \"text-align: right;\">1</td></tr><tr><td class = \"rowNumber\" style = \"font-weight: bold; text-align: right;\">673</td><td style = \"text-align: left;\">349257</td><td style = \"text-align: right;\">1</td></tr><tr><td class = \"rowNumber\" style = \"font-weight: bold; text-align: right;\">674</td><td style = \"text-align: left;\">7552</td><td style = \"text-align: right;\">1</td></tr><tr><td class = \"rowNumber\" style = \"font-weight: bold; text-align: right;\">675</td><td style = \"text-align: left;\">C.A./SOTON 34068</td><td style = \"text-align: right;\">1</td></tr><tr><td class = \"rowNumber\" style = \"font-weight: bold; text-align: right;\">676</td><td style = \"text-align: left;\">SOTON/OQ 392076</td><td style = \"text-align: right;\">1</td></tr><tr><td class = \"rowNumber\" style = \"font-weight: bold; text-align: right;\">677</td><td style = \"text-align: left;\">211536</td><td style = \"text-align: right;\">1</td></tr><tr><td class = \"rowNumber\" style = \"font-weight: bold; text-align: right;\">678</td><td style = \"text-align: left;\">112053</td><td style = \"text-align: right;\">1</td></tr><tr><td class = \"rowNumber\" style = \"font-weight: bold; text-align: right;\">679</td><td style = \"text-align: left;\">111369</td><td style = \"text-align: right;\">1</td></tr><tr><td class = \"rowNumber\" style = \"font-weight: bold; text-align: right;\">680</td><td style = \"text-align: left;\">370376</td><td style = \"text-align: right;\">1</td></tr></tbody></table></div>"
      ],
      "text/latex": [
       "\\begin{tabular}{r|cc}\n",
       "\t& Ticket & Count\\\\\n",
       "\t\\hline\n",
       "\t& String31 & Int64\\\\\n",
       "\t\\hline\n",
       "\t1 & A/5 21171 & 1 \\\\\n",
       "\t2 & PC 17599 & 1 \\\\\n",
       "\t3 & STON/O2. 3101282 & 1 \\\\\n",
       "\t4 & 113803 & 2 \\\\\n",
       "\t5 & 373450 & 1 \\\\\n",
       "\t6 & 330877 & 1 \\\\\n",
       "\t7 & 17463 & 1 \\\\\n",
       "\t8 & 349909 & 4 \\\\\n",
       "\t9 & 347742 & 3 \\\\\n",
       "\t10 & 237736 & 2 \\\\\n",
       "\t11 & PP 9549 & 2 \\\\\n",
       "\t12 & 113783 & 1 \\\\\n",
       "\t13 & A/5. 2151 & 1 \\\\\n",
       "\t14 & 347082 & 7 \\\\\n",
       "\t15 & 350406 & 1 \\\\\n",
       "\t16 & 248706 & 1 \\\\\n",
       "\t17 & 382652 & 5 \\\\\n",
       "\t18 & 244373 & 1 \\\\\n",
       "\t19 & 345763 & 1 \\\\\n",
       "\t20 & 2649 & 1 \\\\\n",
       "\t21 & 239865 & 2 \\\\\n",
       "\t22 & 248698 & 1 \\\\\n",
       "\t23 & 330923 & 1 \\\\\n",
       "\t24 & 113788 & 1 \\\\\n",
       "\t25 & 347077 & 4 \\\\\n",
       "\t26 & 2631 & 1 \\\\\n",
       "\t27 & 19950 & 4 \\\\\n",
       "\t28 & 330959 & 1 \\\\\n",
       "\t29 & 349216 & 1 \\\\\n",
       "\t30 & PC 17601 & 1 \\\\\n",
       "\t$\\dots$ & $\\dots$ & $\\dots$ \\\\\n",
       "\\end{tabular}\n"
      ],
      "text/plain": [
       "\u001b[1m680×2 DataFrame\u001b[0m\n",
       "\u001b[1m Row \u001b[0m│\u001b[1m Ticket           \u001b[0m\u001b[1m Count \u001b[0m\n",
       "     │\u001b[90m String31         \u001b[0m\u001b[90m Int64 \u001b[0m\n",
       "─────┼─────────────────────────\n",
       "   1 │ A/5 21171             1\n",
       "   2 │ PC 17599              1\n",
       "   3 │ STON/O2. 3101282      1\n",
       "   4 │ 113803                2\n",
       "   5 │ 373450                1\n",
       "   6 │ 330877                1\n",
       "   7 │ 17463                 1\n",
       "   8 │ 349909                4\n",
       "   9 │ 347742                3\n",
       "  10 │ 237736                2\n",
       "  11 │ PP 9549               2\n",
       "  ⋮  │        ⋮            ⋮\n",
       " 671 │ 349212                1\n",
       " 672 │ 349217                1\n",
       " 673 │ 349257                1\n",
       " 674 │ 7552                  1\n",
       " 675 │ C.A./SOTON 34068      1\n",
       " 676 │ SOTON/OQ 392076       1\n",
       " 677 │ 211536                1\n",
       " 678 │ 112053                1\n",
       " 679 │ 111369                1\n",
       " 680 │ 370376                1\n",
       "\u001b[36m               659 rows omitted\u001b[0m"
      ]
     },
     "execution_count": 35,
     "metadata": {},
     "output_type": "execute_result"
    }
   ],
   "source": [
    "# Lets see the same for Ticket column\n",
    "combine(groupby(train_df,\"Ticket\"), nrow=>\"Count\")"
   ]
  },
  {
   "cell_type": "code",
   "execution_count": 36,
   "id": "413f859e",
   "metadata": {},
   "outputs": [
    {
     "data": {
      "text/html": [
       "<div><div style = \"float: left;\"><span>889×10 DataFrame</span></div><div style = \"float: right;\"><span style = \"font-style: italic;\">864 rows omitted</span></div><div style = \"clear: both;\"></div></div><div class = \"data-frame\" style = \"overflow-x: scroll;\"><table class = \"data-frame\" style = \"margin-bottom: 6px;\"><thead><tr class = \"header\"><th class = \"rowNumber\" style = \"font-weight: bold; text-align: right;\">Row</th><th style = \"text-align: left;\">PassengerId</th><th style = \"text-align: left;\">Survived</th><th style = \"text-align: left;\">Pclass</th><th style = \"text-align: left;\">Name</th><th style = \"text-align: left;\">Sex</th><th style = \"text-align: left;\">Age</th><th style = \"text-align: left;\">SibSp</th><th style = \"text-align: left;\">Parch</th><th style = \"text-align: left;\">Fare</th><th style = \"text-align: left;\">Embarked</th></tr><tr class = \"subheader headerLastRow\"><th class = \"rowNumber\" style = \"font-weight: bold; text-align: right;\"></th><th title = \"Int64\" style = \"text-align: left;\">Int64</th><th title = \"Int64\" style = \"text-align: left;\">Int64</th><th title = \"Int64\" style = \"text-align: left;\">Int64</th><th title = \"String\" style = \"text-align: left;\">String</th><th title = \"Int64\" style = \"text-align: left;\">Int64</th><th title = \"Float64\" style = \"text-align: left;\">Float64</th><th title = \"Int64\" style = \"text-align: left;\">Int64</th><th title = \"Int64\" style = \"text-align: left;\">Int64</th><th title = \"Float64\" style = \"text-align: left;\">Float64</th><th title = \"Int64\" style = \"text-align: left;\">Int64</th></tr></thead><tbody><tr><td class = \"rowNumber\" style = \"font-weight: bold; text-align: right;\">1</td><td style = \"text-align: right;\">1</td><td style = \"text-align: right;\">0</td><td style = \"text-align: right;\">3</td><td style = \"text-align: left;\">Braund, Mr. Owen Harris</td><td style = \"text-align: right;\">2</td><td style = \"text-align: right;\">22.0</td><td style = \"text-align: right;\">1</td><td style = \"text-align: right;\">0</td><td style = \"text-align: right;\">7.25</td><td style = \"text-align: right;\">1</td></tr><tr><td class = \"rowNumber\" style = \"font-weight: bold; text-align: right;\">2</td><td style = \"text-align: right;\">2</td><td style = \"text-align: right;\">1</td><td style = \"text-align: right;\">1</td><td style = \"text-align: left;\">Cumings, Mrs. John Bradley (Florence Briggs Thayer)</td><td style = \"text-align: right;\">1</td><td style = \"text-align: right;\">38.0</td><td style = \"text-align: right;\">1</td><td style = \"text-align: right;\">0</td><td style = \"text-align: right;\">71.2833</td><td style = \"text-align: right;\">2</td></tr><tr><td class = \"rowNumber\" style = \"font-weight: bold; text-align: right;\">3</td><td style = \"text-align: right;\">3</td><td style = \"text-align: right;\">1</td><td style = \"text-align: right;\">3</td><td style = \"text-align: left;\">Heikkinen, Miss. Laina</td><td style = \"text-align: right;\">1</td><td style = \"text-align: right;\">26.0</td><td style = \"text-align: right;\">0</td><td style = \"text-align: right;\">0</td><td style = \"text-align: right;\">7.925</td><td style = \"text-align: right;\">1</td></tr><tr><td class = \"rowNumber\" style = \"font-weight: bold; text-align: right;\">4</td><td style = \"text-align: right;\">4</td><td style = \"text-align: right;\">1</td><td style = \"text-align: right;\">1</td><td style = \"text-align: left;\">Futrelle, Mrs. Jacques Heath (Lily May Peel)</td><td style = \"text-align: right;\">1</td><td style = \"text-align: right;\">35.0</td><td style = \"text-align: right;\">1</td><td style = \"text-align: right;\">0</td><td style = \"text-align: right;\">53.1</td><td style = \"text-align: right;\">1</td></tr><tr><td class = \"rowNumber\" style = \"font-weight: bold; text-align: right;\">5</td><td style = \"text-align: right;\">5</td><td style = \"text-align: right;\">0</td><td style = \"text-align: right;\">3</td><td style = \"text-align: left;\">Allen, Mr. William Henry</td><td style = \"text-align: right;\">2</td><td style = \"text-align: right;\">35.0</td><td style = \"text-align: right;\">0</td><td style = \"text-align: right;\">0</td><td style = \"text-align: right;\">8.05</td><td style = \"text-align: right;\">1</td></tr><tr><td class = \"rowNumber\" style = \"font-weight: bold; text-align: right;\">6</td><td style = \"text-align: right;\">6</td><td style = \"text-align: right;\">0</td><td style = \"text-align: right;\">3</td><td style = \"text-align: left;\">Moran, Mr. James</td><td style = \"text-align: right;\">2</td><td style = \"text-align: right;\">28.0</td><td style = \"text-align: right;\">0</td><td style = \"text-align: right;\">0</td><td style = \"text-align: right;\">8.4583</td><td style = \"text-align: right;\">3</td></tr><tr><td class = \"rowNumber\" style = \"font-weight: bold; text-align: right;\">7</td><td style = \"text-align: right;\">7</td><td style = \"text-align: right;\">0</td><td style = \"text-align: right;\">1</td><td style = \"text-align: left;\">McCarthy, Mr. Timothy J</td><td style = \"text-align: right;\">2</td><td style = \"text-align: right;\">54.0</td><td style = \"text-align: right;\">0</td><td style = \"text-align: right;\">0</td><td style = \"text-align: right;\">51.8625</td><td style = \"text-align: right;\">1</td></tr><tr><td class = \"rowNumber\" style = \"font-weight: bold; text-align: right;\">8</td><td style = \"text-align: right;\">8</td><td style = \"text-align: right;\">0</td><td style = \"text-align: right;\">3</td><td style = \"text-align: left;\">Palsson, Master. Gosta Leonard</td><td style = \"text-align: right;\">2</td><td style = \"text-align: right;\">2.0</td><td style = \"text-align: right;\">3</td><td style = \"text-align: right;\">1</td><td style = \"text-align: right;\">21.075</td><td style = \"text-align: right;\">1</td></tr><tr><td class = \"rowNumber\" style = \"font-weight: bold; text-align: right;\">9</td><td style = \"text-align: right;\">9</td><td style = \"text-align: right;\">1</td><td style = \"text-align: right;\">3</td><td style = \"text-align: left;\">Johnson, Mrs. Oscar W (Elisabeth Vilhelmina Berg)</td><td style = \"text-align: right;\">1</td><td style = \"text-align: right;\">27.0</td><td style = \"text-align: right;\">0</td><td style = \"text-align: right;\">2</td><td style = \"text-align: right;\">11.1333</td><td style = \"text-align: right;\">1</td></tr><tr><td class = \"rowNumber\" style = \"font-weight: bold; text-align: right;\">10</td><td style = \"text-align: right;\">10</td><td style = \"text-align: right;\">1</td><td style = \"text-align: right;\">2</td><td style = \"text-align: left;\">Nasser, Mrs. Nicholas (Adele Achem)</td><td style = \"text-align: right;\">1</td><td style = \"text-align: right;\">14.0</td><td style = \"text-align: right;\">1</td><td style = \"text-align: right;\">0</td><td style = \"text-align: right;\">30.0708</td><td style = \"text-align: right;\">2</td></tr><tr><td class = \"rowNumber\" style = \"font-weight: bold; text-align: right;\">11</td><td style = \"text-align: right;\">11</td><td style = \"text-align: right;\">1</td><td style = \"text-align: right;\">3</td><td style = \"text-align: left;\">Sandstrom, Miss. Marguerite Rut</td><td style = \"text-align: right;\">1</td><td style = \"text-align: right;\">4.0</td><td style = \"text-align: right;\">1</td><td style = \"text-align: right;\">1</td><td style = \"text-align: right;\">16.7</td><td style = \"text-align: right;\">1</td></tr><tr><td class = \"rowNumber\" style = \"font-weight: bold; text-align: right;\">12</td><td style = \"text-align: right;\">12</td><td style = \"text-align: right;\">1</td><td style = \"text-align: right;\">1</td><td style = \"text-align: left;\">Bonnell, Miss. Elizabeth</td><td style = \"text-align: right;\">1</td><td style = \"text-align: right;\">58.0</td><td style = \"text-align: right;\">0</td><td style = \"text-align: right;\">0</td><td style = \"text-align: right;\">26.55</td><td style = \"text-align: right;\">1</td></tr><tr><td class = \"rowNumber\" style = \"font-weight: bold; text-align: right;\">13</td><td style = \"text-align: right;\">13</td><td style = \"text-align: right;\">0</td><td style = \"text-align: right;\">3</td><td style = \"text-align: left;\">Saundercock, Mr. William Henry</td><td style = \"text-align: right;\">2</td><td style = \"text-align: right;\">20.0</td><td style = \"text-align: right;\">0</td><td style = \"text-align: right;\">0</td><td style = \"text-align: right;\">8.05</td><td style = \"text-align: right;\">1</td></tr><tr><td style = \"text-align: right;\">&vellip;</td><td style = \"text-align: right;\">&vellip;</td><td style = \"text-align: right;\">&vellip;</td><td style = \"text-align: right;\">&vellip;</td><td style = \"text-align: right;\">&vellip;</td><td style = \"text-align: right;\">&vellip;</td><td style = \"text-align: right;\">&vellip;</td><td style = \"text-align: right;\">&vellip;</td><td style = \"text-align: right;\">&vellip;</td><td style = \"text-align: right;\">&vellip;</td><td style = \"text-align: right;\">&vellip;</td></tr><tr><td class = \"rowNumber\" style = \"font-weight: bold; text-align: right;\">878</td><td style = \"text-align: right;\">880</td><td style = \"text-align: right;\">1</td><td style = \"text-align: right;\">1</td><td style = \"text-align: left;\">Potter, Mrs. Thomas Jr (Lily Alexenia Wilson)</td><td style = \"text-align: right;\">1</td><td style = \"text-align: right;\">56.0</td><td style = \"text-align: right;\">0</td><td style = \"text-align: right;\">1</td><td style = \"text-align: right;\">83.1583</td><td style = \"text-align: right;\">2</td></tr><tr><td class = \"rowNumber\" style = \"font-weight: bold; text-align: right;\">879</td><td style = \"text-align: right;\">881</td><td style = \"text-align: right;\">1</td><td style = \"text-align: right;\">2</td><td style = \"text-align: left;\">Shelley, Mrs. William (Imanita Parrish Hall)</td><td style = \"text-align: right;\">1</td><td style = \"text-align: right;\">25.0</td><td style = \"text-align: right;\">0</td><td style = \"text-align: right;\">1</td><td style = \"text-align: right;\">26.0</td><td style = \"text-align: right;\">1</td></tr><tr><td class = \"rowNumber\" style = \"font-weight: bold; text-align: right;\">880</td><td style = \"text-align: right;\">882</td><td style = \"text-align: right;\">0</td><td style = \"text-align: right;\">3</td><td style = \"text-align: left;\">Markun, Mr. Johann</td><td style = \"text-align: right;\">2</td><td style = \"text-align: right;\">33.0</td><td style = \"text-align: right;\">0</td><td style = \"text-align: right;\">0</td><td style = \"text-align: right;\">7.8958</td><td style = \"text-align: right;\">1</td></tr><tr><td class = \"rowNumber\" style = \"font-weight: bold; text-align: right;\">881</td><td style = \"text-align: right;\">883</td><td style = \"text-align: right;\">0</td><td style = \"text-align: right;\">3</td><td style = \"text-align: left;\">Dahlberg, Miss. Gerda Ulrika</td><td style = \"text-align: right;\">1</td><td style = \"text-align: right;\">22.0</td><td style = \"text-align: right;\">0</td><td style = \"text-align: right;\">0</td><td style = \"text-align: right;\">10.5167</td><td style = \"text-align: right;\">1</td></tr><tr><td class = \"rowNumber\" style = \"font-weight: bold; text-align: right;\">882</td><td style = \"text-align: right;\">884</td><td style = \"text-align: right;\">0</td><td style = \"text-align: right;\">2</td><td style = \"text-align: left;\">Banfield, Mr. Frederick James</td><td style = \"text-align: right;\">2</td><td style = \"text-align: right;\">28.0</td><td style = \"text-align: right;\">0</td><td style = \"text-align: right;\">0</td><td style = \"text-align: right;\">10.5</td><td style = \"text-align: right;\">1</td></tr><tr><td class = \"rowNumber\" style = \"font-weight: bold; text-align: right;\">883</td><td style = \"text-align: right;\">885</td><td style = \"text-align: right;\">0</td><td style = \"text-align: right;\">3</td><td style = \"text-align: left;\">Sutehall, Mr. Henry Jr</td><td style = \"text-align: right;\">2</td><td style = \"text-align: right;\">25.0</td><td style = \"text-align: right;\">0</td><td style = \"text-align: right;\">0</td><td style = \"text-align: right;\">7.05</td><td style = \"text-align: right;\">1</td></tr><tr><td class = \"rowNumber\" style = \"font-weight: bold; text-align: right;\">884</td><td style = \"text-align: right;\">886</td><td style = \"text-align: right;\">0</td><td style = \"text-align: right;\">3</td><td style = \"text-align: left;\">Rice, Mrs. William (Margaret Norton)</td><td style = \"text-align: right;\">1</td><td style = \"text-align: right;\">39.0</td><td style = \"text-align: right;\">0</td><td style = \"text-align: right;\">5</td><td style = \"text-align: right;\">29.125</td><td style = \"text-align: right;\">3</td></tr><tr><td class = \"rowNumber\" style = \"font-weight: bold; text-align: right;\">885</td><td style = \"text-align: right;\">887</td><td style = \"text-align: right;\">0</td><td style = \"text-align: right;\">2</td><td style = \"text-align: left;\">Montvila, Rev. Juozas</td><td style = \"text-align: right;\">2</td><td style = \"text-align: right;\">27.0</td><td style = \"text-align: right;\">0</td><td style = \"text-align: right;\">0</td><td style = \"text-align: right;\">13.0</td><td style = \"text-align: right;\">1</td></tr><tr><td class = \"rowNumber\" style = \"font-weight: bold; text-align: right;\">886</td><td style = \"text-align: right;\">888</td><td style = \"text-align: right;\">1</td><td style = \"text-align: right;\">1</td><td style = \"text-align: left;\">Graham, Miss. Margaret Edith</td><td style = \"text-align: right;\">1</td><td style = \"text-align: right;\">19.0</td><td style = \"text-align: right;\">0</td><td style = \"text-align: right;\">0</td><td style = \"text-align: right;\">30.0</td><td style = \"text-align: right;\">1</td></tr><tr><td class = \"rowNumber\" style = \"font-weight: bold; text-align: right;\">887</td><td style = \"text-align: right;\">889</td><td style = \"text-align: right;\">0</td><td style = \"text-align: right;\">3</td><td style = \"text-align: left;\">Johnston, Miss. Catherine Helen &quot;Carrie&quot;</td><td style = \"text-align: right;\">1</td><td style = \"text-align: right;\">28.0</td><td style = \"text-align: right;\">1</td><td style = \"text-align: right;\">2</td><td style = \"text-align: right;\">23.45</td><td style = \"text-align: right;\">1</td></tr><tr><td class = \"rowNumber\" style = \"font-weight: bold; text-align: right;\">888</td><td style = \"text-align: right;\">890</td><td style = \"text-align: right;\">1</td><td style = \"text-align: right;\">1</td><td style = \"text-align: left;\">Behr, Mr. Karl Howell</td><td style = \"text-align: right;\">2</td><td style = \"text-align: right;\">26.0</td><td style = \"text-align: right;\">0</td><td style = \"text-align: right;\">0</td><td style = \"text-align: right;\">30.0</td><td style = \"text-align: right;\">2</td></tr><tr><td class = \"rowNumber\" style = \"font-weight: bold; text-align: right;\">889</td><td style = \"text-align: right;\">891</td><td style = \"text-align: right;\">0</td><td style = \"text-align: right;\">3</td><td style = \"text-align: left;\">Dooley, Mr. Patrick</td><td style = \"text-align: right;\">2</td><td style = \"text-align: right;\">32.0</td><td style = \"text-align: right;\">0</td><td style = \"text-align: right;\">0</td><td style = \"text-align: right;\">7.75</td><td style = \"text-align: right;\">3</td></tr></tbody></table></div>"
      ],
      "text/latex": [
       "\\begin{tabular}{r|ccccc}\n",
       "\t& PassengerId & Survived & Pclass & Name & \\\\\n",
       "\t\\hline\n",
       "\t& Int64 & Int64 & Int64 & String & \\\\\n",
       "\t\\hline\n",
       "\t1 & 1 & 0 & 3 & Braund, Mr. Owen Harris & $\\dots$ \\\\\n",
       "\t2 & 2 & 1 & 1 & Cumings, Mrs. John Bradley (Florence Briggs Thayer) & $\\dots$ \\\\\n",
       "\t3 & 3 & 1 & 3 & Heikkinen, Miss. Laina & $\\dots$ \\\\\n",
       "\t4 & 4 & 1 & 1 & Futrelle, Mrs. Jacques Heath (Lily May Peel) & $\\dots$ \\\\\n",
       "\t5 & 5 & 0 & 3 & Allen, Mr. William Henry & $\\dots$ \\\\\n",
       "\t6 & 6 & 0 & 3 & Moran, Mr. James & $\\dots$ \\\\\n",
       "\t7 & 7 & 0 & 1 & McCarthy, Mr. Timothy J & $\\dots$ \\\\\n",
       "\t8 & 8 & 0 & 3 & Palsson, Master. Gosta Leonard & $\\dots$ \\\\\n",
       "\t9 & 9 & 1 & 3 & Johnson, Mrs. Oscar W (Elisabeth Vilhelmina Berg) & $\\dots$ \\\\\n",
       "\t10 & 10 & 1 & 2 & Nasser, Mrs. Nicholas (Adele Achem) & $\\dots$ \\\\\n",
       "\t11 & 11 & 1 & 3 & Sandstrom, Miss. Marguerite Rut & $\\dots$ \\\\\n",
       "\t12 & 12 & 1 & 1 & Bonnell, Miss. Elizabeth & $\\dots$ \\\\\n",
       "\t13 & 13 & 0 & 3 & Saundercock, Mr. William Henry & $\\dots$ \\\\\n",
       "\t14 & 14 & 0 & 3 & Andersson, Mr. Anders Johan & $\\dots$ \\\\\n",
       "\t15 & 15 & 0 & 3 & Vestrom, Miss. Hulda Amanda Adolfina & $\\dots$ \\\\\n",
       "\t16 & 16 & 1 & 2 & Hewlett, Mrs. (Mary D Kingcome)  & $\\dots$ \\\\\n",
       "\t17 & 17 & 0 & 3 & Rice, Master. Eugene & $\\dots$ \\\\\n",
       "\t18 & 18 & 1 & 2 & Williams, Mr. Charles Eugene & $\\dots$ \\\\\n",
       "\t19 & 19 & 0 & 3 & Vander Planke, Mrs. Julius (Emelia Maria Vandemoortele) & $\\dots$ \\\\\n",
       "\t20 & 20 & 1 & 3 & Masselmani, Mrs. Fatima & $\\dots$ \\\\\n",
       "\t21 & 21 & 0 & 2 & Fynney, Mr. Joseph J & $\\dots$ \\\\\n",
       "\t22 & 22 & 1 & 2 & Beesley, Mr. Lawrence & $\\dots$ \\\\\n",
       "\t23 & 23 & 1 & 3 & McGowan, Miss. Anna \"Annie\" & $\\dots$ \\\\\n",
       "\t24 & 24 & 1 & 1 & Sloper, Mr. William Thompson & $\\dots$ \\\\\n",
       "\t25 & 25 & 0 & 3 & Palsson, Miss. Torborg Danira & $\\dots$ \\\\\n",
       "\t26 & 26 & 1 & 3 & Asplund, Mrs. Carl Oscar (Selma Augusta Emilia Johansson) & $\\dots$ \\\\\n",
       "\t27 & 27 & 0 & 3 & Emir, Mr. Farred Chehab & $\\dots$ \\\\\n",
       "\t28 & 28 & 0 & 1 & Fortune, Mr. Charles Alexander & $\\dots$ \\\\\n",
       "\t29 & 29 & 1 & 3 & O'Dwyer, Miss. Ellen \"Nellie\" & $\\dots$ \\\\\n",
       "\t30 & 30 & 0 & 3 & Todoroff, Mr. Lalio & $\\dots$ \\\\\n",
       "\t$\\dots$ & $\\dots$ & $\\dots$ & $\\dots$ & $\\dots$ &  \\\\\n",
       "\\end{tabular}\n"
      ],
      "text/plain": [
       "\u001b[1m889×10 DataFrame\u001b[0m\n",
       "\u001b[1m Row \u001b[0m│\u001b[1m PassengerId \u001b[0m\u001b[1m Survived \u001b[0m\u001b[1m Pclass \u001b[0m\u001b[1m Name                              \u001b[0m\u001b[1m Sex  \u001b[0m ⋯\n",
       "     │\u001b[90m Int64       \u001b[0m\u001b[90m Int64    \u001b[0m\u001b[90m Int64  \u001b[0m\u001b[90m String                            \u001b[0m\u001b[90m Int64\u001b[0m ⋯\n",
       "─────┼──────────────────────────────────────────────────────────────────────────\n",
       "   1 │           1         0       3  Braund, Mr. Owen Harris                2 ⋯\n",
       "   2 │           2         1       1  Cumings, Mrs. John Bradley (Flor…      1\n",
       "   3 │           3         1       3  Heikkinen, Miss. Laina                 1\n",
       "   4 │           4         1       1  Futrelle, Mrs. Jacques Heath (Li…      1\n",
       "   5 │           5         0       3  Allen, Mr. William Henry               2 ⋯\n",
       "   6 │           6         0       3  Moran, Mr. James                       2\n",
       "   7 │           7         0       1  McCarthy, Mr. Timothy J                2\n",
       "   8 │           8         0       3  Palsson, Master. Gosta Leonard         2\n",
       "   9 │           9         1       3  Johnson, Mrs. Oscar W (Elisabeth…      1 ⋯\n",
       "  10 │          10         1       2  Nasser, Mrs. Nicholas (Adele Ach…      1\n",
       "  11 │          11         1       3  Sandstrom, Miss. Marguerite Rut        1\n",
       "  ⋮  │      ⋮          ⋮        ⋮                     ⋮                    ⋮   ⋱\n",
       " 880 │         882         0       3  Markun, Mr. Johann                     2\n",
       " 881 │         883         0       3  Dahlberg, Miss. Gerda Ulrika           1 ⋯\n",
       " 882 │         884         0       2  Banfield, Mr. Frederick James          2\n",
       " 883 │         885         0       3  Sutehall, Mr. Henry Jr                 2\n",
       " 884 │         886         0       3  Rice, Mrs. William (Margaret Nor…      1\n",
       " 885 │         887         0       2  Montvila, Rev. Juozas                  2 ⋯\n",
       " 886 │         888         1       1  Graham, Miss. Margaret Edith           1\n",
       " 887 │         889         0       3  Johnston, Miss. Catherine Helen …      1\n",
       " 888 │         890         1       1  Behr, Mr. Karl Howell                  2\n",
       " 889 │         891         0       3  Dooley, Mr. Patrick                    2 ⋯\n",
       "\u001b[36m                                                  5 columns and 868 rows omitted\u001b[0m"
      ]
     },
     "execution_count": 36,
     "metadata": {},
     "output_type": "execute_result"
    }
   ],
   "source": [
    "# As it has too much categories, perhaps it's not a good idea\n",
    "# to think that they can be helpful to classify the data without,\n",
    "# additional preprocessing. So, just remove it\n",
    "train_df = select(train_df,Not([\"Ticket\"]))"
   ]
  },
  {
   "cell_type": "code",
   "execution_count": 37,
   "id": "66d54746",
   "metadata": {},
   "outputs": [
    {
     "data": {
      "text/html": [
       "<div><div style = \"float: left;\"><span>889×8 DataFrame</span></div><div style = \"float: right;\"><span style = \"font-style: italic;\">864 rows omitted</span></div><div style = \"clear: both;\"></div></div><div class = \"data-frame\" style = \"overflow-x: scroll;\"><table class = \"data-frame\" style = \"margin-bottom: 6px;\"><thead><tr class = \"header\"><th class = \"rowNumber\" style = \"font-weight: bold; text-align: right;\">Row</th><th style = \"text-align: left;\">Survived</th><th style = \"text-align: left;\">Pclass</th><th style = \"text-align: left;\">Sex</th><th style = \"text-align: left;\">Age</th><th style = \"text-align: left;\">SibSp</th><th style = \"text-align: left;\">Parch</th><th style = \"text-align: left;\">Fare</th><th style = \"text-align: left;\">Embarked</th></tr><tr class = \"subheader headerLastRow\"><th class = \"rowNumber\" style = \"font-weight: bold; text-align: right;\"></th><th title = \"Int64\" style = \"text-align: left;\">Int64</th><th title = \"Int64\" style = \"text-align: left;\">Int64</th><th title = \"Int64\" style = \"text-align: left;\">Int64</th><th title = \"Float64\" style = \"text-align: left;\">Float64</th><th title = \"Int64\" style = \"text-align: left;\">Int64</th><th title = \"Int64\" style = \"text-align: left;\">Int64</th><th title = \"Float64\" style = \"text-align: left;\">Float64</th><th title = \"Int64\" style = \"text-align: left;\">Int64</th></tr></thead><tbody><tr><td class = \"rowNumber\" style = \"font-weight: bold; text-align: right;\">1</td><td style = \"text-align: right;\">0</td><td style = \"text-align: right;\">3</td><td style = \"text-align: right;\">2</td><td style = \"text-align: right;\">22.0</td><td style = \"text-align: right;\">1</td><td style = \"text-align: right;\">0</td><td style = \"text-align: right;\">7.25</td><td style = \"text-align: right;\">1</td></tr><tr><td class = \"rowNumber\" style = \"font-weight: bold; text-align: right;\">2</td><td style = \"text-align: right;\">1</td><td style = \"text-align: right;\">1</td><td style = \"text-align: right;\">1</td><td style = \"text-align: right;\">38.0</td><td style = \"text-align: right;\">1</td><td style = \"text-align: right;\">0</td><td style = \"text-align: right;\">71.2833</td><td style = \"text-align: right;\">2</td></tr><tr><td class = \"rowNumber\" style = \"font-weight: bold; text-align: right;\">3</td><td style = \"text-align: right;\">1</td><td style = \"text-align: right;\">3</td><td style = \"text-align: right;\">1</td><td style = \"text-align: right;\">26.0</td><td style = \"text-align: right;\">0</td><td style = \"text-align: right;\">0</td><td style = \"text-align: right;\">7.925</td><td style = \"text-align: right;\">1</td></tr><tr><td class = \"rowNumber\" style = \"font-weight: bold; text-align: right;\">4</td><td style = \"text-align: right;\">1</td><td style = \"text-align: right;\">1</td><td style = \"text-align: right;\">1</td><td style = \"text-align: right;\">35.0</td><td style = \"text-align: right;\">1</td><td style = \"text-align: right;\">0</td><td style = \"text-align: right;\">53.1</td><td style = \"text-align: right;\">1</td></tr><tr><td class = \"rowNumber\" style = \"font-weight: bold; text-align: right;\">5</td><td style = \"text-align: right;\">0</td><td style = \"text-align: right;\">3</td><td style = \"text-align: right;\">2</td><td style = \"text-align: right;\">35.0</td><td style = \"text-align: right;\">0</td><td style = \"text-align: right;\">0</td><td style = \"text-align: right;\">8.05</td><td style = \"text-align: right;\">1</td></tr><tr><td class = \"rowNumber\" style = \"font-weight: bold; text-align: right;\">6</td><td style = \"text-align: right;\">0</td><td style = \"text-align: right;\">3</td><td style = \"text-align: right;\">2</td><td style = \"text-align: right;\">28.0</td><td style = \"text-align: right;\">0</td><td style = \"text-align: right;\">0</td><td style = \"text-align: right;\">8.4583</td><td style = \"text-align: right;\">3</td></tr><tr><td class = \"rowNumber\" style = \"font-weight: bold; text-align: right;\">7</td><td style = \"text-align: right;\">0</td><td style = \"text-align: right;\">1</td><td style = \"text-align: right;\">2</td><td style = \"text-align: right;\">54.0</td><td style = \"text-align: right;\">0</td><td style = \"text-align: right;\">0</td><td style = \"text-align: right;\">51.8625</td><td style = \"text-align: right;\">1</td></tr><tr><td class = \"rowNumber\" style = \"font-weight: bold; text-align: right;\">8</td><td style = \"text-align: right;\">0</td><td style = \"text-align: right;\">3</td><td style = \"text-align: right;\">2</td><td style = \"text-align: right;\">2.0</td><td style = \"text-align: right;\">3</td><td style = \"text-align: right;\">1</td><td style = \"text-align: right;\">21.075</td><td style = \"text-align: right;\">1</td></tr><tr><td class = \"rowNumber\" style = \"font-weight: bold; text-align: right;\">9</td><td style = \"text-align: right;\">1</td><td style = \"text-align: right;\">3</td><td style = \"text-align: right;\">1</td><td style = \"text-align: right;\">27.0</td><td style = \"text-align: right;\">0</td><td style = \"text-align: right;\">2</td><td style = \"text-align: right;\">11.1333</td><td style = \"text-align: right;\">1</td></tr><tr><td class = \"rowNumber\" style = \"font-weight: bold; text-align: right;\">10</td><td style = \"text-align: right;\">1</td><td style = \"text-align: right;\">2</td><td style = \"text-align: right;\">1</td><td style = \"text-align: right;\">14.0</td><td style = \"text-align: right;\">1</td><td style = \"text-align: right;\">0</td><td style = \"text-align: right;\">30.0708</td><td style = \"text-align: right;\">2</td></tr><tr><td class = \"rowNumber\" style = \"font-weight: bold; text-align: right;\">11</td><td style = \"text-align: right;\">1</td><td style = \"text-align: right;\">3</td><td style = \"text-align: right;\">1</td><td style = \"text-align: right;\">4.0</td><td style = \"text-align: right;\">1</td><td style = \"text-align: right;\">1</td><td style = \"text-align: right;\">16.7</td><td style = \"text-align: right;\">1</td></tr><tr><td class = \"rowNumber\" style = \"font-weight: bold; text-align: right;\">12</td><td style = \"text-align: right;\">1</td><td style = \"text-align: right;\">1</td><td style = \"text-align: right;\">1</td><td style = \"text-align: right;\">58.0</td><td style = \"text-align: right;\">0</td><td style = \"text-align: right;\">0</td><td style = \"text-align: right;\">26.55</td><td style = \"text-align: right;\">1</td></tr><tr><td class = \"rowNumber\" style = \"font-weight: bold; text-align: right;\">13</td><td style = \"text-align: right;\">0</td><td style = \"text-align: right;\">3</td><td style = \"text-align: right;\">2</td><td style = \"text-align: right;\">20.0</td><td style = \"text-align: right;\">0</td><td style = \"text-align: right;\">0</td><td style = \"text-align: right;\">8.05</td><td style = \"text-align: right;\">1</td></tr><tr><td style = \"text-align: right;\">&vellip;</td><td style = \"text-align: right;\">&vellip;</td><td style = \"text-align: right;\">&vellip;</td><td style = \"text-align: right;\">&vellip;</td><td style = \"text-align: right;\">&vellip;</td><td style = \"text-align: right;\">&vellip;</td><td style = \"text-align: right;\">&vellip;</td><td style = \"text-align: right;\">&vellip;</td><td style = \"text-align: right;\">&vellip;</td></tr><tr><td class = \"rowNumber\" style = \"font-weight: bold; text-align: right;\">878</td><td style = \"text-align: right;\">1</td><td style = \"text-align: right;\">1</td><td style = \"text-align: right;\">1</td><td style = \"text-align: right;\">56.0</td><td style = \"text-align: right;\">0</td><td style = \"text-align: right;\">1</td><td style = \"text-align: right;\">83.1583</td><td style = \"text-align: right;\">2</td></tr><tr><td class = \"rowNumber\" style = \"font-weight: bold; text-align: right;\">879</td><td style = \"text-align: right;\">1</td><td style = \"text-align: right;\">2</td><td style = \"text-align: right;\">1</td><td style = \"text-align: right;\">25.0</td><td style = \"text-align: right;\">0</td><td style = \"text-align: right;\">1</td><td style = \"text-align: right;\">26.0</td><td style = \"text-align: right;\">1</td></tr><tr><td class = \"rowNumber\" style = \"font-weight: bold; text-align: right;\">880</td><td style = \"text-align: right;\">0</td><td style = \"text-align: right;\">3</td><td style = \"text-align: right;\">2</td><td style = \"text-align: right;\">33.0</td><td style = \"text-align: right;\">0</td><td style = \"text-align: right;\">0</td><td style = \"text-align: right;\">7.8958</td><td style = \"text-align: right;\">1</td></tr><tr><td class = \"rowNumber\" style = \"font-weight: bold; text-align: right;\">881</td><td style = \"text-align: right;\">0</td><td style = \"text-align: right;\">3</td><td style = \"text-align: right;\">1</td><td style = \"text-align: right;\">22.0</td><td style = \"text-align: right;\">0</td><td style = \"text-align: right;\">0</td><td style = \"text-align: right;\">10.5167</td><td style = \"text-align: right;\">1</td></tr><tr><td class = \"rowNumber\" style = \"font-weight: bold; text-align: right;\">882</td><td style = \"text-align: right;\">0</td><td style = \"text-align: right;\">2</td><td style = \"text-align: right;\">2</td><td style = \"text-align: right;\">28.0</td><td style = \"text-align: right;\">0</td><td style = \"text-align: right;\">0</td><td style = \"text-align: right;\">10.5</td><td style = \"text-align: right;\">1</td></tr><tr><td class = \"rowNumber\" style = \"font-weight: bold; text-align: right;\">883</td><td style = \"text-align: right;\">0</td><td style = \"text-align: right;\">3</td><td style = \"text-align: right;\">2</td><td style = \"text-align: right;\">25.0</td><td style = \"text-align: right;\">0</td><td style = \"text-align: right;\">0</td><td style = \"text-align: right;\">7.05</td><td style = \"text-align: right;\">1</td></tr><tr><td class = \"rowNumber\" style = \"font-weight: bold; text-align: right;\">884</td><td style = \"text-align: right;\">0</td><td style = \"text-align: right;\">3</td><td style = \"text-align: right;\">1</td><td style = \"text-align: right;\">39.0</td><td style = \"text-align: right;\">0</td><td style = \"text-align: right;\">5</td><td style = \"text-align: right;\">29.125</td><td style = \"text-align: right;\">3</td></tr><tr><td class = \"rowNumber\" style = \"font-weight: bold; text-align: right;\">885</td><td style = \"text-align: right;\">0</td><td style = \"text-align: right;\">2</td><td style = \"text-align: right;\">2</td><td style = \"text-align: right;\">27.0</td><td style = \"text-align: right;\">0</td><td style = \"text-align: right;\">0</td><td style = \"text-align: right;\">13.0</td><td style = \"text-align: right;\">1</td></tr><tr><td class = \"rowNumber\" style = \"font-weight: bold; text-align: right;\">886</td><td style = \"text-align: right;\">1</td><td style = \"text-align: right;\">1</td><td style = \"text-align: right;\">1</td><td style = \"text-align: right;\">19.0</td><td style = \"text-align: right;\">0</td><td style = \"text-align: right;\">0</td><td style = \"text-align: right;\">30.0</td><td style = \"text-align: right;\">1</td></tr><tr><td class = \"rowNumber\" style = \"font-weight: bold; text-align: right;\">887</td><td style = \"text-align: right;\">0</td><td style = \"text-align: right;\">3</td><td style = \"text-align: right;\">1</td><td style = \"text-align: right;\">28.0</td><td style = \"text-align: right;\">1</td><td style = \"text-align: right;\">2</td><td style = \"text-align: right;\">23.45</td><td style = \"text-align: right;\">1</td></tr><tr><td class = \"rowNumber\" style = \"font-weight: bold; text-align: right;\">888</td><td style = \"text-align: right;\">1</td><td style = \"text-align: right;\">1</td><td style = \"text-align: right;\">2</td><td style = \"text-align: right;\">26.0</td><td style = \"text-align: right;\">0</td><td style = \"text-align: right;\">0</td><td style = \"text-align: right;\">30.0</td><td style = \"text-align: right;\">2</td></tr><tr><td class = \"rowNumber\" style = \"font-weight: bold; text-align: right;\">889</td><td style = \"text-align: right;\">0</td><td style = \"text-align: right;\">3</td><td style = \"text-align: right;\">2</td><td style = \"text-align: right;\">32.0</td><td style = \"text-align: right;\">0</td><td style = \"text-align: right;\">0</td><td style = \"text-align: right;\">7.75</td><td style = \"text-align: right;\">3</td></tr></tbody></table></div>"
      ],
      "text/latex": [
       "\\begin{tabular}{r|cccccccc}\n",
       "\t& Survived & Pclass & Sex & Age & SibSp & Parch & Fare & Embarked\\\\\n",
       "\t\\hline\n",
       "\t& Int64 & Int64 & Int64 & Float64 & Int64 & Int64 & Float64 & Int64\\\\\n",
       "\t\\hline\n",
       "\t1 & 0 & 3 & 2 & 22.0 & 1 & 0 & 7.25 & 1 \\\\\n",
       "\t2 & 1 & 1 & 1 & 38.0 & 1 & 0 & 71.2833 & 2 \\\\\n",
       "\t3 & 1 & 3 & 1 & 26.0 & 0 & 0 & 7.925 & 1 \\\\\n",
       "\t4 & 1 & 1 & 1 & 35.0 & 1 & 0 & 53.1 & 1 \\\\\n",
       "\t5 & 0 & 3 & 2 & 35.0 & 0 & 0 & 8.05 & 1 \\\\\n",
       "\t6 & 0 & 3 & 2 & 28.0 & 0 & 0 & 8.4583 & 3 \\\\\n",
       "\t7 & 0 & 1 & 2 & 54.0 & 0 & 0 & 51.8625 & 1 \\\\\n",
       "\t8 & 0 & 3 & 2 & 2.0 & 3 & 1 & 21.075 & 1 \\\\\n",
       "\t9 & 1 & 3 & 1 & 27.0 & 0 & 2 & 11.1333 & 1 \\\\\n",
       "\t10 & 1 & 2 & 1 & 14.0 & 1 & 0 & 30.0708 & 2 \\\\\n",
       "\t11 & 1 & 3 & 1 & 4.0 & 1 & 1 & 16.7 & 1 \\\\\n",
       "\t12 & 1 & 1 & 1 & 58.0 & 0 & 0 & 26.55 & 1 \\\\\n",
       "\t13 & 0 & 3 & 2 & 20.0 & 0 & 0 & 8.05 & 1 \\\\\n",
       "\t14 & 0 & 3 & 2 & 39.0 & 1 & 5 & 31.275 & 1 \\\\\n",
       "\t15 & 0 & 3 & 1 & 14.0 & 0 & 0 & 7.8542 & 1 \\\\\n",
       "\t16 & 1 & 2 & 1 & 55.0 & 0 & 0 & 16.0 & 1 \\\\\n",
       "\t17 & 0 & 3 & 2 & 2.0 & 4 & 1 & 29.125 & 3 \\\\\n",
       "\t18 & 1 & 2 & 2 & 28.0 & 0 & 0 & 13.0 & 1 \\\\\n",
       "\t19 & 0 & 3 & 1 & 31.0 & 1 & 0 & 18.0 & 1 \\\\\n",
       "\t20 & 1 & 3 & 1 & 28.0 & 0 & 0 & 7.225 & 2 \\\\\n",
       "\t21 & 0 & 2 & 2 & 35.0 & 0 & 0 & 26.0 & 1 \\\\\n",
       "\t22 & 1 & 2 & 2 & 34.0 & 0 & 0 & 13.0 & 1 \\\\\n",
       "\t23 & 1 & 3 & 1 & 15.0 & 0 & 0 & 8.0292 & 3 \\\\\n",
       "\t24 & 1 & 1 & 2 & 28.0 & 0 & 0 & 35.5 & 1 \\\\\n",
       "\t25 & 0 & 3 & 1 & 8.0 & 3 & 1 & 21.075 & 1 \\\\\n",
       "\t26 & 1 & 3 & 1 & 38.0 & 1 & 5 & 31.3875 & 1 \\\\\n",
       "\t27 & 0 & 3 & 2 & 28.0 & 0 & 0 & 7.225 & 2 \\\\\n",
       "\t28 & 0 & 1 & 2 & 19.0 & 3 & 2 & 263.0 & 1 \\\\\n",
       "\t29 & 1 & 3 & 1 & 28.0 & 0 & 0 & 7.8792 & 3 \\\\\n",
       "\t30 & 0 & 3 & 2 & 28.0 & 0 & 0 & 7.8958 & 1 \\\\\n",
       "\t$\\dots$ & $\\dots$ & $\\dots$ & $\\dots$ & $\\dots$ & $\\dots$ & $\\dots$ & $\\dots$ & $\\dots$ \\\\\n",
       "\\end{tabular}\n"
      ],
      "text/plain": [
       "\u001b[1m889×8 DataFrame\u001b[0m\n",
       "\u001b[1m Row \u001b[0m│\u001b[1m Survived \u001b[0m\u001b[1m Pclass \u001b[0m\u001b[1m Sex   \u001b[0m\u001b[1m Age     \u001b[0m\u001b[1m SibSp \u001b[0m\u001b[1m Parch \u001b[0m\u001b[1m Fare    \u001b[0m\u001b[1m Embarked \u001b[0m\n",
       "     │\u001b[90m Int64    \u001b[0m\u001b[90m Int64  \u001b[0m\u001b[90m Int64 \u001b[0m\u001b[90m Float64 \u001b[0m\u001b[90m Int64 \u001b[0m\u001b[90m Int64 \u001b[0m\u001b[90m Float64 \u001b[0m\u001b[90m Int64    \u001b[0m\n",
       "─────┼───────────────────────────────────────────────────────────────────\n",
       "   1 │        0       3      2     22.0      1      0   7.25           1\n",
       "   2 │        1       1      1     38.0      1      0  71.2833         2\n",
       "   3 │        1       3      1     26.0      0      0   7.925          1\n",
       "   4 │        1       1      1     35.0      1      0  53.1            1\n",
       "   5 │        0       3      2     35.0      0      0   8.05           1\n",
       "   6 │        0       3      2     28.0      0      0   8.4583         3\n",
       "   7 │        0       1      2     54.0      0      0  51.8625         1\n",
       "   8 │        0       3      2      2.0      3      1  21.075          1\n",
       "   9 │        1       3      1     27.0      0      2  11.1333         1\n",
       "  10 │        1       2      1     14.0      1      0  30.0708         2\n",
       "  11 │        1       3      1      4.0      1      1  16.7            1\n",
       "  ⋮  │    ⋮        ⋮       ⋮       ⋮       ⋮      ⋮       ⋮        ⋮\n",
       " 880 │        0       3      2     33.0      0      0   7.8958         1\n",
       " 881 │        0       3      1     22.0      0      0  10.5167         1\n",
       " 882 │        0       2      2     28.0      0      0  10.5            1\n",
       " 883 │        0       3      2     25.0      0      0   7.05           1\n",
       " 884 │        0       3      1     39.0      0      5  29.125          3\n",
       " 885 │        0       2      2     27.0      0      0  13.0            1\n",
       " 886 │        1       1      1     19.0      0      0  30.0            1\n",
       " 887 │        0       3      1     28.0      1      2  23.45           1\n",
       " 888 │        1       1      2     26.0      0      0  30.0            2\n",
       " 889 │        0       3      2     32.0      0      0   7.75           3\n",
       "\u001b[36m                                                         868 rows omitted\u001b[0m"
      ]
     },
     "execution_count": 37,
     "metadata": {},
     "output_type": "execute_result"
    }
   ],
   "source": [
    "# The 'Name' and 'PassengerId' columns also not a good options to classify data,\n",
    "# so remove them as well\n",
    "train_df = select(train_df,Not([\"Name\", \"PassengerId\"]))"
   ]
  },
  {
   "cell_type": "code",
   "execution_count": 38,
   "id": "2b4ce19d",
   "metadata": {},
   "outputs": [
    {
     "data": {
      "text/html": [
       "<div><div style = \"float: left;\"><span>8×7 DataFrame</span></div><div style = \"clear: both;\"></div></div><div class = \"data-frame\" style = \"overflow-x: scroll;\"><table class = \"data-frame\" style = \"margin-bottom: 6px;\"><thead><tr class = \"header\"><th class = \"rowNumber\" style = \"font-weight: bold; text-align: right;\">Row</th><th style = \"text-align: left;\">variable</th><th style = \"text-align: left;\">mean</th><th style = \"text-align: left;\">min</th><th style = \"text-align: left;\">median</th><th style = \"text-align: left;\">max</th><th style = \"text-align: left;\">nmissing</th><th style = \"text-align: left;\">eltype</th></tr><tr class = \"subheader headerLastRow\"><th class = \"rowNumber\" style = \"font-weight: bold; text-align: right;\"></th><th title = \"Symbol\" style = \"text-align: left;\">Symbol</th><th title = \"Float64\" style = \"text-align: left;\">Float64</th><th title = \"Real\" style = \"text-align: left;\">Real</th><th title = \"Float64\" style = \"text-align: left;\">Float64</th><th title = \"Real\" style = \"text-align: left;\">Real</th><th title = \"Int64\" style = \"text-align: left;\">Int64</th><th title = \"DataType\" style = \"text-align: left;\">DataType</th></tr></thead><tbody><tr><td class = \"rowNumber\" style = \"font-weight: bold; text-align: right;\">1</td><td style = \"text-align: left;\">Survived</td><td style = \"text-align: right;\">0.382452</td><td style = \"text-align: right;\">0</td><td style = \"text-align: right;\">0.0</td><td style = \"text-align: right;\">1</td><td style = \"text-align: right;\">0</td><td style = \"text-align: left;\">Int64</td></tr><tr><td class = \"rowNumber\" style = \"font-weight: bold; text-align: right;\">2</td><td style = \"text-align: left;\">Pclass</td><td style = \"text-align: right;\">2.31159</td><td style = \"text-align: right;\">1</td><td style = \"text-align: right;\">3.0</td><td style = \"text-align: right;\">3</td><td style = \"text-align: right;\">0</td><td style = \"text-align: left;\">Int64</td></tr><tr><td class = \"rowNumber\" style = \"font-weight: bold; text-align: right;\">3</td><td style = \"text-align: left;\">Sex</td><td style = \"text-align: right;\">1.64904</td><td style = \"text-align: right;\">1</td><td style = \"text-align: right;\">2.0</td><td style = \"text-align: right;\">2</td><td style = \"text-align: right;\">0</td><td style = \"text-align: left;\">Int64</td></tr><tr><td class = \"rowNumber\" style = \"font-weight: bold; text-align: right;\">4</td><td style = \"text-align: left;\">Age</td><td style = \"text-align: right;\">29.3152</td><td style = \"text-align: right;\">0.42</td><td style = \"text-align: right;\">28.0</td><td style = \"text-align: right;\">80.0</td><td style = \"text-align: right;\">0</td><td style = \"text-align: left;\">Float64</td></tr><tr><td class = \"rowNumber\" style = \"font-weight: bold; text-align: right;\">5</td><td style = \"text-align: left;\">SibSp</td><td style = \"text-align: right;\">0.524184</td><td style = \"text-align: right;\">0</td><td style = \"text-align: right;\">0.0</td><td style = \"text-align: right;\">8</td><td style = \"text-align: right;\">0</td><td style = \"text-align: left;\">Int64</td></tr><tr><td class = \"rowNumber\" style = \"font-weight: bold; text-align: right;\">6</td><td style = \"text-align: left;\">Parch</td><td style = \"text-align: right;\">0.382452</td><td style = \"text-align: right;\">0</td><td style = \"text-align: right;\">0.0</td><td style = \"text-align: right;\">6</td><td style = \"text-align: right;\">0</td><td style = \"text-align: left;\">Int64</td></tr><tr><td class = \"rowNumber\" style = \"font-weight: bold; text-align: right;\">7</td><td style = \"text-align: left;\">Fare</td><td style = \"text-align: right;\">32.0967</td><td style = \"text-align: right;\">0.0</td><td style = \"text-align: right;\">14.4542</td><td style = \"text-align: right;\">512.329</td><td style = \"text-align: right;\">0</td><td style = \"text-align: left;\">Float64</td></tr><tr><td class = \"rowNumber\" style = \"font-weight: bold; text-align: right;\">8</td><td style = \"text-align: left;\">Embarked</td><td style = \"text-align: right;\">1.3622</td><td style = \"text-align: right;\">1</td><td style = \"text-align: right;\">1.0</td><td style = \"text-align: right;\">3</td><td style = \"text-align: right;\">0</td><td style = \"text-align: left;\">Int64</td></tr></tbody></table></div>"
      ],
      "text/latex": [
       "\\begin{tabular}{r|ccccccc}\n",
       "\t& variable & mean & min & median & max & nmissing & eltype\\\\\n",
       "\t\\hline\n",
       "\t& Symbol & Float64 & Real & Float64 & Real & Int64 & DataType\\\\\n",
       "\t\\hline\n",
       "\t1 & Survived & 0.382452 & 0 & 0.0 & 1 & 0 & Int64 \\\\\n",
       "\t2 & Pclass & 2.31159 & 1 & 3.0 & 3 & 0 & Int64 \\\\\n",
       "\t3 & Sex & 1.64904 & 1 & 2.0 & 2 & 0 & Int64 \\\\\n",
       "\t4 & Age & 29.3152 & 0.42 & 28.0 & 80.0 & 0 & Float64 \\\\\n",
       "\t5 & SibSp & 0.524184 & 0 & 0.0 & 8 & 0 & Int64 \\\\\n",
       "\t6 & Parch & 0.382452 & 0 & 0.0 & 6 & 0 & Int64 \\\\\n",
       "\t7 & Fare & 32.0967 & 0.0 & 14.4542 & 512.329 & 0 & Float64 \\\\\n",
       "\t8 & Embarked & 1.3622 & 1 & 1.0 & 3 & 0 & Int64 \\\\\n",
       "\\end{tabular}\n"
      ],
      "text/plain": [
       "\u001b[1m8×7 DataFrame\u001b[0m\n",
       "\u001b[1m Row \u001b[0m│\u001b[1m variable \u001b[0m\u001b[1m mean      \u001b[0m\u001b[1m min  \u001b[0m\u001b[1m median  \u001b[0m\u001b[1m max     \u001b[0m\u001b[1m nmissing \u001b[0m\u001b[1m eltype   \u001b[0m\n",
       "     │\u001b[90m Symbol   \u001b[0m\u001b[90m Float64   \u001b[0m\u001b[90m Real \u001b[0m\u001b[90m Float64 \u001b[0m\u001b[90m Real    \u001b[0m\u001b[90m Int64    \u001b[0m\u001b[90m DataType \u001b[0m\n",
       "─────┼─────────────────────────────────────────────────────────────────\n",
       "   1 │ Survived   0.382452  0      0.0       1             0  Int64\n",
       "   2 │ Pclass     2.31159   1      3.0       3             0  Int64\n",
       "   3 │ Sex        1.64904   1      2.0       2             0  Int64\n",
       "   4 │ Age       29.3152    0.42  28.0      80.0           0  Float64\n",
       "   5 │ SibSp      0.524184  0      0.0       8             0  Int64\n",
       "   6 │ Parch      0.382452  0      0.0       6             0  Int64\n",
       "   7 │ Fare      32.0967    0.0   14.4542  512.329         0  Float64\n",
       "   8 │ Embarked   1.3622    1      1.0       3             0  Int64"
      ]
     },
     "execution_count": 38,
     "metadata": {},
     "output_type": "execute_result"
    }
   ],
   "source": [
    "# Look at train data summary again to ensure that\n",
    "# it's ready for training (no missing values, all columns are numeric)\n",
    "describe(train_df)"
   ]
  },
  {
   "cell_type": "code",
   "execution_count": 39,
   "id": "2bd6fbb0",
   "metadata": {},
   "outputs": [
    {
     "data": {
      "image/svg+xml": [
       "<?xml version=\"1.0\" encoding=\"utf-8\"?>\n",
       "<svg xmlns=\"http://www.w3.org/2000/svg\" xmlns:xlink=\"http://www.w3.org/1999/xlink\" width=\"600\" height=\"400\" viewBox=\"0 0 2400 1600\">\n",
       "<defs>\n",
       "  <clipPath id=\"clip710\">\n",
       "    <rect x=\"0\" y=\"0\" width=\"2400\" height=\"1600\"/>\n",
       "  </clipPath>\n",
       "</defs>\n",
       "<path clip-path=\"url(#clip710)\" d=\"M0 1600 L2400 1600 L2400 0 L0 0  Z\" fill=\"#ffffff\" fill-rule=\"evenodd\" fill-opacity=\"1\"/>\n",
       "<defs>\n",
       "  <clipPath id=\"clip711\">\n",
       "    <rect x=\"480\" y=\"0\" width=\"1681\" height=\"1600\"/>\n",
       "  </clipPath>\n",
       "</defs>\n",
       "<path clip-path=\"url(#clip710)\" d=\"M172.015 1486.45 L2352.76 1486.45 L2352.76 123.472 L172.015 123.472  Z\" fill=\"#ffffff\" fill-rule=\"evenodd\" fill-opacity=\"1\"/>\n",
       "<defs>\n",
       "  <clipPath id=\"clip712\">\n",
       "    <rect x=\"172\" y=\"123\" width=\"2182\" height=\"1364\"/>\n",
       "  </clipPath>\n",
       "</defs>\n",
       "<polyline clip-path=\"url(#clip712)\" style=\"stroke:#000000; stroke-linecap:round; stroke-linejoin:round; stroke-width:2; stroke-opacity:0.1; fill:none\" points=\"723.26,1486.45 723.26,123.472 \"/>\n",
       "<polyline clip-path=\"url(#clip712)\" style=\"stroke:#000000; stroke-linecap:round; stroke-linejoin:round; stroke-width:2; stroke-opacity:0.1; fill:none\" points=\"1801.51,1486.45 1801.51,123.472 \"/>\n",
       "<polyline clip-path=\"url(#clip710)\" style=\"stroke:#000000; stroke-linecap:round; stroke-linejoin:round; stroke-width:4; stroke-opacity:1; fill:none\" points=\"172.015,1486.45 2352.76,1486.45 \"/>\n",
       "<polyline clip-path=\"url(#clip710)\" style=\"stroke:#000000; stroke-linecap:round; stroke-linejoin:round; stroke-width:4; stroke-opacity:1; fill:none\" points=\"723.26,1486.45 723.26,1467.55 \"/>\n",
       "<polyline clip-path=\"url(#clip710)\" style=\"stroke:#000000; stroke-linecap:round; stroke-linejoin:round; stroke-width:4; stroke-opacity:1; fill:none\" points=\"1801.51,1486.45 1801.51,1467.55 \"/>\n",
       "<path clip-path=\"url(#clip710)\" d=\"M574.592 1514.29 L580.888 1514.29 L596.212 1543.2 L596.212 1514.29 L600.749 1514.29 L600.749 1548.85 L594.453 1548.85 L579.129 1519.94 L579.129 1548.85 L574.592 1548.85 L574.592 1514.29 Z\" fill=\"#000000\" fill-rule=\"evenodd\" fill-opacity=\"1\" /><path clip-path=\"url(#clip710)\" d=\"M619.916 1525.91 Q616.49 1525.91 614.499 1528.59 Q612.508 1531.26 612.508 1535.91 Q612.508 1540.56 614.476 1543.25 Q616.466 1545.91 619.916 1545.91 Q623.318 1545.91 625.309 1543.22 Q627.3 1540.54 627.3 1535.91 Q627.3 1531.3 625.309 1528.62 Q623.318 1525.91 619.916 1525.91 M619.916 1522.3 Q625.471 1522.3 628.642 1525.91 Q631.814 1529.52 631.814 1535.91 Q631.814 1542.27 628.642 1545.91 Q625.471 1549.52 619.916 1549.52 Q614.337 1549.52 611.166 1545.91 Q608.017 1542.27 608.017 1535.91 Q608.017 1529.52 611.166 1525.91 Q614.337 1522.3 619.916 1522.3 Z\" fill=\"#000000\" fill-rule=\"evenodd\" fill-opacity=\"1\" /><path clip-path=\"url(#clip710)\" d=\"M643.087 1515.56 L643.087 1522.92 L651.86 1522.92 L651.86 1526.23 L643.087 1526.23 L643.087 1540.31 Q643.087 1543.48 643.943 1544.38 Q644.823 1545.28 647.485 1545.28 L651.86 1545.28 L651.86 1548.85 L647.485 1548.85 Q642.554 1548.85 640.679 1547.02 Q638.804 1545.17 638.804 1540.31 L638.804 1526.23 L635.679 1526.23 L635.679 1522.92 L638.804 1522.92 L638.804 1515.56 L643.087 1515.56 Z\" fill=\"#000000\" fill-rule=\"evenodd\" fill-opacity=\"1\" /><path clip-path=\"url(#clip710)\" d=\"M693.434 1515.42 L693.434 1519.98 Q690.772 1518.71 688.411 1518.08 Q686.049 1517.46 683.85 1517.46 Q680.031 1517.46 677.948 1518.94 Q675.887 1520.42 675.887 1523.15 Q675.887 1525.45 677.253 1526.63 Q678.642 1527.78 682.485 1528.5 L685.309 1529.08 Q690.54 1530.07 693.017 1532.6 Q695.517 1535.1 695.517 1539.31 Q695.517 1544.33 692.137 1546.93 Q688.781 1549.52 682.276 1549.52 Q679.823 1549.52 677.045 1548.96 Q674.29 1548.41 671.327 1547.32 L671.327 1542.51 Q674.174 1544.1 676.906 1544.91 Q679.637 1545.72 682.276 1545.72 Q686.281 1545.72 688.457 1544.15 Q690.633 1542.57 690.633 1539.66 Q690.633 1537.11 689.059 1535.68 Q687.508 1534.24 683.943 1533.52 L681.096 1532.97 Q675.864 1531.93 673.526 1529.7 Q671.188 1527.48 671.188 1523.52 Q671.188 1518.94 674.406 1516.3 Q677.647 1513.66 683.318 1513.66 Q685.748 1513.66 688.272 1514.1 Q690.795 1514.54 693.434 1515.42 Z\" fill=\"#000000\" fill-rule=\"evenodd\" fill-opacity=\"1\" /><path clip-path=\"url(#clip710)\" d=\"M702.184 1538.62 L702.184 1522.92 L706.443 1522.92 L706.443 1538.45 Q706.443 1542.13 707.878 1543.99 Q709.313 1545.82 712.184 1545.82 Q715.633 1545.82 717.623 1543.62 Q719.637 1541.42 719.637 1537.62 L719.637 1522.92 L723.896 1522.92 L723.896 1548.85 L719.637 1548.85 L719.637 1544.87 Q718.086 1547.23 716.026 1548.38 Q713.989 1549.52 711.281 1549.52 Q706.813 1549.52 704.498 1546.74 Q702.184 1543.96 702.184 1538.62 M712.901 1522.3 L712.901 1522.3 Z\" fill=\"#000000\" fill-rule=\"evenodd\" fill-opacity=\"1\" /><path clip-path=\"url(#clip710)\" d=\"M747.693 1526.9 Q746.975 1526.49 746.119 1526.3 Q745.285 1526.09 744.267 1526.09 Q740.656 1526.09 738.711 1528.45 Q736.79 1530.79 736.79 1535.19 L736.79 1548.85 L732.507 1548.85 L732.507 1522.92 L736.79 1522.92 L736.79 1526.95 Q738.132 1524.59 740.285 1523.45 Q742.438 1522.3 745.517 1522.3 Q745.956 1522.3 746.489 1522.37 Q747.021 1522.41 747.669 1522.53 L747.693 1526.9 Z\" fill=\"#000000\" fill-rule=\"evenodd\" fill-opacity=\"1\" /><path clip-path=\"url(#clip710)\" d=\"M749.105 1522.92 L753.618 1522.92 L761.72 1544.68 L769.822 1522.92 L774.336 1522.92 L764.614 1548.85 L758.827 1548.85 L749.105 1522.92 Z\" fill=\"#000000\" fill-rule=\"evenodd\" fill-opacity=\"1\" /><path clip-path=\"url(#clip710)\" d=\"M780.216 1522.92 L784.475 1522.92 L784.475 1548.85 L780.216 1548.85 L780.216 1522.92 M780.216 1512.83 L784.475 1512.83 L784.475 1518.22 L780.216 1518.22 L780.216 1512.83 Z\" fill=\"#000000\" fill-rule=\"evenodd\" fill-opacity=\"1\" /><path clip-path=\"url(#clip710)\" d=\"M790.331 1522.92 L794.845 1522.92 L802.947 1544.68 L811.049 1522.92 L815.563 1522.92 L805.84 1548.85 L800.053 1548.85 L790.331 1522.92 Z\" fill=\"#000000\" fill-rule=\"evenodd\" fill-opacity=\"1\" /><path clip-path=\"url(#clip710)\" d=\"M843.618 1534.82 L843.618 1536.9 L824.035 1536.9 Q824.313 1541.3 826.674 1543.62 Q829.058 1545.91 833.294 1545.91 Q835.748 1545.91 838.039 1545.31 Q840.354 1544.7 842.623 1543.5 L842.623 1547.53 Q840.331 1548.5 837.924 1549.01 Q835.516 1549.52 833.039 1549.52 Q826.836 1549.52 823.201 1545.91 Q819.59 1542.3 819.59 1536.14 Q819.59 1529.77 823.016 1526.05 Q826.465 1522.3 832.299 1522.3 Q837.53 1522.3 840.562 1525.68 Q843.618 1529.03 843.618 1534.82 M839.359 1533.57 Q839.312 1530.07 837.391 1527.99 Q835.493 1525.91 832.345 1525.91 Q828.78 1525.91 826.627 1527.92 Q824.498 1529.94 824.174 1533.59 L839.359 1533.57 Z\" fill=\"#000000\" fill-rule=\"evenodd\" fill-opacity=\"1\" /><path clip-path=\"url(#clip710)\" d=\"M867.669 1526.86 L867.669 1512.83 L871.928 1512.83 L871.928 1548.85 L867.669 1548.85 L867.669 1544.96 Q866.326 1547.27 864.266 1548.41 Q862.229 1549.52 859.359 1549.52 Q854.66 1549.52 851.697 1545.77 Q848.757 1542.02 848.757 1535.91 Q848.757 1529.8 851.697 1526.05 Q854.66 1522.3 859.359 1522.3 Q862.229 1522.3 864.266 1523.43 Q866.326 1524.54 867.669 1526.86 M853.155 1535.91 Q853.155 1540.61 855.076 1543.29 Q857.021 1545.95 860.4 1545.95 Q863.78 1545.95 865.724 1543.29 Q867.669 1540.61 867.669 1535.91 Q867.669 1531.21 865.724 1528.55 Q863.78 1525.86 860.4 1525.86 Q857.021 1525.86 855.076 1528.55 Q853.155 1531.21 853.155 1535.91 Z\" fill=\"#000000\" fill-rule=\"evenodd\" fill-opacity=\"1\" /><path clip-path=\"url(#clip710)\" d=\"M1723.39 1515.42 L1723.39 1519.98 Q1720.72 1518.71 1718.36 1518.08 Q1716 1517.46 1713.8 1517.46 Q1709.98 1517.46 1707.9 1518.94 Q1705.84 1520.42 1705.84 1523.15 Q1705.84 1525.45 1707.21 1526.63 Q1708.59 1527.78 1712.44 1528.5 L1715.26 1529.08 Q1720.49 1530.07 1722.97 1532.6 Q1725.47 1535.1 1725.47 1539.31 Q1725.47 1544.33 1722.09 1546.93 Q1718.73 1549.52 1712.23 1549.52 Q1709.78 1549.52 1707 1548.96 Q1704.24 1548.41 1701.28 1547.32 L1701.28 1542.51 Q1704.13 1544.1 1706.86 1544.91 Q1709.59 1545.72 1712.23 1545.72 Q1716.23 1545.72 1718.41 1544.15 Q1720.59 1542.57 1720.59 1539.66 Q1720.59 1537.11 1719.01 1535.68 Q1717.46 1534.24 1713.9 1533.52 L1711.05 1532.97 Q1705.82 1531.93 1703.48 1529.7 Q1701.14 1527.48 1701.14 1523.52 Q1701.14 1518.94 1704.36 1516.3 Q1707.6 1513.66 1713.27 1513.66 Q1715.7 1513.66 1718.22 1514.1 Q1720.75 1514.54 1723.39 1515.42 Z\" fill=\"#000000\" fill-rule=\"evenodd\" fill-opacity=\"1\" /><path clip-path=\"url(#clip710)\" d=\"M1732.14 1538.62 L1732.14 1522.92 L1736.4 1522.92 L1736.4 1538.45 Q1736.4 1542.13 1737.83 1543.99 Q1739.27 1545.82 1742.14 1545.82 Q1745.59 1545.82 1747.58 1543.62 Q1749.59 1541.42 1749.59 1537.62 L1749.59 1522.92 L1753.85 1522.92 L1753.85 1548.85 L1749.59 1548.85 L1749.59 1544.87 Q1748.04 1547.23 1745.98 1548.38 Q1743.94 1549.52 1741.23 1549.52 Q1736.77 1549.52 1734.45 1546.74 Q1732.14 1543.96 1732.14 1538.62 M1742.85 1522.3 L1742.85 1522.3 Z\" fill=\"#000000\" fill-rule=\"evenodd\" fill-opacity=\"1\" /><path clip-path=\"url(#clip710)\" d=\"M1777.65 1526.9 Q1776.93 1526.49 1776.07 1526.3 Q1775.24 1526.09 1774.22 1526.09 Q1770.61 1526.09 1768.66 1528.45 Q1766.74 1530.79 1766.74 1535.19 L1766.74 1548.85 L1762.46 1548.85 L1762.46 1522.92 L1766.74 1522.92 L1766.74 1526.95 Q1768.09 1524.59 1770.24 1523.45 Q1772.39 1522.3 1775.47 1522.3 Q1775.91 1522.3 1776.44 1522.37 Q1776.97 1522.41 1777.62 1522.53 L1777.65 1526.9 Z\" fill=\"#000000\" fill-rule=\"evenodd\" fill-opacity=\"1\" /><path clip-path=\"url(#clip710)\" d=\"M1779.06 1522.92 L1783.57 1522.92 L1791.67 1544.68 L1799.77 1522.92 L1804.29 1522.92 L1794.57 1548.85 L1788.78 1548.85 L1779.06 1522.92 Z\" fill=\"#000000\" fill-rule=\"evenodd\" fill-opacity=\"1\" /><path clip-path=\"url(#clip710)\" d=\"M1810.17 1522.92 L1814.43 1522.92 L1814.43 1548.85 L1810.17 1548.85 L1810.17 1522.92 M1810.17 1512.83 L1814.43 1512.83 L1814.43 1518.22 L1810.17 1518.22 L1810.17 1512.83 Z\" fill=\"#000000\" fill-rule=\"evenodd\" fill-opacity=\"1\" /><path clip-path=\"url(#clip710)\" d=\"M1820.28 1522.92 L1824.8 1522.92 L1832.9 1544.68 L1841 1522.92 L1845.52 1522.92 L1835.79 1548.85 L1830.01 1548.85 L1820.28 1522.92 Z\" fill=\"#000000\" fill-rule=\"evenodd\" fill-opacity=\"1\" /><path clip-path=\"url(#clip710)\" d=\"M1873.57 1534.82 L1873.57 1536.9 L1853.99 1536.9 Q1854.27 1541.3 1856.63 1543.62 Q1859.01 1545.91 1863.25 1545.91 Q1865.7 1545.91 1867.99 1545.31 Q1870.31 1544.7 1872.58 1543.5 L1872.58 1547.53 Q1870.28 1548.5 1867.88 1549.01 Q1865.47 1549.52 1862.99 1549.52 Q1856.79 1549.52 1853.15 1545.91 Q1849.54 1542.3 1849.54 1536.14 Q1849.54 1529.77 1852.97 1526.05 Q1856.42 1522.3 1862.25 1522.3 Q1867.48 1522.3 1870.52 1525.68 Q1873.57 1529.03 1873.57 1534.82 M1869.31 1533.57 Q1869.27 1530.07 1867.34 1527.99 Q1865.45 1525.91 1862.3 1525.91 Q1858.73 1525.91 1856.58 1527.92 Q1854.45 1529.94 1854.13 1533.59 L1869.31 1533.57 Z\" fill=\"#000000\" fill-rule=\"evenodd\" fill-opacity=\"1\" /><path clip-path=\"url(#clip710)\" d=\"M1897.62 1526.86 L1897.62 1512.83 L1901.88 1512.83 L1901.88 1548.85 L1897.62 1548.85 L1897.62 1544.96 Q1896.28 1547.27 1894.22 1548.41 Q1892.18 1549.52 1889.31 1549.52 Q1884.61 1549.52 1881.65 1545.77 Q1878.71 1542.02 1878.71 1535.91 Q1878.71 1529.8 1881.65 1526.05 Q1884.61 1522.3 1889.31 1522.3 Q1892.18 1522.3 1894.22 1523.43 Q1896.28 1524.54 1897.62 1526.86 M1883.11 1535.91 Q1883.11 1540.61 1885.03 1543.29 Q1886.97 1545.95 1890.35 1545.95 Q1893.73 1545.95 1895.68 1543.29 Q1897.62 1540.61 1897.62 1535.91 Q1897.62 1531.21 1895.68 1528.55 Q1893.73 1525.86 1890.35 1525.86 Q1886.97 1525.86 1885.03 1528.55 Q1883.11 1531.21 1883.11 1535.91 Z\" fill=\"#000000\" fill-rule=\"evenodd\" fill-opacity=\"1\" /><polyline clip-path=\"url(#clip712)\" style=\"stroke:#000000; stroke-linecap:round; stroke-linejoin:round; stroke-width:2; stroke-opacity:0.1; fill:none\" points=\"172.015,1447.87 2352.76,1447.87 \"/>\n",
       "<polyline clip-path=\"url(#clip712)\" style=\"stroke:#000000; stroke-linecap:round; stroke-linejoin:round; stroke-width:2; stroke-opacity:0.1; fill:none\" points=\"172.015,1213.66 2352.76,1213.66 \"/>\n",
       "<polyline clip-path=\"url(#clip712)\" style=\"stroke:#000000; stroke-linecap:round; stroke-linejoin:round; stroke-width:2; stroke-opacity:0.1; fill:none\" points=\"172.015,979.448 2352.76,979.448 \"/>\n",
       "<polyline clip-path=\"url(#clip712)\" style=\"stroke:#000000; stroke-linecap:round; stroke-linejoin:round; stroke-width:2; stroke-opacity:0.1; fill:none\" points=\"172.015,745.236 2352.76,745.236 \"/>\n",
       "<polyline clip-path=\"url(#clip712)\" style=\"stroke:#000000; stroke-linecap:round; stroke-linejoin:round; stroke-width:2; stroke-opacity:0.1; fill:none\" points=\"172.015,511.023 2352.76,511.023 \"/>\n",
       "<polyline clip-path=\"url(#clip712)\" style=\"stroke:#000000; stroke-linecap:round; stroke-linejoin:round; stroke-width:2; stroke-opacity:0.1; fill:none\" points=\"172.015,276.811 2352.76,276.811 \"/>\n",
       "<polyline clip-path=\"url(#clip710)\" style=\"stroke:#000000; stroke-linecap:round; stroke-linejoin:round; stroke-width:4; stroke-opacity:1; fill:none\" points=\"172.015,1486.45 172.015,123.472 \"/>\n",
       "<polyline clip-path=\"url(#clip710)\" style=\"stroke:#000000; stroke-linecap:round; stroke-linejoin:round; stroke-width:4; stroke-opacity:1; fill:none\" points=\"172.015,1447.87 190.912,1447.87 \"/>\n",
       "<polyline clip-path=\"url(#clip710)\" style=\"stroke:#000000; stroke-linecap:round; stroke-linejoin:round; stroke-width:4; stroke-opacity:1; fill:none\" points=\"172.015,1213.66 190.912,1213.66 \"/>\n",
       "<polyline clip-path=\"url(#clip710)\" style=\"stroke:#000000; stroke-linecap:round; stroke-linejoin:round; stroke-width:4; stroke-opacity:1; fill:none\" points=\"172.015,979.448 190.912,979.448 \"/>\n",
       "<polyline clip-path=\"url(#clip710)\" style=\"stroke:#000000; stroke-linecap:round; stroke-linejoin:round; stroke-width:4; stroke-opacity:1; fill:none\" points=\"172.015,745.236 190.912,745.236 \"/>\n",
       "<polyline clip-path=\"url(#clip710)\" style=\"stroke:#000000; stroke-linecap:round; stroke-linejoin:round; stroke-width:4; stroke-opacity:1; fill:none\" points=\"172.015,511.023 190.912,511.023 \"/>\n",
       "<polyline clip-path=\"url(#clip710)\" style=\"stroke:#000000; stroke-linecap:round; stroke-linejoin:round; stroke-width:4; stroke-opacity:1; fill:none\" points=\"172.015,276.811 190.912,276.811 \"/>\n",
       "<path clip-path=\"url(#clip710)\" d=\"M124.07 1433.67 Q120.459 1433.67 118.631 1437.24 Q116.825 1440.78 116.825 1447.91 Q116.825 1455.01 118.631 1458.58 Q120.459 1462.12 124.07 1462.12 Q127.705 1462.12 129.51 1458.58 Q131.339 1455.01 131.339 1447.91 Q131.339 1440.78 129.51 1437.24 Q127.705 1433.67 124.07 1433.67 M124.07 1429.97 Q129.881 1429.97 132.936 1434.57 Q136.015 1439.16 136.015 1447.91 Q136.015 1456.63 132.936 1461.24 Q129.881 1465.82 124.07 1465.82 Q118.26 1465.82 115.182 1461.24 Q112.126 1456.63 112.126 1447.91 Q112.126 1439.16 115.182 1434.57 Q118.26 1429.97 124.07 1429.97 Z\" fill=\"#000000\" fill-rule=\"evenodd\" fill-opacity=\"1\" /><path clip-path=\"url(#clip710)\" d=\"M54.5569 1227.01 L62.1958 1227.01 L62.1958 1200.64 L53.8856 1202.31 L53.8856 1198.05 L62.1495 1196.38 L66.8254 1196.38 L66.8254 1227.01 L74.4642 1227.01 L74.4642 1230.94 L54.5569 1230.94 L54.5569 1227.01 Z\" fill=\"#000000\" fill-rule=\"evenodd\" fill-opacity=\"1\" /><path clip-path=\"url(#clip710)\" d=\"M93.9086 1199.46 Q90.2975 1199.46 88.4688 1203.02 Q86.6632 1206.57 86.6632 1213.7 Q86.6632 1220.8 88.4688 1224.37 Q90.2975 1227.91 93.9086 1227.91 Q97.5428 1227.91 99.3483 1224.37 Q101.177 1220.8 101.177 1213.7 Q101.177 1206.57 99.3483 1203.02 Q97.5428 1199.46 93.9086 1199.46 M93.9086 1195.76 Q99.7187 1195.76 102.774 1200.36 Q105.853 1204.95 105.853 1213.7 Q105.853 1222.42 102.774 1227.03 Q99.7187 1231.61 93.9086 1231.61 Q88.0984 1231.61 85.0197 1227.03 Q81.9642 1222.42 81.9642 1213.7 Q81.9642 1204.95 85.0197 1200.36 Q88.0984 1195.76 93.9086 1195.76 Z\" fill=\"#000000\" fill-rule=\"evenodd\" fill-opacity=\"1\" /><path clip-path=\"url(#clip710)\" d=\"M124.07 1199.46 Q120.459 1199.46 118.631 1203.02 Q116.825 1206.57 116.825 1213.7 Q116.825 1220.8 118.631 1224.37 Q120.459 1227.91 124.07 1227.91 Q127.705 1227.91 129.51 1224.37 Q131.339 1220.8 131.339 1213.7 Q131.339 1206.57 129.51 1203.02 Q127.705 1199.46 124.07 1199.46 M124.07 1195.76 Q129.881 1195.76 132.936 1200.36 Q136.015 1204.95 136.015 1213.7 Q136.015 1222.42 132.936 1227.03 Q129.881 1231.61 124.07 1231.61 Q118.26 1231.61 115.182 1227.03 Q112.126 1222.42 112.126 1213.7 Q112.126 1204.95 115.182 1200.36 Q118.26 1195.76 124.07 1195.76 Z\" fill=\"#000000\" fill-rule=\"evenodd\" fill-opacity=\"1\" /><path clip-path=\"url(#clip710)\" d=\"M57.7745 992.793 L74.0939 992.793 L74.0939 996.728 L52.1495 996.728 L52.1495 992.793 Q54.8115 990.038 59.3949 985.409 Q64.0013 980.756 65.1819 979.414 Q67.4272 976.89 68.3068 975.154 Q69.2096 973.395 69.2096 971.705 Q69.2096 968.951 67.2652 967.215 Q65.3439 965.478 62.2421 965.478 Q60.043 965.478 57.5893 966.242 Q55.1588 967.006 52.381 968.557 L52.381 963.835 Q55.2051 962.701 57.6588 962.122 Q60.1124 961.543 62.1495 961.543 Q67.5198 961.543 70.7142 964.228 Q73.9087 966.914 73.9087 971.404 Q73.9087 973.534 73.0985 975.455 Q72.3115 977.353 70.205 979.946 Q69.6263 980.617 66.5245 983.835 Q63.4226 987.029 57.7745 992.793 Z\" fill=\"#000000\" fill-rule=\"evenodd\" fill-opacity=\"1\" /><path clip-path=\"url(#clip710)\" d=\"M93.9086 965.247 Q90.2975 965.247 88.4688 968.812 Q86.6632 972.353 86.6632 979.483 Q86.6632 986.589 88.4688 990.154 Q90.2975 993.696 93.9086 993.696 Q97.5428 993.696 99.3483 990.154 Q101.177 986.589 101.177 979.483 Q101.177 972.353 99.3483 968.812 Q97.5428 965.247 93.9086 965.247 M93.9086 961.543 Q99.7187 961.543 102.774 966.15 Q105.853 970.733 105.853 979.483 Q105.853 988.21 102.774 992.816 Q99.7187 997.4 93.9086 997.4 Q88.0984 997.4 85.0197 992.816 Q81.9642 988.21 81.9642 979.483 Q81.9642 970.733 85.0197 966.15 Q88.0984 961.543 93.9086 961.543 Z\" fill=\"#000000\" fill-rule=\"evenodd\" fill-opacity=\"1\" /><path clip-path=\"url(#clip710)\" d=\"M124.07 965.247 Q120.459 965.247 118.631 968.812 Q116.825 972.353 116.825 979.483 Q116.825 986.589 118.631 990.154 Q120.459 993.696 124.07 993.696 Q127.705 993.696 129.51 990.154 Q131.339 986.589 131.339 979.483 Q131.339 972.353 129.51 968.812 Q127.705 965.247 124.07 965.247 M124.07 961.543 Q129.881 961.543 132.936 966.15 Q136.015 970.733 136.015 979.483 Q136.015 988.21 132.936 992.816 Q129.881 997.4 124.07 997.4 Q118.26 997.4 115.182 992.816 Q112.126 988.21 112.126 979.483 Q112.126 970.733 115.182 966.15 Q118.26 961.543 124.07 961.543 Z\" fill=\"#000000\" fill-rule=\"evenodd\" fill-opacity=\"1\" /><path clip-path=\"url(#clip710)\" d=\"M67.9133 743.882 Q71.2698 744.599 73.1448 746.868 Q75.0429 749.136 75.0429 752.47 Q75.0429 757.585 71.5244 760.386 Q68.0059 763.187 61.5245 763.187 Q59.3486 763.187 57.0338 762.747 Q54.7421 762.331 52.2884 761.474 L52.2884 756.96 Q54.2328 758.095 56.5477 758.673 Q58.8625 759.252 61.3856 759.252 Q65.7837 759.252 68.0754 757.516 Q70.3902 755.78 70.3902 752.47 Q70.3902 749.414 68.2374 747.701 Q66.1078 745.965 62.2884 745.965 L58.2606 745.965 L58.2606 742.122 L62.4735 742.122 Q65.9226 742.122 67.7513 740.757 Q69.58 739.368 69.58 736.775 Q69.58 734.113 67.6819 732.701 Q65.8069 731.266 62.2884 731.266 Q60.3671 731.266 58.168 731.683 Q55.969 732.099 53.3301 732.979 L53.3301 728.812 Q55.9921 728.072 58.3069 727.701 Q60.6449 727.331 62.705 727.331 Q68.0291 727.331 71.1309 729.761 Q74.2327 732.169 74.2327 736.289 Q74.2327 739.159 72.5892 741.15 Q70.9457 743.118 67.9133 743.882 Z\" fill=\"#000000\" fill-rule=\"evenodd\" fill-opacity=\"1\" /><path clip-path=\"url(#clip710)\" d=\"M93.9086 731.035 Q90.2975 731.035 88.4688 734.599 Q86.6632 738.141 86.6632 745.271 Q86.6632 752.377 88.4688 755.942 Q90.2975 759.483 93.9086 759.483 Q97.5428 759.483 99.3483 755.942 Q101.177 752.377 101.177 745.271 Q101.177 738.141 99.3483 734.599 Q97.5428 731.035 93.9086 731.035 M93.9086 727.331 Q99.7187 727.331 102.774 731.937 Q105.853 736.521 105.853 745.271 Q105.853 753.997 102.774 758.604 Q99.7187 763.187 93.9086 763.187 Q88.0984 763.187 85.0197 758.604 Q81.9642 753.997 81.9642 745.271 Q81.9642 736.521 85.0197 731.937 Q88.0984 727.331 93.9086 727.331 Z\" fill=\"#000000\" fill-rule=\"evenodd\" fill-opacity=\"1\" /><path clip-path=\"url(#clip710)\" d=\"M124.07 731.035 Q120.459 731.035 118.631 734.599 Q116.825 738.141 116.825 745.271 Q116.825 752.377 118.631 755.942 Q120.459 759.483 124.07 759.483 Q127.705 759.483 129.51 755.942 Q131.339 752.377 131.339 745.271 Q131.339 738.141 129.51 734.599 Q127.705 731.035 124.07 731.035 M124.07 727.331 Q129.881 727.331 132.936 731.937 Q136.015 736.521 136.015 745.271 Q136.015 753.997 132.936 758.604 Q129.881 763.187 124.07 763.187 Q118.26 763.187 115.182 758.604 Q112.126 753.997 112.126 745.271 Q112.126 736.521 115.182 731.937 Q118.26 727.331 124.07 727.331 Z\" fill=\"#000000\" fill-rule=\"evenodd\" fill-opacity=\"1\" /><path clip-path=\"url(#clip710)\" d=\"M66.5939 497.817 L54.7884 516.266 L66.5939 516.266 L66.5939 497.817 M65.367 493.743 L71.2466 493.743 L71.2466 516.266 L76.1772 516.266 L76.1772 520.155 L71.2466 520.155 L71.2466 528.303 L66.5939 528.303 L66.5939 520.155 L50.9921 520.155 L50.9921 515.641 L65.367 493.743 Z\" fill=\"#000000\" fill-rule=\"evenodd\" fill-opacity=\"1\" /><path clip-path=\"url(#clip710)\" d=\"M93.9086 496.822 Q90.2975 496.822 88.4688 500.387 Q86.6632 503.929 86.6632 511.058 Q86.6632 518.165 88.4688 521.729 Q90.2975 525.271 93.9086 525.271 Q97.5428 525.271 99.3483 521.729 Q101.177 518.165 101.177 511.058 Q101.177 503.929 99.3483 500.387 Q97.5428 496.822 93.9086 496.822 M93.9086 493.118 Q99.7187 493.118 102.774 497.725 Q105.853 502.308 105.853 511.058 Q105.853 519.785 102.774 524.391 Q99.7187 528.975 93.9086 528.975 Q88.0984 528.975 85.0197 524.391 Q81.9642 519.785 81.9642 511.058 Q81.9642 502.308 85.0197 497.725 Q88.0984 493.118 93.9086 493.118 Z\" fill=\"#000000\" fill-rule=\"evenodd\" fill-opacity=\"1\" /><path clip-path=\"url(#clip710)\" d=\"M124.07 496.822 Q120.459 496.822 118.631 500.387 Q116.825 503.929 116.825 511.058 Q116.825 518.165 118.631 521.729 Q120.459 525.271 124.07 525.271 Q127.705 525.271 129.51 521.729 Q131.339 518.165 131.339 511.058 Q131.339 503.929 129.51 500.387 Q127.705 496.822 124.07 496.822 M124.07 493.118 Q129.881 493.118 132.936 497.725 Q136.015 502.308 136.015 511.058 Q136.015 519.785 132.936 524.391 Q129.881 528.975 124.07 528.975 Q118.26 528.975 115.182 524.391 Q112.126 519.785 112.126 511.058 Q112.126 502.308 115.182 497.725 Q118.26 493.118 124.07 493.118 Z\" fill=\"#000000\" fill-rule=\"evenodd\" fill-opacity=\"1\" /><path clip-path=\"url(#clip710)\" d=\"M53.793 259.531 L72.1494 259.531 L72.1494 263.466 L58.0754 263.466 L58.0754 271.938 Q59.0939 271.591 60.1124 271.429 Q61.131 271.244 62.1495 271.244 Q67.9365 271.244 71.3161 274.415 Q74.6957 277.586 74.6957 283.003 Q74.6957 288.582 71.2235 291.684 Q67.7513 294.762 61.4319 294.762 Q59.256 294.762 56.9875 294.392 Q54.7421 294.022 52.3347 293.281 L52.3347 288.582 Q54.418 289.716 56.6402 290.272 Q58.8625 290.827 61.3393 290.827 Q65.3439 290.827 67.6819 288.721 Q70.0198 286.614 70.0198 283.003 Q70.0198 279.392 67.6819 277.286 Q65.3439 275.179 61.3393 275.179 Q59.4643 275.179 57.5893 275.596 Q55.7375 276.012 53.793 276.892 L53.793 259.531 Z\" fill=\"#000000\" fill-rule=\"evenodd\" fill-opacity=\"1\" /><path clip-path=\"url(#clip710)\" d=\"M93.9086 262.61 Q90.2975 262.61 88.4688 266.174 Q86.6632 269.716 86.6632 276.846 Q86.6632 283.952 88.4688 287.517 Q90.2975 291.059 93.9086 291.059 Q97.5428 291.059 99.3483 287.517 Q101.177 283.952 101.177 276.846 Q101.177 269.716 99.3483 266.174 Q97.5428 262.61 93.9086 262.61 M93.9086 258.906 Q99.7187 258.906 102.774 263.512 Q105.853 268.096 105.853 276.846 Q105.853 285.573 102.774 290.179 Q99.7187 294.762 93.9086 294.762 Q88.0984 294.762 85.0197 290.179 Q81.9642 285.573 81.9642 276.846 Q81.9642 268.096 85.0197 263.512 Q88.0984 258.906 93.9086 258.906 Z\" fill=\"#000000\" fill-rule=\"evenodd\" fill-opacity=\"1\" /><path clip-path=\"url(#clip710)\" d=\"M124.07 262.61 Q120.459 262.61 118.631 266.174 Q116.825 269.716 116.825 276.846 Q116.825 283.952 118.631 287.517 Q120.459 291.059 124.07 291.059 Q127.705 291.059 129.51 287.517 Q131.339 283.952 131.339 276.846 Q131.339 269.716 129.51 266.174 Q127.705 262.61 124.07 262.61 M124.07 258.906 Q129.881 258.906 132.936 263.512 Q136.015 268.096 136.015 276.846 Q136.015 285.573 132.936 290.179 Q129.881 294.762 124.07 294.762 Q118.26 294.762 115.182 290.179 Q112.126 285.573 112.126 276.846 Q112.126 268.096 115.182 263.512 Q118.26 258.906 124.07 258.906 Z\" fill=\"#000000\" fill-rule=\"evenodd\" fill-opacity=\"1\" /><path clip-path=\"url(#clip710)\" d=\"M876.618 14.0809 L876.618 22.0612 Q871.959 19.8332 867.827 18.7395 Q863.695 17.6457 859.847 17.6457 Q853.163 17.6457 849.517 20.2383 Q845.912 22.8309 845.912 27.611 Q845.912 31.6214 848.302 33.6873 Q850.732 35.7128 857.457 36.9686 L862.399 37.9813 Q871.554 39.7232 875.889 44.1387 Q880.264 48.5136 880.264 55.8863 Q880.264 64.6767 874.349 69.2137 Q868.475 73.7508 857.092 73.7508 Q852.798 73.7508 847.937 72.7785 Q843.117 71.8063 837.932 69.9024 L837.932 61.4765 Q842.914 64.2716 847.694 65.6895 Q852.474 67.1073 857.092 67.1073 Q864.1 67.1073 867.908 64.3527 Q871.716 61.598 871.716 56.4939 Q871.716 52.0379 868.962 49.5264 Q866.247 47.0148 860.009 45.759 L855.026 44.7868 Q845.871 42.9639 841.78 39.075 Q837.689 35.1862 837.689 28.2591 Q837.689 20.2383 843.319 15.6203 Q848.991 11.0023 858.915 11.0023 Q863.169 11.0023 867.584 11.7719 Q872 12.5416 876.618 14.0809 Z\" fill=\"#000000\" fill-rule=\"evenodd\" fill-opacity=\"1\" /><path clip-path=\"url(#clip710)\" d=\"M891.93 54.671 L891.93 27.2059 L899.384 27.2059 L899.384 54.3874 Q899.384 60.8284 901.895 64.0691 Q904.407 67.2693 909.43 67.2693 Q915.466 67.2693 918.95 63.421 Q922.474 59.5726 922.474 52.9291 L922.474 27.2059 L929.928 27.2059 L929.928 72.576 L922.474 72.576 L922.474 65.6084 Q919.76 69.7404 916.155 71.7658 Q912.59 73.7508 907.85 73.7508 Q900.032 73.7508 895.981 68.8897 Q891.93 64.0286 891.93 54.671 M910.686 26.1121 L910.686 26.1121 Z\" fill=\"#000000\" fill-rule=\"evenodd\" fill-opacity=\"1\" /><path clip-path=\"url(#clip710)\" d=\"M971.571 34.1734 Q970.315 33.4443 968.816 33.1202 Q967.358 32.7556 965.576 32.7556 Q959.256 32.7556 955.853 36.8875 Q952.491 40.9789 952.491 48.6757 L952.491 72.576 L944.997 72.576 L944.997 27.2059 L952.491 27.2059 L952.491 34.2544 Q954.841 30.1225 958.608 28.1376 Q962.375 26.1121 967.763 26.1121 Q968.533 26.1121 969.464 26.2337 Q970.396 26.3147 971.53 26.5172 L971.571 34.1734 Z\" fill=\"#000000\" fill-rule=\"evenodd\" fill-opacity=\"1\" /><path clip-path=\"url(#clip710)\" d=\"M974.042 27.2059 L981.941 27.2059 L996.119 65.2844 L1010.3 27.2059 L1018.2 27.2059 L1001.18 72.576 L991.056 72.576 L974.042 27.2059 Z\" fill=\"#000000\" fill-rule=\"evenodd\" fill-opacity=\"1\" /><path clip-path=\"url(#clip710)\" d=\"M1028.49 27.2059 L1035.94 27.2059 L1035.94 72.576 L1028.49 72.576 L1028.49 27.2059 M1028.49 9.54393 L1035.94 9.54393 L1035.94 18.9825 L1028.49 18.9825 L1028.49 9.54393 Z\" fill=\"#000000\" fill-rule=\"evenodd\" fill-opacity=\"1\" /><path clip-path=\"url(#clip710)\" d=\"M1046.19 27.2059 L1054.09 27.2059 L1068.27 65.2844 L1082.44 27.2059 L1090.34 27.2059 L1073.33 72.576 L1063.2 72.576 L1046.19 27.2059 Z\" fill=\"#000000\" fill-rule=\"evenodd\" fill-opacity=\"1\" /><path clip-path=\"url(#clip710)\" d=\"M1139.44 48.0275 L1139.44 51.6733 L1105.17 51.6733 Q1105.66 59.3701 1109.79 63.421 Q1113.96 67.4314 1121.37 67.4314 Q1125.67 67.4314 1129.68 66.3781 Q1133.73 65.3249 1137.7 63.2184 L1137.7 70.267 Q1133.69 71.9684 1129.48 72.8596 Q1125.26 73.7508 1120.93 73.7508 Q1110.07 73.7508 1103.71 67.4314 Q1097.39 61.1119 1097.39 50.3365 Q1097.39 39.1965 1103.39 32.6746 Q1109.42 26.1121 1119.63 26.1121 Q1128.79 26.1121 1134.09 32.0264 Q1139.44 37.9003 1139.44 48.0275 M1131.99 45.84 Q1131.91 39.7232 1128.54 36.0774 Q1125.22 32.4315 1119.71 32.4315 Q1113.47 32.4315 1109.71 35.9558 Q1105.98 39.4801 1105.41 45.8805 L1131.99 45.84 Z\" fill=\"#000000\" fill-rule=\"evenodd\" fill-opacity=\"1\" /><path clip-path=\"url(#clip710)\" d=\"M1181.53 34.0924 L1181.53 9.54393 L1188.98 9.54393 L1188.98 72.576 L1181.53 72.576 L1181.53 65.7705 Q1179.18 69.8214 1175.57 71.8063 Q1172.01 73.7508 1166.99 73.7508 Q1158.76 73.7508 1153.58 67.1883 Q1148.43 60.6258 1148.43 49.9314 Q1148.43 39.2371 1153.58 32.6746 Q1158.76 26.1121 1166.99 26.1121 Q1172.01 26.1121 1175.57 28.0971 Q1179.18 30.0415 1181.53 34.0924 M1156.13 49.9314 Q1156.13 58.1548 1159.49 62.8538 Q1162.9 67.5124 1168.81 67.5124 Q1174.72 67.5124 1178.13 62.8538 Q1181.53 58.1548 1181.53 49.9314 Q1181.53 41.7081 1178.13 37.0496 Q1174.72 32.3505 1168.81 32.3505 Q1162.9 32.3505 1159.49 37.0496 Q1156.13 41.7081 1156.13 49.9314 Z\" fill=\"#000000\" fill-rule=\"evenodd\" fill-opacity=\"1\" /><path clip-path=\"url(#clip710)\" d=\"M1239.21 18.8205 L1239.21 41.5461 L1249.5 41.5461 Q1255.22 41.5461 1258.33 38.5889 Q1261.45 35.6318 1261.45 30.163 Q1261.45 24.7348 1258.33 21.7777 Q1255.22 18.8205 1249.5 18.8205 L1239.21 18.8205 M1231.03 12.096 L1249.5 12.096 Q1259.67 12.096 1264.86 16.714 Q1270.08 21.2916 1270.08 30.163 Q1270.08 39.1155 1264.86 43.6931 Q1259.67 48.2706 1249.5 48.2706 L1239.21 48.2706 L1239.21 72.576 L1231.03 72.576 L1231.03 12.096 Z\" fill=\"#000000\" fill-rule=\"evenodd\" fill-opacity=\"1\" /><path clip-path=\"url(#clip710)\" d=\"M1297.63 49.7694 Q1288.59 49.7694 1285.11 51.8354 Q1281.63 53.9013 1281.63 58.8839 Q1281.63 62.8538 1284.22 65.2034 Q1286.85 67.5124 1291.35 67.5124 Q1297.55 67.5124 1301.27 63.1374 Q1305.04 58.7219 1305.04 51.4303 L1305.04 49.7694 L1297.63 49.7694 M1312.5 46.6907 L1312.5 72.576 L1305.04 72.576 L1305.04 65.6895 Q1302.49 69.8214 1298.68 71.8063 Q1294.87 73.7508 1289.36 73.7508 Q1282.4 73.7508 1278.26 69.8619 Q1274.17 65.9325 1274.17 59.3701 Q1274.17 51.7138 1279.28 47.825 Q1284.42 43.9361 1294.59 43.9361 L1305.04 43.9361 L1305.04 43.2069 Q1305.04 38.0623 1301.64 35.2672 Q1298.28 32.4315 1292.16 32.4315 Q1288.27 32.4315 1284.58 33.3632 Q1280.9 34.295 1277.5 36.1584 L1277.5 29.2718 Q1281.59 27.692 1285.44 26.9223 Q1289.28 26.1121 1292.93 26.1121 Q1302.77 26.1121 1307.63 31.2163 Q1312.5 36.3204 1312.5 46.6907 Z\" fill=\"#000000\" fill-rule=\"evenodd\" fill-opacity=\"1\" /><path clip-path=\"url(#clip710)\" d=\"M1356.77 28.5427 L1356.77 35.5912 Q1353.61 33.9709 1350.21 33.1607 Q1346.81 32.3505 1343.16 32.3505 Q1337.61 32.3505 1334.82 34.0519 Q1332.06 35.7533 1332.06 39.156 Q1332.06 41.7486 1334.05 43.2475 Q1336.03 44.7058 1342.03 46.0426 L1344.58 46.6097 Q1352.52 48.3111 1355.84 51.4303 Q1359.2 54.509 1359.2 60.0587 Q1359.2 66.3781 1354.18 70.0644 Q1349.2 73.7508 1340.45 73.7508 Q1336.8 73.7508 1332.83 73.0216 Q1328.9 72.3329 1324.53 70.9151 L1324.53 63.2184 Q1328.66 65.3654 1332.67 66.4591 Q1336.68 67.5124 1340.61 67.5124 Q1345.87 67.5124 1348.71 65.73 Q1351.55 63.9071 1351.55 60.6258 Q1351.55 57.5877 1349.48 55.9673 Q1347.45 54.3469 1340.53 52.8481 L1337.93 52.2405 Q1331.01 50.7821 1327.93 47.7845 Q1324.85 44.7463 1324.85 39.4801 Q1324.85 33.0797 1329.39 29.5959 Q1333.92 26.1121 1342.27 26.1121 Q1346.4 26.1121 1350.05 26.7198 Q1353.69 27.3274 1356.77 28.5427 Z\" fill=\"#000000\" fill-rule=\"evenodd\" fill-opacity=\"1\" /><path clip-path=\"url(#clip710)\" d=\"M1399.99 28.5427 L1399.99 35.5912 Q1396.83 33.9709 1393.43 33.1607 Q1390.03 32.3505 1386.38 32.3505 Q1380.83 32.3505 1378.04 34.0519 Q1375.28 35.7533 1375.28 39.156 Q1375.28 41.7486 1377.27 43.2475 Q1379.25 44.7058 1385.25 46.0426 L1387.8 46.6097 Q1395.74 48.3111 1399.06 51.4303 Q1402.43 54.509 1402.43 60.0587 Q1402.43 66.3781 1397.4 70.0644 Q1392.42 73.7508 1383.67 73.7508 Q1380.02 73.7508 1376.05 73.0216 Q1372.12 72.3329 1367.75 70.9151 L1367.75 63.2184 Q1371.88 65.3654 1375.89 66.4591 Q1379.9 67.5124 1383.83 67.5124 Q1389.1 67.5124 1391.93 65.73 Q1394.77 63.9071 1394.77 60.6258 Q1394.77 57.5877 1392.7 55.9673 Q1390.68 54.3469 1383.75 52.8481 L1381.16 52.2405 Q1374.23 50.7821 1371.15 47.7845 Q1368.07 44.7463 1368.07 39.4801 Q1368.07 33.0797 1372.61 29.5959 Q1377.15 26.1121 1385.49 26.1121 Q1389.62 26.1121 1393.27 26.7198 Q1396.92 27.3274 1399.99 28.5427 Z\" fill=\"#000000\" fill-rule=\"evenodd\" fill-opacity=\"1\" /><path clip-path=\"url(#clip710)\" d=\"M1453.1 48.0275 L1453.1 51.6733 L1418.83 51.6733 Q1419.32 59.3701 1423.45 63.421 Q1427.62 67.4314 1435.03 67.4314 Q1439.33 67.4314 1443.34 66.3781 Q1447.39 65.3249 1451.36 63.2184 L1451.36 70.267 Q1447.35 71.9684 1443.14 72.8596 Q1438.92 73.7508 1434.59 73.7508 Q1423.73 73.7508 1417.37 67.4314 Q1411.05 61.1119 1411.05 50.3365 Q1411.05 39.1965 1417.05 32.6746 Q1423.08 26.1121 1433.29 26.1121 Q1442.45 26.1121 1447.75 32.0264 Q1453.1 37.9003 1453.1 48.0275 M1445.65 45.84 Q1445.57 39.7232 1442.21 36.0774 Q1438.88 32.4315 1433.37 32.4315 Q1427.14 32.4315 1423.37 35.9558 Q1419.64 39.4801 1419.07 45.8805 L1445.65 45.84 Z\" fill=\"#000000\" fill-rule=\"evenodd\" fill-opacity=\"1\" /><path clip-path=\"url(#clip710)\" d=\"M1503.05 45.1919 L1503.05 72.576 L1495.6 72.576 L1495.6 45.4349 Q1495.6 38.994 1493.08 35.7938 Q1490.57 32.5936 1485.55 32.5936 Q1479.51 32.5936 1476.03 36.4419 Q1472.55 40.2903 1472.55 46.9338 L1472.55 72.576 L1465.05 72.576 L1465.05 27.2059 L1472.55 27.2059 L1472.55 34.2544 Q1475.22 30.163 1478.83 28.1376 Q1482.47 26.1121 1487.21 26.1121 Q1495.03 26.1121 1499.04 30.9732 Q1503.05 35.7938 1503.05 45.1919 Z\" fill=\"#000000\" fill-rule=\"evenodd\" fill-opacity=\"1\" /><path clip-path=\"url(#clip710)\" d=\"M1547.77 49.3643 Q1547.77 41.2625 1544.41 36.8065 Q1541.09 32.3505 1535.05 32.3505 Q1529.06 32.3505 1525.69 36.8065 Q1522.37 41.2625 1522.37 49.3643 Q1522.37 57.4256 1525.69 61.8816 Q1529.06 66.3376 1535.05 66.3376 Q1541.09 66.3376 1544.41 61.8816 Q1547.77 57.4256 1547.77 49.3643 M1555.23 66.9452 Q1555.23 78.5308 1550.08 84.1616 Q1544.94 89.8329 1534.32 89.8329 Q1530.39 89.8329 1526.91 89.2252 Q1523.43 88.6581 1520.14 87.4428 L1520.14 80.1917 Q1523.43 81.9741 1526.63 82.8248 Q1529.83 83.6755 1533.15 83.6755 Q1540.48 83.6755 1544.13 79.8271 Q1547.77 76.0193 1547.77 68.282 L1547.77 64.5957 Q1545.46 68.6061 1541.86 70.5911 Q1538.25 72.576 1533.23 72.576 Q1524.88 72.576 1519.78 66.2161 Q1514.68 59.8562 1514.68 49.3643 Q1514.68 38.832 1519.78 32.472 Q1524.88 26.1121 1533.23 26.1121 Q1538.25 26.1121 1541.86 28.0971 Q1545.46 30.082 1547.77 34.0924 L1547.77 27.2059 L1555.23 27.2059 L1555.23 66.9452 Z\" fill=\"#000000\" fill-rule=\"evenodd\" fill-opacity=\"1\" /><path clip-path=\"url(#clip710)\" d=\"M1609.39 48.0275 L1609.39 51.6733 L1575.12 51.6733 Q1575.6 59.3701 1579.73 63.421 Q1583.91 67.4314 1591.32 67.4314 Q1595.61 67.4314 1599.62 66.3781 Q1603.67 65.3249 1607.64 63.2184 L1607.64 70.267 Q1603.63 71.9684 1599.42 72.8596 Q1595.21 73.7508 1590.87 73.7508 Q1580.02 73.7508 1573.66 67.4314 Q1567.34 61.1119 1567.34 50.3365 Q1567.34 39.1965 1573.33 32.6746 Q1579.37 26.1121 1589.58 26.1121 Q1598.73 26.1121 1604.04 32.0264 Q1609.39 37.9003 1609.39 48.0275 M1601.93 45.84 Q1601.85 39.7232 1598.49 36.0774 Q1595.17 32.4315 1589.66 32.4315 Q1583.42 32.4315 1579.65 35.9558 Q1575.93 39.4801 1575.36 45.8805 L1601.93 45.84 Z\" fill=\"#000000\" fill-rule=\"evenodd\" fill-opacity=\"1\" /><path clip-path=\"url(#clip710)\" d=\"M1647.91 34.1734 Q1646.65 33.4443 1645.16 33.1202 Q1643.7 32.7556 1641.91 32.7556 Q1635.6 32.7556 1632.19 36.8875 Q1628.83 40.9789 1628.83 48.6757 L1628.83 72.576 L1621.34 72.576 L1621.34 27.2059 L1628.83 27.2059 L1628.83 34.2544 Q1631.18 30.1225 1634.95 28.1376 Q1638.71 26.1121 1644.1 26.1121 Q1644.87 26.1121 1645.8 26.2337 Q1646.74 26.3147 1647.87 26.5172 L1647.91 34.1734 Z\" fill=\"#000000\" fill-rule=\"evenodd\" fill-opacity=\"1\" /><path clip-path=\"url(#clip710)\" d=\"M1684.65 28.5427 L1684.65 35.5912 Q1681.49 33.9709 1678.09 33.1607 Q1674.69 32.3505 1671.04 32.3505 Q1665.49 32.3505 1662.7 34.0519 Q1659.94 35.7533 1659.94 39.156 Q1659.94 41.7486 1661.93 43.2475 Q1663.91 44.7058 1669.91 46.0426 L1672.46 46.6097 Q1680.4 48.3111 1683.72 51.4303 Q1687.08 54.509 1687.08 60.0587 Q1687.08 66.3781 1682.06 70.0644 Q1677.08 73.7508 1668.33 73.7508 Q1664.68 73.7508 1660.71 73.0216 Q1656.78 72.3329 1652.41 70.9151 L1652.41 63.2184 Q1656.54 65.3654 1660.55 66.4591 Q1664.56 67.5124 1668.49 67.5124 Q1673.75 67.5124 1676.59 65.73 Q1679.43 63.9071 1679.43 60.6258 Q1679.43 57.5877 1677.36 55.9673 Q1675.33 54.3469 1668.41 52.8481 L1665.81 52.2405 Q1658.89 50.7821 1655.81 47.7845 Q1652.73 44.7463 1652.73 39.4801 Q1652.73 33.0797 1657.27 29.5959 Q1661.8 26.1121 1670.15 26.1121 Q1674.28 26.1121 1677.93 26.7198 Q1681.57 27.3274 1684.65 28.5427 Z\" fill=\"#000000\" fill-rule=\"evenodd\" fill-opacity=\"1\" /><path clip-path=\"url(#clip712)\" d=\"M291.959 162.047 L291.959 1447.87 L1154.56 1447.87 L1154.56 162.047 L291.959 162.047 L291.959 162.047  Z\" fill=\"#009af9\" fill-rule=\"evenodd\" fill-opacity=\"1\"/>\n",
       "<polyline clip-path=\"url(#clip712)\" style=\"stroke:#000000; stroke-linecap:round; stroke-linejoin:round; stroke-width:4; stroke-opacity:1; fill:none\" points=\"291.959,162.047 291.959,1447.87 1154.56,1447.87 1154.56,162.047 291.959,162.047 \"/>\n",
       "<path clip-path=\"url(#clip712)\" d=\"M1370.21 651.551 L1370.21 1447.87 L2232.81 1447.87 L2232.81 651.551 L1370.21 651.551 L1370.21 651.551  Z\" fill=\"#009af9\" fill-rule=\"evenodd\" fill-opacity=\"1\"/>\n",
       "<polyline clip-path=\"url(#clip712)\" style=\"stroke:#000000; stroke-linecap:round; stroke-linejoin:round; stroke-width:4; stroke-opacity:1; fill:none\" points=\"1370.21,651.551 1370.21,1447.87 2232.81,1447.87 2232.81,651.551 1370.21,651.551 \"/>\n",
       "<circle clip-path=\"url(#clip712)\" style=\"fill:#009af9; stroke:none; fill-opacity:0\" cx=\"723.26\" cy=\"162.047\" r=\"2\"/>\n",
       "<circle clip-path=\"url(#clip712)\" style=\"fill:#009af9; stroke:none; fill-opacity:0\" cx=\"1801.51\" cy=\"651.551\" r=\"2\"/>\n",
       "<path clip-path=\"url(#clip710)\" d=\"M652.754 131.807 L684.878 131.807 L684.878 138.693 L660.248 138.693 L660.248 153.52 Q662.03 152.912 663.813 152.629 Q665.595 152.304 667.378 152.304 Q677.505 152.304 683.419 157.854 Q689.334 163.404 689.334 172.883 Q689.334 182.646 683.257 188.074 Q677.181 193.462 666.122 193.462 Q662.314 193.462 658.344 192.814 Q654.415 192.165 650.202 190.869 L650.202 182.646 Q653.848 184.631 657.736 185.603 Q661.625 186.575 665.96 186.575 Q672.968 186.575 677.059 182.889 Q681.151 179.202 681.151 172.883 Q681.151 166.564 677.059 162.877 Q672.968 159.191 665.96 159.191 Q662.679 159.191 659.397 159.92 Q656.157 160.649 652.754 162.189 L652.754 131.807 Z\" fill=\"#000000\" fill-rule=\"evenodd\" fill-opacity=\"1\" /><path clip-path=\"url(#clip710)\" d=\"M727.939 138.937 L707.279 171.222 L727.939 171.222 L727.939 138.937 M725.792 131.807 L736.081 131.807 L736.081 171.222 L744.709 171.222 L744.709 178.028 L736.081 178.028 L736.081 192.287 L727.939 192.287 L727.939 178.028 L700.636 178.028 L700.636 170.128 L725.792 131.807 Z\" fill=\"#000000\" fill-rule=\"evenodd\" fill-opacity=\"1\" /><path clip-path=\"url(#clip710)\" d=\"M758.482 191.031 L758.482 183.577 Q761.561 185.036 764.721 185.805 Q767.881 186.575 770.919 186.575 Q779.021 186.575 783.274 181.147 Q787.568 175.678 788.176 164.579 Q785.826 168.063 782.221 169.926 Q778.615 171.789 774.24 171.789 Q765.166 171.789 759.86 166.321 Q754.594 160.811 754.594 151.292 Q754.594 141.975 760.103 136.344 Q765.612 130.713 774.767 130.713 Q785.259 130.713 790.768 138.774 Q796.318 146.795 796.318 162.108 Q796.318 176.407 789.512 184.955 Q782.747 193.462 771.283 193.462 Q768.205 193.462 765.045 192.854 Q761.885 192.246 758.482 191.031 M774.767 165.389 Q780.276 165.389 783.477 161.622 Q786.717 157.854 786.717 151.292 Q786.717 144.77 783.477 141.002 Q780.276 137.195 774.767 137.195 Q769.258 137.195 766.017 141.002 Q762.817 144.77 762.817 151.292 Q762.817 157.854 766.017 161.622 Q769.258 165.389 774.767 165.389 Z\" fill=\"#000000\" fill-rule=\"evenodd\" fill-opacity=\"1\" /><path clip-path=\"url(#clip710)\" d=\"M1755.59 649.181 Q1761.47 650.437 1764.75 654.407 Q1768.07 658.377 1768.07 664.21 Q1768.07 673.162 1761.91 678.064 Q1755.76 682.966 1744.41 682.966 Q1740.61 682.966 1736.55 682.196 Q1732.54 681.467 1728.25 679.968 L1728.25 672.069 Q1731.65 674.054 1735.7 675.066 Q1739.75 676.079 1744.17 676.079 Q1751.87 676.079 1755.88 673.041 Q1759.93 670.003 1759.93 664.21 Q1759.93 658.863 1756.16 655.865 Q1752.43 652.827 1745.75 652.827 L1738.7 652.827 L1738.7 646.102 L1746.07 646.102 Q1752.11 646.102 1755.31 643.712 Q1758.51 641.282 1758.51 636.745 Q1758.51 632.086 1755.19 629.615 Q1751.91 627.104 1745.75 627.104 Q1742.39 627.104 1738.54 627.833 Q1734.69 628.562 1730.07 630.101 L1730.07 622.81 Q1734.73 621.513 1738.78 620.865 Q1742.87 620.217 1746.48 620.217 Q1755.8 620.217 1761.22 624.471 Q1766.65 628.684 1766.65 635.894 Q1766.65 640.917 1763.78 644.401 Q1760.9 647.844 1755.59 649.181 Z\" fill=\"#000000\" fill-rule=\"evenodd\" fill-opacity=\"1\" /><path clip-path=\"url(#clip710)\" d=\"M1806.07 628.44 L1785.41 660.726 L1806.07 660.726 L1806.07 628.44 M1803.92 621.311 L1814.21 621.311 L1814.21 660.726 L1822.84 660.726 L1822.84 667.532 L1814.21 667.532 L1814.21 681.791 L1806.07 681.791 L1806.07 667.532 L1778.77 667.532 L1778.77 659.632 L1803.92 621.311 Z\" fill=\"#000000\" fill-rule=\"evenodd\" fill-opacity=\"1\" /><path clip-path=\"url(#clip710)\" d=\"M1853.87 626.699 Q1847.55 626.699 1844.35 632.937 Q1841.19 639.135 1841.19 651.612 Q1841.19 664.048 1844.35 670.286 Q1847.55 676.484 1853.87 676.484 Q1860.23 676.484 1863.39 670.286 Q1866.59 664.048 1866.59 651.612 Q1866.59 639.135 1863.39 632.937 Q1860.23 626.699 1853.87 626.699 M1853.87 620.217 Q1864.04 620.217 1869.38 628.278 Q1874.77 636.299 1874.77 651.612 Q1874.77 666.884 1869.38 674.945 Q1864.04 682.966 1853.87 682.966 Q1843.7 682.966 1838.31 674.945 Q1832.97 666.884 1832.97 651.612 Q1832.97 636.299 1838.31 628.278 Q1843.7 620.217 1853.87 620.217 Z\" fill=\"#000000\" fill-rule=\"evenodd\" fill-opacity=\"1\" /></svg>\n"
      ]
     },
     "execution_count": 39,
     "metadata": {},
     "output_type": "execute_result"
    }
   ],
   "source": [
    "# Let's draw some plots that can show some patterns in data related\n",
    "# to passengers survival which can help us later when verify how the machine learning works\n",
    "\n",
    "survived = combine(groupby(train_df,\"Survived\"), nrow => \"Count\")\n",
    "plot(survived.Survived, survived.Count, title=\"Survived Passengers\", label=nothing, seriestype=\"bar\", texts=survived.Count)\n",
    "xticks!([0:1:1;],[\"Not Survived\",\"Survived\"])"
   ]
  },
  {
   "cell_type": "code",
   "execution_count": 40,
   "id": "d460a1d9",
   "metadata": {},
   "outputs": [
    {
     "data": {
      "image/svg+xml": [
       "<?xml version=\"1.0\" encoding=\"utf-8\"?>\n",
       "<svg xmlns=\"http://www.w3.org/2000/svg\" xmlns:xlink=\"http://www.w3.org/1999/xlink\" width=\"600\" height=\"400\" viewBox=\"0 0 2400 1600\">\n",
       "<defs>\n",
       "  <clipPath id=\"clip750\">\n",
       "    <rect x=\"0\" y=\"0\" width=\"2400\" height=\"1600\"/>\n",
       "  </clipPath>\n",
       "</defs>\n",
       "<path clip-path=\"url(#clip750)\" d=\"M0 1600 L2400 1600 L2400 0 L0 0  Z\" fill=\"#ffffff\" fill-rule=\"evenodd\" fill-opacity=\"1\"/>\n",
       "<defs>\n",
       "  <clipPath id=\"clip751\">\n",
       "    <rect x=\"480\" y=\"0\" width=\"1681\" height=\"1600\"/>\n",
       "  </clipPath>\n",
       "</defs>\n",
       "<path clip-path=\"url(#clip750)\" d=\"M170.857 1486.45 L2352.76 1486.45 L2352.76 123.472 L170.857 123.472  Z\" fill=\"#ffffff\" fill-rule=\"evenodd\" fill-opacity=\"1\"/>\n",
       "<defs>\n",
       "  <clipPath id=\"clip752\">\n",
       "    <rect x=\"170\" y=\"123\" width=\"2183\" height=\"1364\"/>\n",
       "  </clipPath>\n",
       "</defs>\n",
       "<polyline clip-path=\"url(#clip752)\" style=\"stroke:#000000; stroke-linecap:round; stroke-linejoin:round; stroke-width:2; stroke-opacity:0.1; fill:none\" points=\"722.395,1486.45 722.395,123.472 \"/>\n",
       "<polyline clip-path=\"url(#clip752)\" style=\"stroke:#000000; stroke-linecap:round; stroke-linejoin:round; stroke-width:2; stroke-opacity:0.1; fill:none\" points=\"1801.22,1486.45 1801.22,123.472 \"/>\n",
       "<polyline clip-path=\"url(#clip750)\" style=\"stroke:#000000; stroke-linecap:round; stroke-linejoin:round; stroke-width:4; stroke-opacity:1; fill:none\" points=\"170.857,1486.45 2352.76,1486.45 \"/>\n",
       "<polyline clip-path=\"url(#clip750)\" style=\"stroke:#000000; stroke-linecap:round; stroke-linejoin:round; stroke-width:4; stroke-opacity:1; fill:none\" points=\"722.395,1486.45 722.395,1467.55 \"/>\n",
       "<polyline clip-path=\"url(#clip750)\" style=\"stroke:#000000; stroke-linecap:round; stroke-linejoin:round; stroke-width:4; stroke-opacity:1; fill:none\" points=\"1801.22,1486.45 1801.22,1467.55 \"/>\n",
       "<path clip-path=\"url(#clip750)\" d=\"M640.277 1514.29 L660.138 1514.29 L660.138 1518.22 L644.953 1518.22 L644.953 1528.41 L658.657 1528.41 L658.657 1532.34 L644.953 1532.34 L644.953 1548.85 L640.277 1548.85 L640.277 1514.29 Z\" fill=\"#000000\" fill-rule=\"evenodd\" fill-opacity=\"1\" /><path clip-path=\"url(#clip750)\" d=\"M686.944 1534.82 L686.944 1536.9 L667.361 1536.9 Q667.638 1541.3 669.999 1543.62 Q672.384 1545.91 676.62 1545.91 Q679.073 1545.91 681.365 1545.31 Q683.68 1544.7 685.948 1543.5 L685.948 1547.53 Q683.657 1548.5 681.249 1549.01 Q678.842 1549.52 676.365 1549.52 Q670.162 1549.52 666.527 1545.91 Q662.916 1542.3 662.916 1536.14 Q662.916 1529.77 666.342 1526.05 Q669.791 1522.3 675.624 1522.3 Q680.856 1522.3 683.888 1525.68 Q686.944 1529.03 686.944 1534.82 M682.685 1533.57 Q682.638 1530.07 680.717 1527.99 Q678.819 1525.91 675.671 1525.91 Q672.106 1525.91 669.953 1527.92 Q667.824 1529.94 667.499 1533.59 L682.685 1533.57 Z\" fill=\"#000000\" fill-rule=\"evenodd\" fill-opacity=\"1\" /><path clip-path=\"url(#clip750)\" d=\"M714.12 1527.9 Q715.717 1525.03 717.939 1523.66 Q720.161 1522.3 723.17 1522.3 Q727.221 1522.3 729.42 1525.14 Q731.62 1527.97 731.62 1533.2 L731.62 1548.85 L727.337 1548.85 L727.337 1533.34 Q727.337 1529.61 726.018 1527.81 Q724.698 1526 721.99 1526 Q718.68 1526 716.758 1528.2 Q714.837 1530.4 714.837 1534.2 L714.837 1548.85 L710.555 1548.85 L710.555 1533.34 Q710.555 1529.59 709.235 1527.81 Q707.916 1526 705.161 1526 Q701.897 1526 699.976 1528.22 Q698.055 1530.42 698.055 1534.2 L698.055 1548.85 L693.772 1548.85 L693.772 1522.92 L698.055 1522.92 L698.055 1526.95 Q699.513 1524.57 701.55 1523.43 Q703.587 1522.3 706.388 1522.3 Q709.212 1522.3 711.18 1523.73 Q713.171 1525.17 714.12 1527.9 Z\" fill=\"#000000\" fill-rule=\"evenodd\" fill-opacity=\"1\" /><path clip-path=\"url(#clip750)\" d=\"M751.897 1535.82 Q746.735 1535.82 744.744 1537 Q742.754 1538.18 742.754 1541.02 Q742.754 1543.29 744.235 1544.63 Q745.74 1545.95 748.309 1545.95 Q751.851 1545.95 753.981 1543.45 Q756.133 1540.93 756.133 1536.76 L756.133 1535.82 L751.897 1535.82 M760.393 1534.06 L760.393 1548.85 L756.133 1548.85 L756.133 1544.91 Q754.675 1547.27 752.499 1548.41 Q750.323 1549.52 747.175 1549.52 Q743.194 1549.52 740.832 1547.3 Q738.494 1545.05 738.494 1541.3 Q738.494 1536.93 741.411 1534.7 Q744.351 1532.48 750.161 1532.48 L756.133 1532.48 L756.133 1532.07 Q756.133 1529.13 754.189 1527.53 Q752.268 1525.91 748.772 1525.91 Q746.55 1525.91 744.444 1526.44 Q742.337 1526.97 740.393 1528.04 L740.393 1524.1 Q742.731 1523.2 744.93 1522.76 Q747.129 1522.3 749.212 1522.3 Q754.837 1522.3 757.615 1525.21 Q760.393 1528.13 760.393 1534.06 Z\" fill=\"#000000\" fill-rule=\"evenodd\" fill-opacity=\"1\" /><path clip-path=\"url(#clip750)\" d=\"M769.166 1512.83 L773.425 1512.83 L773.425 1548.85 L769.166 1548.85 L769.166 1512.83 Z\" fill=\"#000000\" fill-rule=\"evenodd\" fill-opacity=\"1\" /><path clip-path=\"url(#clip750)\" d=\"M804.513 1534.82 L804.513 1536.9 L784.929 1536.9 Q785.207 1541.3 787.568 1543.62 Q789.953 1545.91 794.189 1545.91 Q796.642 1545.91 798.934 1545.31 Q801.249 1544.7 803.517 1543.5 L803.517 1547.53 Q801.226 1548.5 798.818 1549.01 Q796.411 1549.52 793.934 1549.52 Q787.73 1549.52 784.096 1545.91 Q780.485 1542.3 780.485 1536.14 Q780.485 1529.77 783.911 1526.05 Q787.36 1522.3 793.193 1522.3 Q798.425 1522.3 801.457 1525.68 Q804.513 1529.03 804.513 1534.82 M800.253 1533.57 Q800.207 1530.07 798.286 1527.99 Q796.388 1525.91 793.24 1525.91 Q789.675 1525.91 787.522 1527.92 Q785.392 1529.94 785.068 1533.59 L800.253 1533.57 Z\" fill=\"#000000\" fill-rule=\"evenodd\" fill-opacity=\"1\" /><path clip-path=\"url(#clip750)\" d=\"M1748.66 1514.29 L1755.63 1514.29 L1764.45 1537.81 L1773.31 1514.29 L1780.28 1514.29 L1780.28 1548.85 L1775.72 1548.85 L1775.72 1518.5 L1766.81 1542.2 L1762.11 1542.2 L1753.2 1518.5 L1753.2 1548.85 L1748.66 1548.85 L1748.66 1514.29 Z\" fill=\"#000000\" fill-rule=\"evenodd\" fill-opacity=\"1\" /><path clip-path=\"url(#clip750)\" d=\"M1801.16 1535.82 Q1796 1535.82 1794.01 1537 Q1792.02 1538.18 1792.02 1541.02 Q1792.02 1543.29 1793.5 1544.63 Q1795 1545.95 1797.57 1545.95 Q1801.11 1545.95 1803.24 1543.45 Q1805.4 1540.93 1805.4 1536.76 L1805.4 1535.82 L1801.16 1535.82 M1809.66 1534.06 L1809.66 1548.85 L1805.4 1548.85 L1805.4 1544.91 Q1803.94 1547.27 1801.76 1548.41 Q1799.59 1549.52 1796.44 1549.52 Q1792.46 1549.52 1790.1 1547.3 Q1787.76 1545.05 1787.76 1541.3 Q1787.76 1536.93 1790.67 1534.7 Q1793.61 1532.48 1799.42 1532.48 L1805.4 1532.48 L1805.4 1532.07 Q1805.4 1529.13 1803.45 1527.53 Q1801.53 1525.91 1798.04 1525.91 Q1795.81 1525.91 1793.71 1526.44 Q1791.6 1526.97 1789.66 1528.04 L1789.66 1524.1 Q1791.99 1523.2 1794.19 1522.76 Q1796.39 1522.3 1798.48 1522.3 Q1804.1 1522.3 1806.88 1525.21 Q1809.66 1528.13 1809.66 1534.06 Z\" fill=\"#000000\" fill-rule=\"evenodd\" fill-opacity=\"1\" /><path clip-path=\"url(#clip750)\" d=\"M1818.43 1512.83 L1822.69 1512.83 L1822.69 1548.85 L1818.43 1548.85 L1818.43 1512.83 Z\" fill=\"#000000\" fill-rule=\"evenodd\" fill-opacity=\"1\" /><path clip-path=\"url(#clip750)\" d=\"M1853.78 1534.82 L1853.78 1536.9 L1834.19 1536.9 Q1834.47 1541.3 1836.83 1543.62 Q1839.22 1545.91 1843.45 1545.91 Q1845.91 1545.91 1848.2 1545.31 Q1850.51 1544.7 1852.78 1543.5 L1852.78 1547.53 Q1850.49 1548.5 1848.08 1549.01 Q1845.67 1549.52 1843.2 1549.52 Q1836.99 1549.52 1833.36 1545.91 Q1829.75 1542.3 1829.75 1536.14 Q1829.75 1529.77 1833.17 1526.05 Q1836.62 1522.3 1842.46 1522.3 Q1847.69 1522.3 1850.72 1525.68 Q1853.78 1529.03 1853.78 1534.82 M1849.52 1533.57 Q1849.47 1530.07 1847.55 1527.99 Q1845.65 1525.91 1842.5 1525.91 Q1838.94 1525.91 1836.79 1527.92 Q1834.66 1529.94 1834.33 1533.59 L1849.52 1533.57 Z\" fill=\"#000000\" fill-rule=\"evenodd\" fill-opacity=\"1\" /><polyline clip-path=\"url(#clip752)\" style=\"stroke:#000000; stroke-linecap:round; stroke-linejoin:round; stroke-width:2; stroke-opacity:0.1; fill:none\" points=\"170.857,1447.87 2352.76,1447.87 \"/>\n",
       "<polyline clip-path=\"url(#clip752)\" style=\"stroke:#000000; stroke-linecap:round; stroke-linejoin:round; stroke-width:2; stroke-opacity:0.1; fill:none\" points=\"170.857,1169.56 2352.76,1169.56 \"/>\n",
       "<polyline clip-path=\"url(#clip752)\" style=\"stroke:#000000; stroke-linecap:round; stroke-linejoin:round; stroke-width:2; stroke-opacity:0.1; fill:none\" points=\"170.857,891.238 2352.76,891.238 \"/>\n",
       "<polyline clip-path=\"url(#clip752)\" style=\"stroke:#000000; stroke-linecap:round; stroke-linejoin:round; stroke-width:2; stroke-opacity:0.1; fill:none\" points=\"170.857,612.921 2352.76,612.921 \"/>\n",
       "<polyline clip-path=\"url(#clip752)\" style=\"stroke:#000000; stroke-linecap:round; stroke-linejoin:round; stroke-width:2; stroke-opacity:0.1; fill:none\" points=\"170.857,334.604 2352.76,334.604 \"/>\n",
       "<polyline clip-path=\"url(#clip750)\" style=\"stroke:#000000; stroke-linecap:round; stroke-linejoin:round; stroke-width:4; stroke-opacity:1; fill:none\" points=\"170.857,1486.45 170.857,123.472 \"/>\n",
       "<polyline clip-path=\"url(#clip750)\" style=\"stroke:#000000; stroke-linecap:round; stroke-linejoin:round; stroke-width:4; stroke-opacity:1; fill:none\" points=\"170.857,1447.87 189.755,1447.87 \"/>\n",
       "<polyline clip-path=\"url(#clip750)\" style=\"stroke:#000000; stroke-linecap:round; stroke-linejoin:round; stroke-width:4; stroke-opacity:1; fill:none\" points=\"170.857,1169.56 189.755,1169.56 \"/>\n",
       "<polyline clip-path=\"url(#clip750)\" style=\"stroke:#000000; stroke-linecap:round; stroke-linejoin:round; stroke-width:4; stroke-opacity:1; fill:none\" points=\"170.857,891.238 189.755,891.238 \"/>\n",
       "<polyline clip-path=\"url(#clip750)\" style=\"stroke:#000000; stroke-linecap:round; stroke-linejoin:round; stroke-width:4; stroke-opacity:1; fill:none\" points=\"170.857,612.921 189.755,612.921 \"/>\n",
       "<polyline clip-path=\"url(#clip750)\" style=\"stroke:#000000; stroke-linecap:round; stroke-linejoin:round; stroke-width:4; stroke-opacity:1; fill:none\" points=\"170.857,334.604 189.755,334.604 \"/>\n",
       "<path clip-path=\"url(#clip750)\" d=\"M122.913 1433.67 Q119.302 1433.67 117.473 1437.24 Q115.668 1440.78 115.668 1447.91 Q115.668 1455.01 117.473 1458.58 Q119.302 1462.12 122.913 1462.12 Q126.547 1462.12 128.353 1458.58 Q130.182 1455.01 130.182 1447.91 Q130.182 1440.78 128.353 1437.24 Q126.547 1433.67 122.913 1433.67 M122.913 1429.97 Q128.723 1429.97 131.779 1434.57 Q134.857 1439.16 134.857 1447.91 Q134.857 1456.63 131.779 1461.24 Q128.723 1465.82 122.913 1465.82 Q117.103 1465.82 114.024 1461.24 Q110.969 1456.63 110.969 1447.91 Q110.969 1439.16 114.024 1434.57 Q117.103 1429.97 122.913 1429.97 Z\" fill=\"#000000\" fill-rule=\"evenodd\" fill-opacity=\"1\" /><path clip-path=\"url(#clip750)\" d=\"M82.7975 1152.28 L101.154 1152.28 L101.154 1156.21 L87.0799 1156.21 L87.0799 1164.68 Q88.0984 1164.34 89.1169 1164.17 Q90.1354 1163.99 91.1539 1163.99 Q96.941 1163.99 100.321 1167.16 Q103.7 1170.33 103.7 1175.75 Q103.7 1181.33 100.228 1184.43 Q96.7558 1187.51 90.4364 1187.51 Q88.2604 1187.51 85.9919 1187.14 Q83.7466 1186.77 81.3392 1186.03 L81.3392 1181.33 Q83.4225 1182.46 85.6447 1183.02 Q87.8669 1183.57 90.3438 1183.57 Q94.3484 1183.57 96.6863 1181.47 Q99.0243 1179.36 99.0243 1175.75 Q99.0243 1172.14 96.6863 1170.03 Q94.3484 1167.92 90.3438 1167.92 Q88.4688 1167.92 86.5938 1168.34 Q84.7419 1168.76 82.7975 1169.64 L82.7975 1152.28 Z\" fill=\"#000000\" fill-rule=\"evenodd\" fill-opacity=\"1\" /><path clip-path=\"url(#clip750)\" d=\"M122.913 1155.35 Q119.302 1155.35 117.473 1158.92 Q115.668 1162.46 115.668 1169.59 Q115.668 1176.7 117.473 1180.26 Q119.302 1183.8 122.913 1183.8 Q126.547 1183.8 128.353 1180.26 Q130.182 1176.7 130.182 1169.59 Q130.182 1162.46 128.353 1158.92 Q126.547 1155.35 122.913 1155.35 M122.913 1151.65 Q128.723 1151.65 131.779 1156.26 Q134.857 1160.84 134.857 1169.59 Q134.857 1178.32 131.779 1182.92 Q128.723 1187.51 122.913 1187.51 Q117.103 1187.51 114.024 1182.92 Q110.969 1178.32 110.969 1169.59 Q110.969 1160.84 114.024 1156.26 Q117.103 1151.65 122.913 1151.65 Z\" fill=\"#000000\" fill-rule=\"evenodd\" fill-opacity=\"1\" /><path clip-path=\"url(#clip750)\" d=\"M53.3995 904.583 L61.0384 904.583 L61.0384 878.218 L52.7282 879.884 L52.7282 875.625 L60.9921 873.958 L65.668 873.958 L65.668 904.583 L73.3068 904.583 L73.3068 908.518 L53.3995 908.518 L53.3995 904.583 Z\" fill=\"#000000\" fill-rule=\"evenodd\" fill-opacity=\"1\" /><path clip-path=\"url(#clip750)\" d=\"M92.7512 877.037 Q89.1401 877.037 87.3114 880.602 Q85.5058 884.144 85.5058 891.273 Q85.5058 898.38 87.3114 901.944 Q89.1401 905.486 92.7512 905.486 Q96.3854 905.486 98.1909 901.944 Q100.02 898.38 100.02 891.273 Q100.02 884.144 98.1909 880.602 Q96.3854 877.037 92.7512 877.037 M92.7512 873.333 Q98.5613 873.333 101.617 877.94 Q104.696 882.523 104.696 891.273 Q104.696 900 101.617 904.606 Q98.5613 909.19 92.7512 909.19 Q86.941 909.19 83.8623 904.606 Q80.8068 900 80.8068 891.273 Q80.8068 882.523 83.8623 877.94 Q86.941 873.333 92.7512 873.333 Z\" fill=\"#000000\" fill-rule=\"evenodd\" fill-opacity=\"1\" /><path clip-path=\"url(#clip750)\" d=\"M122.913 877.037 Q119.302 877.037 117.473 880.602 Q115.668 884.144 115.668 891.273 Q115.668 898.38 117.473 901.944 Q119.302 905.486 122.913 905.486 Q126.547 905.486 128.353 901.944 Q130.182 898.38 130.182 891.273 Q130.182 884.144 128.353 880.602 Q126.547 877.037 122.913 877.037 M122.913 873.333 Q128.723 873.333 131.779 877.94 Q134.857 882.523 134.857 891.273 Q134.857 900 131.779 904.606 Q128.723 909.19 122.913 909.19 Q117.103 909.19 114.024 904.606 Q110.969 900 110.969 891.273 Q110.969 882.523 114.024 877.94 Q117.103 873.333 122.913 873.333 Z\" fill=\"#000000\" fill-rule=\"evenodd\" fill-opacity=\"1\" /><path clip-path=\"url(#clip750)\" d=\"M53.3995 626.266 L61.0384 626.266 L61.0384 599.9 L52.7282 601.567 L52.7282 597.308 L60.9921 595.641 L65.668 595.641 L65.668 626.266 L73.3068 626.266 L73.3068 630.201 L53.3995 630.201 L53.3995 626.266 Z\" fill=\"#000000\" fill-rule=\"evenodd\" fill-opacity=\"1\" /><path clip-path=\"url(#clip750)\" d=\"M82.7975 595.641 L101.154 595.641 L101.154 599.576 L87.0799 599.576 L87.0799 608.048 Q88.0984 607.701 89.1169 607.539 Q90.1354 607.354 91.1539 607.354 Q96.941 607.354 100.321 610.525 Q103.7 613.696 103.7 619.113 Q103.7 624.692 100.228 627.794 Q96.7558 630.872 90.4364 630.872 Q88.2604 630.872 85.9919 630.502 Q83.7466 630.132 81.3392 629.391 L81.3392 624.692 Q83.4225 625.826 85.6447 626.382 Q87.8669 626.937 90.3438 626.937 Q94.3484 626.937 96.6863 624.831 Q99.0243 622.724 99.0243 619.113 Q99.0243 615.502 96.6863 613.396 Q94.3484 611.289 90.3438 611.289 Q88.4688 611.289 86.5938 611.706 Q84.7419 612.122 82.7975 613.002 L82.7975 595.641 Z\" fill=\"#000000\" fill-rule=\"evenodd\" fill-opacity=\"1\" /><path clip-path=\"url(#clip750)\" d=\"M122.913 598.72 Q119.302 598.72 117.473 602.285 Q115.668 605.826 115.668 612.956 Q115.668 620.062 117.473 623.627 Q119.302 627.169 122.913 627.169 Q126.547 627.169 128.353 623.627 Q130.182 620.062 130.182 612.956 Q130.182 605.826 128.353 602.285 Q126.547 598.72 122.913 598.72 M122.913 595.016 Q128.723 595.016 131.779 599.622 Q134.857 604.206 134.857 612.956 Q134.857 621.683 131.779 626.289 Q128.723 630.872 122.913 630.872 Q117.103 630.872 114.024 626.289 Q110.969 621.683 110.969 612.956 Q110.969 604.206 114.024 599.622 Q117.103 595.016 122.913 595.016 Z\" fill=\"#000000\" fill-rule=\"evenodd\" fill-opacity=\"1\" /><path clip-path=\"url(#clip750)\" d=\"M56.6171 347.949 L72.9365 347.949 L72.9365 351.884 L50.9921 351.884 L50.9921 347.949 Q53.6541 345.194 58.2375 340.564 Q62.8439 335.912 64.0245 334.569 Q66.2698 332.046 67.1494 330.31 Q68.0522 328.55 68.0522 326.861 Q68.0522 324.106 66.1078 322.37 Q64.1865 320.634 61.0847 320.634 Q58.8856 320.634 56.4319 321.398 Q54.0014 322.162 51.2236 323.713 L51.2236 318.99 Q54.0477 317.856 56.5014 317.277 Q58.955 316.699 60.9921 316.699 Q66.3624 316.699 69.5568 319.384 Q72.7513 322.069 72.7513 326.56 Q72.7513 328.689 71.9411 330.611 Q71.1541 332.509 69.0476 335.101 Q68.4689 335.773 65.367 338.99 Q62.2652 342.185 56.6171 347.949 Z\" fill=\"#000000\" fill-rule=\"evenodd\" fill-opacity=\"1\" /><path clip-path=\"url(#clip750)\" d=\"M92.7512 320.402 Q89.1401 320.402 87.3114 323.967 Q85.5058 327.509 85.5058 334.638 Q85.5058 341.745 87.3114 345.31 Q89.1401 348.851 92.7512 348.851 Q96.3854 348.851 98.1909 345.31 Q100.02 341.745 100.02 334.638 Q100.02 327.509 98.1909 323.967 Q96.3854 320.402 92.7512 320.402 M92.7512 316.699 Q98.5613 316.699 101.617 321.305 Q104.696 325.888 104.696 334.638 Q104.696 343.365 101.617 347.972 Q98.5613 352.555 92.7512 352.555 Q86.941 352.555 83.8623 347.972 Q80.8068 343.365 80.8068 334.638 Q80.8068 325.888 83.8623 321.305 Q86.941 316.699 92.7512 316.699 Z\" fill=\"#000000\" fill-rule=\"evenodd\" fill-opacity=\"1\" /><path clip-path=\"url(#clip750)\" d=\"M122.913 320.402 Q119.302 320.402 117.473 323.967 Q115.668 327.509 115.668 334.638 Q115.668 341.745 117.473 345.31 Q119.302 348.851 122.913 348.851 Q126.547 348.851 128.353 345.31 Q130.182 341.745 130.182 334.638 Q130.182 327.509 128.353 323.967 Q126.547 320.402 122.913 320.402 M122.913 316.699 Q128.723 316.699 131.779 321.305 Q134.857 325.888 134.857 334.638 Q134.857 343.365 131.779 347.972 Q128.723 352.555 122.913 352.555 Q117.103 352.555 114.024 347.972 Q110.969 343.365 110.969 334.638 Q110.969 325.888 114.024 321.305 Q117.103 316.699 122.913 316.699 Z\" fill=\"#000000\" fill-rule=\"evenodd\" fill-opacity=\"1\" /><path clip-path=\"url(#clip750)\" d=\"M722.449 14.0809 L722.449 22.0612 Q717.79 19.8332 713.659 18.7395 Q709.527 17.6457 705.678 17.6457 Q698.994 17.6457 695.348 20.2383 Q691.743 22.8309 691.743 27.611 Q691.743 31.6214 694.133 33.6873 Q696.564 35.7128 703.288 36.9686 L708.23 37.9813 Q717.385 39.7232 721.72 44.1387 Q726.095 48.5136 726.095 55.8863 Q726.095 64.6767 720.181 69.2137 Q714.307 73.7508 702.924 73.7508 Q698.63 73.7508 693.769 72.7785 Q688.948 71.8063 683.763 69.9024 L683.763 61.4765 Q688.745 64.2716 693.526 65.6895 Q698.306 67.1073 702.924 67.1073 Q709.932 67.1073 713.74 64.3527 Q717.547 61.598 717.547 56.4939 Q717.547 52.0379 714.793 49.5264 Q712.079 47.0148 705.84 45.759 L700.858 44.7868 Q691.703 42.9639 687.611 39.075 Q683.52 35.1862 683.52 28.2591 Q683.52 20.2383 689.151 15.6203 Q694.822 11.0023 704.747 11.0023 Q709 11.0023 713.416 11.7719 Q717.831 12.5416 722.449 14.0809 Z\" fill=\"#000000\" fill-rule=\"evenodd\" fill-opacity=\"1\" /><path clip-path=\"url(#clip750)\" d=\"M737.761 54.671 L737.761 27.2059 L745.215 27.2059 L745.215 54.3874 Q745.215 60.8284 747.727 64.0691 Q750.238 67.2693 755.261 67.2693 Q761.297 67.2693 764.781 63.421 Q768.305 59.5726 768.305 52.9291 L768.305 27.2059 L775.759 27.2059 L775.759 72.576 L768.305 72.576 L768.305 65.6084 Q765.591 69.7404 761.986 71.7658 Q758.421 73.7508 753.681 73.7508 Q745.863 73.7508 741.812 68.8897 Q737.761 64.0286 737.761 54.671 M756.517 26.1121 L756.517 26.1121 Z\" fill=\"#000000\" fill-rule=\"evenodd\" fill-opacity=\"1\" /><path clip-path=\"url(#clip750)\" d=\"M817.402 34.1734 Q816.146 33.4443 814.648 33.1202 Q813.189 32.7556 811.407 32.7556 Q805.087 32.7556 801.685 36.8875 Q798.322 40.9789 798.322 48.6757 L798.322 72.576 L790.828 72.576 L790.828 27.2059 L798.322 27.2059 L798.322 34.2544 Q800.672 30.1225 804.439 28.1376 Q808.207 26.1121 813.594 26.1121 Q814.364 26.1121 815.296 26.2337 Q816.227 26.3147 817.362 26.5172 L817.402 34.1734 Z\" fill=\"#000000\" fill-rule=\"evenodd\" fill-opacity=\"1\" /><path clip-path=\"url(#clip750)\" d=\"M819.873 27.2059 L827.773 27.2059 L841.951 65.2844 L856.129 27.2059 L864.028 27.2059 L847.014 72.576 L836.887 72.576 L819.873 27.2059 Z\" fill=\"#000000\" fill-rule=\"evenodd\" fill-opacity=\"1\" /><path clip-path=\"url(#clip750)\" d=\"M874.317 27.2059 L881.771 27.2059 L881.771 72.576 L874.317 72.576 L874.317 27.2059 M874.317 9.54393 L881.771 9.54393 L881.771 18.9825 L874.317 18.9825 L874.317 9.54393 Z\" fill=\"#000000\" fill-rule=\"evenodd\" fill-opacity=\"1\" /><path clip-path=\"url(#clip750)\" d=\"M892.02 27.2059 L899.919 27.2059 L914.097 65.2844 L928.275 27.2059 L936.175 27.2059 L919.161 72.576 L909.034 72.576 L892.02 27.2059 Z\" fill=\"#000000\" fill-rule=\"evenodd\" fill-opacity=\"1\" /><path clip-path=\"url(#clip750)\" d=\"M985.272 48.0275 L985.272 51.6733 L951.001 51.6733 Q951.487 59.3701 955.619 63.421 Q959.791 67.4314 967.205 67.4314 Q971.499 67.4314 975.509 66.3781 Q979.56 65.3249 983.53 63.2184 L983.53 70.267 Q979.519 71.9684 975.306 72.8596 Q971.094 73.7508 966.759 73.7508 Q955.903 73.7508 949.543 67.4314 Q943.223 61.1119 943.223 50.3365 Q943.223 39.1965 949.219 32.6746 Q955.254 26.1121 965.463 26.1121 Q974.618 26.1121 979.924 32.0264 Q985.272 37.9003 985.272 48.0275 M977.818 45.84 Q977.737 39.7232 974.375 36.0774 Q971.053 32.4315 965.544 32.4315 Q959.305 32.4315 955.538 35.9558 Q951.811 39.4801 951.244 45.8805 L977.818 45.84 Z\" fill=\"#000000\" fill-rule=\"evenodd\" fill-opacity=\"1\" /><path clip-path=\"url(#clip750)\" d=\"M1027.36 34.0924 L1027.36 9.54393 L1034.81 9.54393 L1034.81 72.576 L1027.36 72.576 L1027.36 65.7705 Q1025.01 69.8214 1021.41 71.8063 Q1017.84 73.7508 1012.82 73.7508 Q1004.59 73.7508 999.409 67.1883 Q994.265 60.6258 994.265 49.9314 Q994.265 39.2371 999.409 32.6746 Q1004.59 26.1121 1012.82 26.1121 Q1017.84 26.1121 1021.41 28.0971 Q1025.01 30.0415 1027.36 34.0924 M1001.96 49.9314 Q1001.96 58.1548 1005.32 62.8538 Q1008.73 67.5124 1014.64 67.5124 Q1020.56 67.5124 1023.96 62.8538 Q1027.36 58.1548 1027.36 49.9314 Q1027.36 41.7081 1023.96 37.0496 Q1020.56 32.3505 1014.64 32.3505 Q1008.73 32.3505 1005.32 37.0496 Q1001.96 41.7081 1001.96 49.9314 Z\" fill=\"#000000\" fill-rule=\"evenodd\" fill-opacity=\"1\" /><path clip-path=\"url(#clip750)\" d=\"M1085.05 18.8205 L1085.05 41.5461 L1095.33 41.5461 Q1101.05 41.5461 1104.17 38.5889 Q1107.28 35.6318 1107.28 30.163 Q1107.28 24.7348 1104.17 21.7777 Q1101.05 18.8205 1095.33 18.8205 L1085.05 18.8205 M1076.86 12.096 L1095.33 12.096 Q1105.5 12.096 1110.69 16.714 Q1115.91 21.2916 1115.91 30.163 Q1115.91 39.1155 1110.69 43.6931 Q1105.5 48.2706 1095.33 48.2706 L1085.05 48.2706 L1085.05 72.576 L1076.86 72.576 L1076.86 12.096 Z\" fill=\"#000000\" fill-rule=\"evenodd\" fill-opacity=\"1\" /><path clip-path=\"url(#clip750)\" d=\"M1143.46 49.7694 Q1134.43 49.7694 1130.94 51.8354 Q1127.46 53.9013 1127.46 58.8839 Q1127.46 62.8538 1130.05 65.2034 Q1132.68 67.5124 1137.18 67.5124 Q1143.38 67.5124 1147.11 63.1374 Q1150.87 58.7219 1150.87 51.4303 L1150.87 49.7694 L1143.46 49.7694 M1158.33 46.6907 L1158.33 72.576 L1150.87 72.576 L1150.87 65.6895 Q1148.32 69.8214 1144.51 71.8063 Q1140.7 73.7508 1135.2 73.7508 Q1128.23 73.7508 1124.1 69.8619 Q1120 65.9325 1120 59.3701 Q1120 51.7138 1125.11 47.825 Q1130.25 43.9361 1140.42 43.9361 L1150.87 43.9361 L1150.87 43.2069 Q1150.87 38.0623 1147.47 35.2672 Q1144.11 32.4315 1137.99 32.4315 Q1134.1 32.4315 1130.42 33.3632 Q1126.73 34.295 1123.33 36.1584 L1123.33 29.2718 Q1127.42 27.692 1131.27 26.9223 Q1135.11 26.1121 1138.76 26.1121 Q1148.6 26.1121 1153.47 31.2163 Q1158.33 36.3204 1158.33 46.6907 Z\" fill=\"#000000\" fill-rule=\"evenodd\" fill-opacity=\"1\" /><path clip-path=\"url(#clip750)\" d=\"M1202.6 28.5427 L1202.6 35.5912 Q1199.44 33.9709 1196.04 33.1607 Q1192.64 32.3505 1188.99 32.3505 Q1183.44 32.3505 1180.65 34.0519 Q1177.89 35.7533 1177.89 39.156 Q1177.89 41.7486 1179.88 43.2475 Q1181.86 44.7058 1187.86 46.0426 L1190.41 46.6097 Q1198.35 48.3111 1201.67 51.4303 Q1205.03 54.509 1205.03 60.0587 Q1205.03 66.3781 1200.01 70.0644 Q1195.03 73.7508 1186.28 73.7508 Q1182.63 73.7508 1178.66 73.0216 Q1174.73 72.3329 1170.36 70.9151 L1170.36 63.2184 Q1174.49 65.3654 1178.5 66.4591 Q1182.51 67.5124 1186.44 67.5124 Q1191.71 67.5124 1194.54 65.73 Q1197.38 63.9071 1197.38 60.6258 Q1197.38 57.5877 1195.31 55.9673 Q1193.29 54.3469 1186.36 52.8481 L1183.77 52.2405 Q1176.84 50.7821 1173.76 47.7845 Q1170.68 44.7463 1170.68 39.4801 Q1170.68 33.0797 1175.22 29.5959 Q1179.76 26.1121 1188.1 26.1121 Q1192.23 26.1121 1195.88 26.7198 Q1199.52 27.3274 1202.6 28.5427 Z\" fill=\"#000000\" fill-rule=\"evenodd\" fill-opacity=\"1\" /><path clip-path=\"url(#clip750)\" d=\"M1245.83 28.5427 L1245.83 35.5912 Q1242.67 33.9709 1239.26 33.1607 Q1235.86 32.3505 1232.21 32.3505 Q1226.67 32.3505 1223.87 34.0519 Q1221.12 35.7533 1221.12 39.156 Q1221.12 41.7486 1223.1 43.2475 Q1225.09 44.7058 1231.08 46.0426 L1233.63 46.6097 Q1241.57 48.3111 1244.89 51.4303 Q1248.26 54.509 1248.26 60.0587 Q1248.26 66.3781 1243.23 70.0644 Q1238.25 73.7508 1229.5 73.7508 Q1225.85 73.7508 1221.89 73.0216 Q1217.96 72.3329 1213.58 70.9151 L1213.58 63.2184 Q1217.71 65.3654 1221.72 66.4591 Q1225.73 67.5124 1229.66 67.5124 Q1234.93 67.5124 1237.76 65.73 Q1240.6 63.9071 1240.6 60.6258 Q1240.6 57.5877 1238.53 55.9673 Q1236.51 54.3469 1229.58 52.8481 L1226.99 52.2405 Q1220.06 50.7821 1216.98 47.7845 Q1213.9 44.7463 1213.9 39.4801 Q1213.9 33.0797 1218.44 29.5959 Q1222.98 26.1121 1231.32 26.1121 Q1235.46 26.1121 1239.1 26.7198 Q1242.75 27.3274 1245.83 28.5427 Z\" fill=\"#000000\" fill-rule=\"evenodd\" fill-opacity=\"1\" /><path clip-path=\"url(#clip750)\" d=\"M1298.93 48.0275 L1298.93 51.6733 L1264.66 51.6733 Q1265.15 59.3701 1269.28 63.421 Q1273.45 67.4314 1280.87 67.4314 Q1285.16 67.4314 1289.17 66.3781 Q1293.22 65.3249 1297.19 63.2184 L1297.19 70.267 Q1293.18 71.9684 1288.97 72.8596 Q1284.76 73.7508 1280.42 73.7508 Q1269.56 73.7508 1263.2 67.4314 Q1256.88 61.1119 1256.88 50.3365 Q1256.88 39.1965 1262.88 32.6746 Q1268.92 26.1121 1279.12 26.1121 Q1288.28 26.1121 1293.59 32.0264 Q1298.93 37.9003 1298.93 48.0275 M1291.48 45.84 Q1291.4 39.7232 1288.04 36.0774 Q1284.71 32.4315 1279.21 32.4315 Q1272.97 32.4315 1269.2 35.9558 Q1265.47 39.4801 1264.91 45.8805 L1291.48 45.84 Z\" fill=\"#000000\" fill-rule=\"evenodd\" fill-opacity=\"1\" /><path clip-path=\"url(#clip750)\" d=\"M1348.88 45.1919 L1348.88 72.576 L1341.43 72.576 L1341.43 45.4349 Q1341.43 38.994 1338.92 35.7938 Q1336.4 32.5936 1331.38 32.5936 Q1325.35 32.5936 1321.86 36.4419 Q1318.38 40.2903 1318.38 46.9338 L1318.38 72.576 L1310.88 72.576 L1310.88 27.2059 L1318.38 27.2059 L1318.38 34.2544 Q1321.05 30.163 1324.66 28.1376 Q1328.3 26.1121 1333.04 26.1121 Q1340.86 26.1121 1344.87 30.9732 Q1348.88 35.7938 1348.88 45.1919 Z\" fill=\"#000000\" fill-rule=\"evenodd\" fill-opacity=\"1\" /><path clip-path=\"url(#clip750)\" d=\"M1393.6 49.3643 Q1393.6 41.2625 1390.24 36.8065 Q1386.92 32.3505 1380.88 32.3505 Q1374.89 32.3505 1371.53 36.8065 Q1368.2 41.2625 1368.2 49.3643 Q1368.2 57.4256 1371.53 61.8816 Q1374.89 66.3376 1380.88 66.3376 Q1386.92 66.3376 1390.24 61.8816 Q1393.6 57.4256 1393.6 49.3643 M1401.06 66.9452 Q1401.06 78.5308 1395.91 84.1616 Q1390.77 89.8329 1380.15 89.8329 Q1376.22 89.8329 1372.74 89.2252 Q1369.26 88.6581 1365.98 87.4428 L1365.98 80.1917 Q1369.26 81.9741 1372.46 82.8248 Q1375.66 83.6755 1378.98 83.6755 Q1386.31 83.6755 1389.96 79.8271 Q1393.6 76.0193 1393.6 68.282 L1393.6 64.5957 Q1391.29 68.6061 1387.69 70.5911 Q1384.08 72.576 1379.06 72.576 Q1370.72 72.576 1365.61 66.2161 Q1360.51 59.8562 1360.51 49.3643 Q1360.51 38.832 1365.61 32.472 Q1370.72 26.1121 1379.06 26.1121 Q1384.08 26.1121 1387.69 28.0971 Q1391.29 30.082 1393.6 34.0924 L1393.6 27.2059 L1401.06 27.2059 L1401.06 66.9452 Z\" fill=\"#000000\" fill-rule=\"evenodd\" fill-opacity=\"1\" /><path clip-path=\"url(#clip750)\" d=\"M1455.22 48.0275 L1455.22 51.6733 L1420.95 51.6733 Q1421.43 59.3701 1425.56 63.421 Q1429.74 67.4314 1437.15 67.4314 Q1441.44 67.4314 1445.45 66.3781 Q1449.51 65.3249 1453.48 63.2184 L1453.48 70.267 Q1449.46 71.9684 1445.25 72.8596 Q1441.04 73.7508 1436.7 73.7508 Q1425.85 73.7508 1419.49 67.4314 Q1413.17 61.1119 1413.17 50.3365 Q1413.17 39.1965 1419.16 32.6746 Q1425.2 26.1121 1435.41 26.1121 Q1444.56 26.1121 1449.87 32.0264 Q1455.22 37.9003 1455.22 48.0275 M1447.76 45.84 Q1447.68 39.7232 1444.32 36.0774 Q1441 32.4315 1435.49 32.4315 Q1429.25 32.4315 1425.48 35.9558 Q1421.76 39.4801 1421.19 45.8805 L1447.76 45.84 Z\" fill=\"#000000\" fill-rule=\"evenodd\" fill-opacity=\"1\" /><path clip-path=\"url(#clip750)\" d=\"M1493.74 34.1734 Q1492.49 33.4443 1490.99 33.1202 Q1489.53 32.7556 1487.75 32.7556 Q1481.43 32.7556 1478.02 36.8875 Q1474.66 40.9789 1474.66 48.6757 L1474.66 72.576 L1467.17 72.576 L1467.17 27.2059 L1474.66 27.2059 L1474.66 34.2544 Q1477.01 30.1225 1480.78 28.1376 Q1484.55 26.1121 1489.93 26.1121 Q1490.7 26.1121 1491.63 26.2337 Q1492.57 26.3147 1493.7 26.5172 L1493.74 34.1734 Z\" fill=\"#000000\" fill-rule=\"evenodd\" fill-opacity=\"1\" /><path clip-path=\"url(#clip750)\" d=\"M1530.48 28.5427 L1530.48 35.5912 Q1527.32 33.9709 1523.92 33.1607 Q1520.52 32.3505 1516.87 32.3505 Q1511.32 32.3505 1508.53 34.0519 Q1505.77 35.7533 1505.77 39.156 Q1505.77 41.7486 1507.76 43.2475 Q1509.74 44.7058 1515.74 46.0426 L1518.29 46.6097 Q1526.23 48.3111 1529.55 51.4303 Q1532.91 54.509 1532.91 60.0587 Q1532.91 66.3781 1527.89 70.0644 Q1522.91 73.7508 1514.16 73.7508 Q1510.51 73.7508 1506.54 73.0216 Q1502.61 72.3329 1498.24 70.9151 L1498.24 63.2184 Q1502.37 65.3654 1506.38 66.4591 Q1510.39 67.5124 1514.32 67.5124 Q1519.59 67.5124 1522.42 65.73 Q1525.26 63.9071 1525.26 60.6258 Q1525.26 57.5877 1523.19 55.9673 Q1521.17 54.3469 1514.24 52.8481 L1511.65 52.2405 Q1504.72 50.7821 1501.64 47.7845 Q1498.56 44.7463 1498.56 39.4801 Q1498.56 33.0797 1503.1 29.5959 Q1507.64 26.1121 1515.98 26.1121 Q1520.11 26.1121 1523.76 26.7198 Q1527.4 27.3274 1530.48 28.5427 Z\" fill=\"#000000\" fill-rule=\"evenodd\" fill-opacity=\"1\" /><path clip-path=\"url(#clip750)\" d=\"M1603.72 49.9314 Q1603.72 41.7081 1600.32 37.0496 Q1596.96 32.3505 1591.04 32.3505 Q1585.13 32.3505 1581.73 37.0496 Q1578.36 41.7081 1578.36 49.9314 Q1578.36 58.1548 1581.73 62.8538 Q1585.13 67.5124 1591.04 67.5124 Q1596.96 67.5124 1600.32 62.8538 Q1603.72 58.1548 1603.72 49.9314 M1578.36 34.0924 Q1580.71 30.0415 1584.28 28.0971 Q1587.88 26.1121 1592.87 26.1121 Q1601.13 26.1121 1606.28 32.6746 Q1611.46 39.2371 1611.46 49.9314 Q1611.46 60.6258 1606.28 67.1883 Q1601.13 73.7508 1592.87 73.7508 Q1587.88 73.7508 1584.28 71.8063 Q1580.71 69.8214 1578.36 65.7705 L1578.36 72.576 L1570.87 72.576 L1570.87 9.54393 L1578.36 9.54393 L1578.36 34.0924 Z\" fill=\"#000000\" fill-rule=\"evenodd\" fill-opacity=\"1\" /><path clip-path=\"url(#clip750)\" d=\"M1642.69 76.7889 Q1639.53 84.8907 1636.54 87.3618 Q1633.54 89.8329 1628.51 89.8329 L1622.56 89.8329 L1622.56 83.5945 L1626.93 83.5945 Q1630.01 83.5945 1631.71 82.1361 Q1633.42 80.6778 1635.48 75.2496 L1636.82 71.8468 L1618.47 27.2059 L1626.37 27.2059 L1640.55 62.6918 L1654.72 27.2059 L1662.62 27.2059 L1642.69 76.7889 Z\" fill=\"#000000\" fill-rule=\"evenodd\" fill-opacity=\"1\" /><path clip-path=\"url(#clip750)\" d=\"M1735.86 14.0809 L1735.86 22.0612 Q1731.21 19.8332 1727.07 18.7395 Q1722.94 17.6457 1719.09 17.6457 Q1712.41 17.6457 1708.76 20.2383 Q1705.16 22.8309 1705.16 27.611 Q1705.16 31.6214 1707.55 33.6873 Q1709.98 35.7128 1716.7 36.9686 L1721.65 37.9813 Q1730.8 39.7232 1735.13 44.1387 Q1739.51 48.5136 1739.51 55.8863 Q1739.51 64.6767 1733.6 69.2137 Q1727.72 73.7508 1716.34 73.7508 Q1712.04 73.7508 1707.18 72.7785 Q1702.36 71.8063 1697.18 69.9024 L1697.18 61.4765 Q1702.16 64.2716 1706.94 65.6895 Q1711.72 67.1073 1716.34 67.1073 Q1723.35 67.1073 1727.15 64.3527 Q1730.96 61.598 1730.96 56.4939 Q1730.96 52.0379 1728.21 49.5264 Q1725.49 47.0148 1719.26 45.759 L1714.27 44.7868 Q1705.12 42.9639 1701.03 39.075 Q1696.93 35.1862 1696.93 28.2591 Q1696.93 20.2383 1702.57 15.6203 Q1708.24 11.0023 1718.16 11.0023 Q1722.41 11.0023 1726.83 11.7719 Q1731.25 12.5416 1735.86 14.0809 Z\" fill=\"#000000\" fill-rule=\"evenodd\" fill-opacity=\"1\" /><path clip-path=\"url(#clip750)\" d=\"M1790.75 48.0275 L1790.75 51.6733 L1756.48 51.6733 Q1756.97 59.3701 1761.1 63.421 Q1765.27 67.4314 1772.69 67.4314 Q1776.98 67.4314 1780.99 66.3781 Q1785.04 65.3249 1789.01 63.2184 L1789.01 70.267 Q1785 71.9684 1780.79 72.8596 Q1776.58 73.7508 1772.24 73.7508 Q1761.38 73.7508 1755.02 67.4314 Q1748.71 61.1119 1748.71 50.3365 Q1748.71 39.1965 1754.7 32.6746 Q1760.74 26.1121 1770.94 26.1121 Q1780.1 26.1121 1785.41 32.0264 Q1790.75 37.9003 1790.75 48.0275 M1783.3 45.84 Q1783.22 39.7232 1779.86 36.0774 Q1776.53 32.4315 1771.03 32.4315 Q1764.79 32.4315 1761.02 35.9558 Q1757.29 39.4801 1756.73 45.8805 L1783.3 45.84 Z\" fill=\"#000000\" fill-rule=\"evenodd\" fill-opacity=\"1\" /><path clip-path=\"url(#clip750)\" d=\"M1839.24 27.2059 L1822.84 49.2833 L1840.09 72.576 L1831.3 72.576 L1818.1 54.752 L1804.89 72.576 L1796.1 72.576 L1813.72 48.8377 L1797.6 27.2059 L1806.39 27.2059 L1818.42 43.369 L1830.45 27.2059 L1839.24 27.2059 Z\" fill=\"#000000\" fill-rule=\"evenodd\" fill-opacity=\"1\" /><path clip-path=\"url(#clip752)\" d=\"M290.866 162.047 L290.866 1447.87 L1153.92 1447.87 L1153.92 162.047 L290.866 162.047 L290.866 162.047  Z\" fill=\"#009af9\" fill-rule=\"evenodd\" fill-opacity=\"1\"/>\n",
       "<polyline clip-path=\"url(#clip752)\" style=\"stroke:#000000; stroke-linecap:round; stroke-linejoin:round; stroke-width:4; stroke-opacity:1; fill:none\" points=\"290.866,162.047 290.866,1447.87 1153.92,1447.87 1153.92,162.047 290.866,162.047 \"/>\n",
       "<path clip-path=\"url(#clip752)\" d=\"M1369.69 841.141 L1369.69 1447.87 L2232.75 1447.87 L2232.75 841.141 L1369.69 841.141 L1369.69 841.141  Z\" fill=\"#009af9\" fill-rule=\"evenodd\" fill-opacity=\"1\"/>\n",
       "<polyline clip-path=\"url(#clip752)\" style=\"stroke:#000000; stroke-linecap:round; stroke-linejoin:round; stroke-width:4; stroke-opacity:1; fill:none\" points=\"1369.69,841.141 1369.69,1447.87 2232.75,1447.87 2232.75,841.141 1369.69,841.141 \"/>\n",
       "<circle clip-path=\"url(#clip752)\" style=\"fill:#009af9; stroke:none; fill-opacity:0\" cx=\"722.395\" cy=\"162.047\" r=\"2\"/>\n",
       "<circle clip-path=\"url(#clip752)\" style=\"fill:#009af9; stroke:none; fill-opacity:0\" cx=\"1801.22\" cy=\"841.141\" r=\"2\"/>\n",
       "<path clip-path=\"url(#clip750)\" d=\"M659.93 185.4 L688.489 185.4 L688.489 192.287 L650.086 192.287 L650.086 185.4 Q654.745 180.58 662.766 172.478 Q670.827 164.336 672.893 161.986 Q676.822 157.571 678.362 154.532 Q679.942 151.454 679.942 148.497 Q679.942 143.676 676.539 140.638 Q673.177 137.6 667.748 137.6 Q663.9 137.6 659.606 138.937 Q655.353 140.273 650.491 142.987 L650.491 134.724 Q655.434 132.739 659.728 131.726 Q664.021 130.713 667.586 130.713 Q676.984 130.713 682.575 135.412 Q688.165 140.111 688.165 147.97 Q688.165 151.697 686.747 155.059 Q685.37 158.381 681.683 162.918 Q680.671 164.093 675.243 169.723 Q669.814 175.314 659.93 185.4 Z\" fill=\"#000000\" fill-rule=\"evenodd\" fill-opacity=\"1\" /><path clip-path=\"url(#clip750)\" d=\"M730.456 159.677 Q736.33 160.933 739.611 164.903 Q742.933 168.873 742.933 174.706 Q742.933 183.658 736.776 188.56 Q730.618 193.462 719.276 193.462 Q715.468 193.462 711.417 192.692 Q707.407 191.963 703.113 190.464 L703.113 182.565 Q706.515 184.55 710.566 185.562 Q714.617 186.575 719.033 186.575 Q726.729 186.575 730.74 183.537 Q734.791 180.499 734.791 174.706 Q734.791 169.359 731.023 166.361 Q727.297 163.323 720.613 163.323 L713.564 163.323 L713.564 156.598 L720.937 156.598 Q726.973 156.598 730.173 154.208 Q733.373 151.778 733.373 147.241 Q733.373 142.582 730.051 140.111 Q726.77 137.6 720.613 137.6 Q717.25 137.6 713.402 138.329 Q709.554 139.058 704.936 140.597 L704.936 133.306 Q709.594 132.009 713.645 131.361 Q717.736 130.713 721.342 130.713 Q730.659 130.713 736.087 134.967 Q741.515 139.18 741.515 146.39 Q741.515 151.413 738.639 154.897 Q735.763 158.34 730.456 159.677 Z\" fill=\"#000000\" fill-rule=\"evenodd\" fill-opacity=\"1\" /><path clip-path=\"url(#clip750)\" d=\"M759.866 185.4 L773.234 185.4 L773.234 139.261 L758.691 142.177 L758.691 134.724 L773.153 131.807 L781.336 131.807 L781.336 185.4 L794.704 185.4 L794.704 192.287 L759.866 192.287 L759.866 185.4 Z\" fill=\"#000000\" fill-rule=\"evenodd\" fill-opacity=\"1\" /><path clip-path=\"url(#clip750)\" d=\"M1730.69 864.495 L1744.06 864.495 L1744.06 818.355 L1729.52 821.272 L1729.52 813.818 L1743.98 810.901 L1752.16 810.901 L1752.16 864.495 L1765.53 864.495 L1765.53 871.381 L1730.69 871.381 L1730.69 864.495 Z\" fill=\"#000000\" fill-rule=\"evenodd\" fill-opacity=\"1\" /><path clip-path=\"url(#clip750)\" d=\"M1799.56 816.289 Q1793.24 816.289 1790.04 822.527 Q1786.88 828.725 1786.88 841.202 Q1786.88 853.638 1790.04 859.877 Q1793.24 866.075 1799.56 866.075 Q1805.92 866.075 1809.08 859.877 Q1812.28 853.638 1812.28 841.202 Q1812.28 828.725 1809.08 822.527 Q1805.92 816.289 1799.56 816.289 M1799.56 809.808 Q1809.73 809.808 1815.07 817.869 Q1820.46 825.89 1820.46 841.202 Q1820.46 856.474 1815.07 864.535 Q1809.73 872.556 1799.56 872.556 Q1789.39 872.556 1784 864.535 Q1778.65 856.474 1778.65 841.202 Q1778.65 825.89 1784 817.869 Q1789.39 809.808 1799.56 809.808 Z\" fill=\"#000000\" fill-rule=\"evenodd\" fill-opacity=\"1\" /><path clip-path=\"url(#clip750)\" d=\"M1835.08 870.125 L1835.08 862.672 Q1838.16 864.13 1841.32 864.9 Q1844.48 865.669 1847.52 865.669 Q1855.62 865.669 1859.88 860.241 Q1864.17 854.773 1864.78 843.673 Q1862.43 847.157 1858.82 849.02 Q1855.22 850.884 1850.84 850.884 Q1841.77 850.884 1836.46 845.415 Q1831.19 839.906 1831.19 830.386 Q1831.19 821.069 1836.7 815.438 Q1842.21 809.808 1851.37 809.808 Q1861.86 809.808 1867.37 817.869 Q1872.92 825.89 1872.92 841.202 Q1872.92 855.502 1866.11 864.049 Q1859.35 872.556 1847.88 872.556 Q1844.81 872.556 1841.65 871.948 Q1838.49 871.341 1835.08 870.125 M1851.37 844.483 Q1856.88 844.483 1860.08 840.716 Q1863.32 836.949 1863.32 830.386 Q1863.32 823.864 1860.08 820.097 Q1856.88 816.289 1851.37 816.289 Q1845.86 816.289 1842.62 820.097 Q1839.42 823.864 1839.42 830.386 Q1839.42 836.949 1842.62 840.716 Q1845.86 844.483 1851.37 844.483 Z\" fill=\"#000000\" fill-rule=\"evenodd\" fill-opacity=\"1\" /></svg>\n"
      ]
     },
     "execution_count": 40,
     "metadata": {},
     "output_type": "execute_result"
    }
   ],
   "source": [
    "survived_by_sex = combine(groupby(train_df[train_df.Survived .== 1,:],\"Sex\"), nrow => \"Count\")\n",
    "plot(survived_by_sex.Sex, survived_by_sex.Count, title=\"Survived Passengers by Sex\", label=nothing, \n",
    "    seriestype=\"bar\", texts=survived_by_sex.Count)\n",
    "xticks!([1:1:2;],[\"Female\",\"Male\"])"
   ]
  },
  {
   "cell_type": "code",
   "execution_count": 41,
   "id": "14502472",
   "metadata": {},
   "outputs": [
    {
     "data": {
      "image/svg+xml": [
       "<?xml version=\"1.0\" encoding=\"utf-8\"?>\n",
       "<svg xmlns=\"http://www.w3.org/2000/svg\" xmlns:xlink=\"http://www.w3.org/1999/xlink\" width=\"600\" height=\"400\" viewBox=\"0 0 2400 1600\">\n",
       "<defs>\n",
       "  <clipPath id=\"clip790\">\n",
       "    <rect x=\"0\" y=\"0\" width=\"2400\" height=\"1600\"/>\n",
       "  </clipPath>\n",
       "</defs>\n",
       "<path clip-path=\"url(#clip790)\" d=\"M0 1600 L2400 1600 L2400 0 L0 0  Z\" fill=\"#ffffff\" fill-rule=\"evenodd\" fill-opacity=\"1\"/>\n",
       "<defs>\n",
       "  <clipPath id=\"clip791\">\n",
       "    <rect x=\"480\" y=\"0\" width=\"1681\" height=\"1600\"/>\n",
       "  </clipPath>\n",
       "</defs>\n",
       "<path clip-path=\"url(#clip790)\" d=\"M170.857 1486.45 L2352.76 1486.45 L2352.76 123.472 L170.857 123.472  Z\" fill=\"#ffffff\" fill-rule=\"evenodd\" fill-opacity=\"1\"/>\n",
       "<defs>\n",
       "  <clipPath id=\"clip792\">\n",
       "    <rect x=\"170\" y=\"123\" width=\"2183\" height=\"1364\"/>\n",
       "  </clipPath>\n",
       "</defs>\n",
       "<polyline clip-path=\"url(#clip792)\" style=\"stroke:#000000; stroke-linecap:round; stroke-linejoin:round; stroke-width:2; stroke-opacity:0.1; fill:none\" points=\"568.277,1486.45 568.277,123.472 \"/>\n",
       "<polyline clip-path=\"url(#clip792)\" style=\"stroke:#000000; stroke-linecap:round; stroke-linejoin:round; stroke-width:2; stroke-opacity:0.1; fill:none\" points=\"1261.81,1486.45 1261.81,123.472 \"/>\n",
       "<polyline clip-path=\"url(#clip792)\" style=\"stroke:#000000; stroke-linecap:round; stroke-linejoin:round; stroke-width:2; stroke-opacity:0.1; fill:none\" points=\"1955.34,1486.45 1955.34,123.472 \"/>\n",
       "<polyline clip-path=\"url(#clip790)\" style=\"stroke:#000000; stroke-linecap:round; stroke-linejoin:round; stroke-width:4; stroke-opacity:1; fill:none\" points=\"170.857,1486.45 2352.76,1486.45 \"/>\n",
       "<polyline clip-path=\"url(#clip790)\" style=\"stroke:#000000; stroke-linecap:round; stroke-linejoin:round; stroke-width:4; stroke-opacity:1; fill:none\" points=\"568.277,1486.45 568.277,1467.55 \"/>\n",
       "<polyline clip-path=\"url(#clip790)\" style=\"stroke:#000000; stroke-linecap:round; stroke-linejoin:round; stroke-width:4; stroke-opacity:1; fill:none\" points=\"1261.81,1486.45 1261.81,1467.55 \"/>\n",
       "<polyline clip-path=\"url(#clip790)\" style=\"stroke:#000000; stroke-linecap:round; stroke-linejoin:round; stroke-width:4; stroke-opacity:1; fill:none\" points=\"1955.34,1486.45 1955.34,1467.55 \"/>\n",
       "<path clip-path=\"url(#clip790)\" d=\"M521.287 1514.29 L541.148 1514.29 L541.148 1518.22 L525.963 1518.22 L525.963 1528.41 L539.666 1528.41 L539.666 1532.34 L525.963 1532.34 L525.963 1548.85 L521.287 1548.85 L521.287 1514.29 Z\" fill=\"#000000\" fill-rule=\"evenodd\" fill-opacity=\"1\" /><path clip-path=\"url(#clip790)\" d=\"M544.921 1522.92 L549.18 1522.92 L549.18 1548.85 L544.921 1548.85 L544.921 1522.92 M544.921 1512.83 L549.18 1512.83 L549.18 1518.22 L544.921 1518.22 L544.921 1512.83 Z\" fill=\"#000000\" fill-rule=\"evenodd\" fill-opacity=\"1\" /><path clip-path=\"url(#clip790)\" d=\"M573.115 1526.9 Q572.398 1526.49 571.541 1526.3 Q570.708 1526.09 569.689 1526.09 Q566.078 1526.09 564.134 1528.45 Q562.213 1530.79 562.213 1535.19 L562.213 1548.85 L557.93 1548.85 L557.93 1522.92 L562.213 1522.92 L562.213 1526.95 Q563.555 1524.59 565.708 1523.45 Q567.861 1522.3 570.939 1522.3 Q571.379 1522.3 571.912 1522.37 Q572.444 1522.41 573.092 1522.53 L573.115 1526.9 Z\" fill=\"#000000\" fill-rule=\"evenodd\" fill-opacity=\"1\" /><path clip-path=\"url(#clip790)\" d=\"M594.111 1523.69 L594.111 1527.71 Q592.305 1526.79 590.361 1526.32 Q588.416 1525.86 586.333 1525.86 Q583.162 1525.86 581.564 1526.83 Q579.99 1527.81 579.99 1529.75 Q579.99 1531.23 581.125 1532.09 Q582.259 1532.92 585.685 1533.69 L587.143 1534.01 Q591.68 1534.98 593.578 1536.76 Q595.499 1538.52 595.499 1541.7 Q595.499 1545.31 592.629 1547.41 Q589.782 1549.52 584.782 1549.52 Q582.699 1549.52 580.43 1549.1 Q578.185 1548.71 575.685 1547.9 L575.685 1543.5 Q578.046 1544.73 580.338 1545.35 Q582.629 1545.95 584.875 1545.95 Q587.884 1545.95 589.504 1544.94 Q591.125 1543.89 591.125 1542.02 Q591.125 1540.28 589.944 1539.36 Q588.787 1538.43 584.828 1537.57 L583.347 1537.23 Q579.388 1536.39 577.629 1534.68 Q575.87 1532.95 575.87 1529.94 Q575.87 1526.28 578.463 1524.29 Q581.055 1522.3 585.824 1522.3 Q588.185 1522.3 590.268 1522.64 Q592.351 1522.99 594.111 1523.69 Z\" fill=\"#000000\" fill-rule=\"evenodd\" fill-opacity=\"1\" /><path clip-path=\"url(#clip790)\" d=\"M606.495 1515.56 L606.495 1522.92 L615.268 1522.92 L615.268 1526.23 L606.495 1526.23 L606.495 1540.31 Q606.495 1543.48 607.351 1544.38 Q608.231 1545.28 610.893 1545.28 L615.268 1545.28 L615.268 1548.85 L610.893 1548.85 Q605.962 1548.85 604.087 1547.02 Q602.212 1545.17 602.212 1540.31 L602.212 1526.23 L599.087 1526.23 L599.087 1522.92 L602.212 1522.92 L602.212 1515.56 L606.495 1515.56 Z\" fill=\"#000000\" fill-rule=\"evenodd\" fill-opacity=\"1\" /><path clip-path=\"url(#clip790)\" d=\"M1200.53 1515.42 L1200.53 1519.98 Q1197.87 1518.71 1195.51 1518.08 Q1193.15 1517.46 1190.95 1517.46 Q1187.13 1517.46 1185.05 1518.94 Q1182.99 1520.42 1182.99 1523.15 Q1182.99 1525.45 1184.35 1526.63 Q1185.74 1527.78 1189.58 1528.5 L1192.41 1529.08 Q1197.64 1530.07 1200.12 1532.6 Q1202.62 1535.1 1202.62 1539.31 Q1202.62 1544.33 1199.24 1546.93 Q1195.88 1549.52 1189.38 1549.52 Q1186.92 1549.52 1184.15 1548.96 Q1181.39 1548.41 1178.43 1547.32 L1178.43 1542.51 Q1181.27 1544.1 1184.01 1544.91 Q1186.74 1545.72 1189.38 1545.72 Q1193.38 1545.72 1195.56 1544.15 Q1197.73 1542.57 1197.73 1539.66 Q1197.73 1537.11 1196.16 1535.68 Q1194.61 1534.24 1191.04 1533.52 L1188.2 1532.97 Q1182.96 1531.93 1180.63 1529.7 Q1178.29 1527.48 1178.29 1523.52 Q1178.29 1518.94 1181.51 1516.3 Q1184.75 1513.66 1190.42 1513.66 Q1192.85 1513.66 1195.37 1514.1 Q1197.89 1514.54 1200.53 1515.42 Z\" fill=\"#000000\" fill-rule=\"evenodd\" fill-opacity=\"1\" /><path clip-path=\"url(#clip790)\" d=\"M1231.9 1534.82 L1231.9 1536.9 L1212.32 1536.9 Q1212.59 1541.3 1214.96 1543.62 Q1217.34 1545.91 1221.58 1545.91 Q1224.03 1545.91 1226.32 1545.31 Q1228.64 1544.7 1230.9 1543.5 L1230.9 1547.53 Q1228.61 1548.5 1226.21 1549.01 Q1223.8 1549.52 1221.32 1549.52 Q1215.12 1549.52 1211.48 1545.91 Q1207.87 1542.3 1207.87 1536.14 Q1207.87 1529.77 1211.3 1526.05 Q1214.75 1522.3 1220.58 1522.3 Q1225.81 1522.3 1228.84 1525.68 Q1231.9 1529.03 1231.9 1534.82 M1227.64 1533.57 Q1227.59 1530.07 1225.67 1527.99 Q1223.77 1525.91 1220.63 1525.91 Q1217.06 1525.91 1214.91 1527.92 Q1212.78 1529.94 1212.46 1533.59 L1227.64 1533.57 Z\" fill=\"#000000\" fill-rule=\"evenodd\" fill-opacity=\"1\" /><path clip-path=\"url(#clip790)\" d=\"M1257.55 1523.92 L1257.55 1527.9 Q1255.74 1526.9 1253.91 1526.42 Q1252.11 1525.91 1250.26 1525.91 Q1246.11 1525.91 1243.82 1528.55 Q1241.53 1531.16 1241.53 1535.91 Q1241.53 1540.65 1243.82 1543.29 Q1246.11 1545.91 1250.26 1545.91 Q1252.11 1545.91 1253.91 1545.42 Q1255.74 1544.91 1257.55 1543.92 L1257.55 1547.85 Q1255.77 1548.69 1253.84 1549.1 Q1251.95 1549.52 1249.79 1549.52 Q1243.94 1549.52 1240.49 1545.84 Q1237.04 1542.16 1237.04 1535.91 Q1237.04 1529.57 1240.51 1525.93 Q1244.01 1522.3 1250.07 1522.3 Q1252.04 1522.3 1253.91 1522.71 Q1255.79 1523.11 1257.55 1523.92 Z\" fill=\"#000000\" fill-rule=\"evenodd\" fill-opacity=\"1\" /><path clip-path=\"url(#clip790)\" d=\"M1275 1525.91 Q1271.58 1525.91 1269.58 1528.59 Q1267.59 1531.26 1267.59 1535.91 Q1267.59 1540.56 1269.56 1543.25 Q1271.55 1545.91 1275 1545.91 Q1278.4 1545.91 1280.39 1543.22 Q1282.39 1540.54 1282.39 1535.91 Q1282.39 1531.3 1280.39 1528.62 Q1278.4 1525.91 1275 1525.91 M1275 1522.3 Q1280.56 1522.3 1283.73 1525.91 Q1286.9 1529.52 1286.9 1535.91 Q1286.9 1542.27 1283.73 1545.91 Q1280.56 1549.52 1275 1549.52 Q1269.42 1549.52 1266.25 1545.91 Q1263.1 1542.27 1263.1 1535.91 Q1263.1 1529.52 1266.25 1525.91 Q1269.42 1522.3 1275 1522.3 Z\" fill=\"#000000\" fill-rule=\"evenodd\" fill-opacity=\"1\" /><path clip-path=\"url(#clip790)\" d=\"M1315.51 1533.2 L1315.51 1548.85 L1311.25 1548.85 L1311.25 1533.34 Q1311.25 1529.66 1309.82 1527.83 Q1308.38 1526 1305.51 1526 Q1302.06 1526 1300.07 1528.2 Q1298.08 1530.4 1298.08 1534.2 L1298.08 1548.85 L1293.8 1548.85 L1293.8 1522.92 L1298.08 1522.92 L1298.08 1526.95 Q1299.61 1524.61 1301.67 1523.45 Q1303.75 1522.3 1306.46 1522.3 Q1310.93 1522.3 1313.22 1525.07 Q1315.51 1527.83 1315.51 1533.2 Z\" fill=\"#000000\" fill-rule=\"evenodd\" fill-opacity=\"1\" /><path clip-path=\"url(#clip790)\" d=\"M1341.07 1526.86 L1341.07 1512.83 L1345.32 1512.83 L1345.32 1548.85 L1341.07 1548.85 L1341.07 1544.96 Q1339.72 1547.27 1337.66 1548.41 Q1335.63 1549.52 1332.76 1549.52 Q1328.06 1549.52 1325.09 1545.77 Q1322.15 1542.02 1322.15 1535.91 Q1322.15 1529.8 1325.09 1526.05 Q1328.06 1522.3 1332.76 1522.3 Q1335.63 1522.3 1337.66 1523.43 Q1339.72 1524.54 1341.07 1526.86 M1326.55 1535.91 Q1326.55 1540.61 1328.47 1543.29 Q1330.42 1545.95 1333.8 1545.95 Q1337.18 1545.95 1339.12 1543.29 Q1341.07 1540.61 1341.07 1535.91 Q1341.07 1531.21 1339.12 1528.55 Q1337.18 1525.86 1333.8 1525.86 Q1330.42 1525.86 1328.47 1528.55 Q1326.55 1531.21 1326.55 1535.91 Z\" fill=\"#000000\" fill-rule=\"evenodd\" fill-opacity=\"1\" /><path clip-path=\"url(#clip790)\" d=\"M1896.96 1514.29 L1926.19 1514.29 L1926.19 1518.22 L1913.92 1518.22 L1913.92 1548.85 L1909.23 1548.85 L1909.23 1518.22 L1896.96 1518.22 L1896.96 1514.29 Z\" fill=\"#000000\" fill-rule=\"evenodd\" fill-opacity=\"1\" /><path clip-path=\"url(#clip790)\" d=\"M1952.07 1533.2 L1952.07 1548.85 L1947.81 1548.85 L1947.81 1533.34 Q1947.81 1529.66 1946.38 1527.83 Q1944.94 1526 1942.07 1526 Q1938.62 1526 1936.63 1528.2 Q1934.64 1530.4 1934.64 1534.2 L1934.64 1548.85 L1930.36 1548.85 L1930.36 1512.83 L1934.64 1512.83 L1934.64 1526.95 Q1936.17 1524.61 1938.23 1523.45 Q1940.31 1522.3 1943.02 1522.3 Q1947.49 1522.3 1949.78 1525.07 Q1952.07 1527.83 1952.07 1533.2 Z\" fill=\"#000000\" fill-rule=\"evenodd\" fill-opacity=\"1\" /><path clip-path=\"url(#clip790)\" d=\"M1960.57 1522.92 L1964.83 1522.92 L1964.83 1548.85 L1960.57 1548.85 L1960.57 1522.92 M1960.57 1512.83 L1964.83 1512.83 L1964.83 1518.22 L1960.57 1518.22 L1960.57 1512.83 Z\" fill=\"#000000\" fill-rule=\"evenodd\" fill-opacity=\"1\" /><path clip-path=\"url(#clip790)\" d=\"M1988.76 1526.9 Q1988.04 1526.49 1987.19 1526.3 Q1986.35 1526.09 1985.34 1526.09 Q1981.72 1526.09 1979.78 1528.45 Q1977.86 1530.79 1977.86 1535.19 L1977.86 1548.85 L1973.58 1548.85 L1973.58 1522.92 L1977.86 1522.92 L1977.86 1526.95 Q1979.2 1524.59 1981.35 1523.45 Q1983.51 1522.3 1986.59 1522.3 Q1987.03 1522.3 1987.56 1522.37 Q1988.09 1522.41 1988.74 1522.53 L1988.76 1526.9 Z\" fill=\"#000000\" fill-rule=\"evenodd\" fill-opacity=\"1\" /><path clip-path=\"url(#clip790)\" d=\"M2009.46 1526.86 L2009.46 1512.83 L2013.72 1512.83 L2013.72 1548.85 L2009.46 1548.85 L2009.46 1544.96 Q2008.11 1547.27 2006.05 1548.41 Q2004.02 1549.52 2001.15 1549.52 Q1996.45 1549.52 1993.48 1545.77 Q1990.54 1542.02 1990.54 1535.91 Q1990.54 1529.8 1993.48 1526.05 Q1996.45 1522.3 2001.15 1522.3 Q2004.02 1522.3 2006.05 1523.43 Q2008.11 1524.54 2009.46 1526.86 M1994.94 1535.91 Q1994.94 1540.61 1996.86 1543.29 Q1998.81 1545.95 2002.19 1545.95 Q2005.57 1545.95 2007.51 1543.29 Q2009.46 1540.61 2009.46 1535.91 Q2009.46 1531.21 2007.51 1528.55 Q2005.57 1525.86 2002.19 1525.86 Q1998.81 1525.86 1996.86 1528.55 Q1994.94 1531.21 1994.94 1535.91 Z\" fill=\"#000000\" fill-rule=\"evenodd\" fill-opacity=\"1\" /><polyline clip-path=\"url(#clip792)\" style=\"stroke:#000000; stroke-linecap:round; stroke-linejoin:round; stroke-width:2; stroke-opacity:0.1; fill:none\" points=\"170.857,1447.87 2352.76,1447.87 \"/>\n",
       "<polyline clip-path=\"url(#clip792)\" style=\"stroke:#000000; stroke-linecap:round; stroke-linejoin:round; stroke-width:2; stroke-opacity:0.1; fill:none\" points=\"170.857,1102.22 2352.76,1102.22 \"/>\n",
       "<polyline clip-path=\"url(#clip792)\" style=\"stroke:#000000; stroke-linecap:round; stroke-linejoin:round; stroke-width:2; stroke-opacity:0.1; fill:none\" points=\"170.857,756.569 2352.76,756.569 \"/>\n",
       "<polyline clip-path=\"url(#clip792)\" style=\"stroke:#000000; stroke-linecap:round; stroke-linejoin:round; stroke-width:2; stroke-opacity:0.1; fill:none\" points=\"170.857,410.916 2352.76,410.916 \"/>\n",
       "<polyline clip-path=\"url(#clip790)\" style=\"stroke:#000000; stroke-linecap:round; stroke-linejoin:round; stroke-width:4; stroke-opacity:1; fill:none\" points=\"170.857,1486.45 170.857,123.472 \"/>\n",
       "<polyline clip-path=\"url(#clip790)\" style=\"stroke:#000000; stroke-linecap:round; stroke-linejoin:round; stroke-width:4; stroke-opacity:1; fill:none\" points=\"170.857,1447.87 189.755,1447.87 \"/>\n",
       "<polyline clip-path=\"url(#clip790)\" style=\"stroke:#000000; stroke-linecap:round; stroke-linejoin:round; stroke-width:4; stroke-opacity:1; fill:none\" points=\"170.857,1102.22 189.755,1102.22 \"/>\n",
       "<polyline clip-path=\"url(#clip790)\" style=\"stroke:#000000; stroke-linecap:round; stroke-linejoin:round; stroke-width:4; stroke-opacity:1; fill:none\" points=\"170.857,756.569 189.755,756.569 \"/>\n",
       "<polyline clip-path=\"url(#clip790)\" style=\"stroke:#000000; stroke-linecap:round; stroke-linejoin:round; stroke-width:4; stroke-opacity:1; fill:none\" points=\"170.857,410.916 189.755,410.916 \"/>\n",
       "<path clip-path=\"url(#clip790)\" d=\"M122.913 1433.67 Q119.302 1433.67 117.473 1437.24 Q115.668 1440.78 115.668 1447.91 Q115.668 1455.01 117.473 1458.58 Q119.302 1462.12 122.913 1462.12 Q126.547 1462.12 128.353 1458.58 Q130.182 1455.01 130.182 1447.91 Q130.182 1440.78 128.353 1437.24 Q126.547 1433.67 122.913 1433.67 M122.913 1429.97 Q128.723 1429.97 131.779 1434.57 Q134.857 1439.16 134.857 1447.91 Q134.857 1456.63 131.779 1461.24 Q128.723 1465.82 122.913 1465.82 Q117.103 1465.82 114.024 1461.24 Q110.969 1456.63 110.969 1447.91 Q110.969 1439.16 114.024 1434.57 Q117.103 1429.97 122.913 1429.97 Z\" fill=\"#000000\" fill-rule=\"evenodd\" fill-opacity=\"1\" /><path clip-path=\"url(#clip790)\" d=\"M53.3995 1115.57 L61.0384 1115.57 L61.0384 1089.2 L52.7282 1090.87 L52.7282 1086.61 L60.9921 1084.94 L65.668 1084.94 L65.668 1115.57 L73.3068 1115.57 L73.3068 1119.5 L53.3995 1119.5 L53.3995 1115.57 Z\" fill=\"#000000\" fill-rule=\"evenodd\" fill-opacity=\"1\" /><path clip-path=\"url(#clip790)\" d=\"M92.7512 1088.02 Q89.1401 1088.02 87.3114 1091.58 Q85.5058 1095.13 85.5058 1102.26 Q85.5058 1109.36 87.3114 1112.93 Q89.1401 1116.47 92.7512 1116.47 Q96.3854 1116.47 98.1909 1112.93 Q100.02 1109.36 100.02 1102.26 Q100.02 1095.13 98.1909 1091.58 Q96.3854 1088.02 92.7512 1088.02 M92.7512 1084.32 Q98.5613 1084.32 101.617 1088.92 Q104.696 1093.51 104.696 1102.26 Q104.696 1110.98 101.617 1115.59 Q98.5613 1120.17 92.7512 1120.17 Q86.941 1120.17 83.8623 1115.59 Q80.8068 1110.98 80.8068 1102.26 Q80.8068 1093.51 83.8623 1088.92 Q86.941 1084.32 92.7512 1084.32 Z\" fill=\"#000000\" fill-rule=\"evenodd\" fill-opacity=\"1\" /><path clip-path=\"url(#clip790)\" d=\"M122.913 1088.02 Q119.302 1088.02 117.473 1091.58 Q115.668 1095.13 115.668 1102.26 Q115.668 1109.36 117.473 1112.93 Q119.302 1116.47 122.913 1116.47 Q126.547 1116.47 128.353 1112.93 Q130.182 1109.36 130.182 1102.26 Q130.182 1095.13 128.353 1091.58 Q126.547 1088.02 122.913 1088.02 M122.913 1084.32 Q128.723 1084.32 131.779 1088.92 Q134.857 1093.51 134.857 1102.26 Q134.857 1110.98 131.779 1115.59 Q128.723 1120.17 122.913 1120.17 Q117.103 1120.17 114.024 1115.59 Q110.969 1110.98 110.969 1102.26 Q110.969 1093.51 114.024 1088.92 Q117.103 1084.32 122.913 1084.32 Z\" fill=\"#000000\" fill-rule=\"evenodd\" fill-opacity=\"1\" /><path clip-path=\"url(#clip790)\" d=\"M56.6171 769.914 L72.9365 769.914 L72.9365 773.849 L50.9921 773.849 L50.9921 769.914 Q53.6541 767.159 58.2375 762.529 Q62.8439 757.877 64.0245 756.534 Q66.2698 754.011 67.1494 752.275 Q68.0522 750.515 68.0522 748.826 Q68.0522 746.071 66.1078 744.335 Q64.1865 742.599 61.0847 742.599 Q58.8856 742.599 56.4319 743.363 Q54.0014 744.127 51.2236 745.678 L51.2236 740.955 Q54.0477 739.821 56.5014 739.242 Q58.955 738.664 60.9921 738.664 Q66.3624 738.664 69.5568 741.349 Q72.7513 744.034 72.7513 748.525 Q72.7513 750.654 71.9411 752.576 Q71.1541 754.474 69.0476 757.066 Q68.4689 757.738 65.367 760.955 Q62.2652 764.15 56.6171 769.914 Z\" fill=\"#000000\" fill-rule=\"evenodd\" fill-opacity=\"1\" /><path clip-path=\"url(#clip790)\" d=\"M92.7512 742.367 Q89.1401 742.367 87.3114 745.932 Q85.5058 749.474 85.5058 756.603 Q85.5058 763.71 87.3114 767.275 Q89.1401 770.816 92.7512 770.816 Q96.3854 770.816 98.1909 767.275 Q100.02 763.71 100.02 756.603 Q100.02 749.474 98.1909 745.932 Q96.3854 742.367 92.7512 742.367 M92.7512 738.664 Q98.5613 738.664 101.617 743.27 Q104.696 747.853 104.696 756.603 Q104.696 765.33 101.617 769.937 Q98.5613 774.52 92.7512 774.52 Q86.941 774.52 83.8623 769.937 Q80.8068 765.33 80.8068 756.603 Q80.8068 747.853 83.8623 743.27 Q86.941 738.664 92.7512 738.664 Z\" fill=\"#000000\" fill-rule=\"evenodd\" fill-opacity=\"1\" /><path clip-path=\"url(#clip790)\" d=\"M122.913 742.367 Q119.302 742.367 117.473 745.932 Q115.668 749.474 115.668 756.603 Q115.668 763.71 117.473 767.275 Q119.302 770.816 122.913 770.816 Q126.547 770.816 128.353 767.275 Q130.182 763.71 130.182 756.603 Q130.182 749.474 128.353 745.932 Q126.547 742.367 122.913 742.367 M122.913 738.664 Q128.723 738.664 131.779 743.27 Q134.857 747.853 134.857 756.603 Q134.857 765.33 131.779 769.937 Q128.723 774.52 122.913 774.52 Q117.103 774.52 114.024 769.937 Q110.969 765.33 110.969 756.603 Q110.969 747.853 114.024 743.27 Q117.103 738.664 122.913 738.664 Z\" fill=\"#000000\" fill-rule=\"evenodd\" fill-opacity=\"1\" /><path clip-path=\"url(#clip790)\" d=\"M66.7559 409.562 Q70.1124 410.28 71.9874 412.548 Q73.8855 414.817 73.8855 418.15 Q73.8855 423.266 70.367 426.067 Q66.8485 428.868 60.3671 428.868 Q58.1912 428.868 55.8764 428.428 Q53.5847 428.011 51.131 427.155 L51.131 422.641 Q53.0754 423.775 55.3903 424.354 Q57.7051 424.933 60.2282 424.933 Q64.6263 424.933 66.918 423.197 Q69.2328 421.46 69.2328 418.15 Q69.2328 415.095 67.08 413.382 Q64.9504 411.646 61.131 411.646 L57.1032 411.646 L57.1032 407.803 L61.3161 407.803 Q64.7652 407.803 66.5939 406.437 Q68.4226 405.048 68.4226 402.456 Q68.4226 399.794 66.5245 398.382 Q64.6495 396.947 61.131 396.947 Q59.2097 396.947 57.0106 397.363 Q54.8115 397.78 52.1727 398.66 L52.1727 394.493 Q54.8347 393.752 57.1495 393.382 Q59.4875 393.011 61.5476 393.011 Q66.8717 393.011 69.9735 395.442 Q73.0753 397.849 73.0753 401.97 Q73.0753 404.84 71.4318 406.831 Q69.7883 408.798 66.7559 409.562 Z\" fill=\"#000000\" fill-rule=\"evenodd\" fill-opacity=\"1\" /><path clip-path=\"url(#clip790)\" d=\"M92.7512 396.715 Q89.1401 396.715 87.3114 400.28 Q85.5058 403.822 85.5058 410.951 Q85.5058 418.058 87.3114 421.622 Q89.1401 425.164 92.7512 425.164 Q96.3854 425.164 98.1909 421.622 Q100.02 418.058 100.02 410.951 Q100.02 403.822 98.1909 400.28 Q96.3854 396.715 92.7512 396.715 M92.7512 393.011 Q98.5613 393.011 101.617 397.618 Q104.696 402.201 104.696 410.951 Q104.696 419.678 101.617 424.284 Q98.5613 428.868 92.7512 428.868 Q86.941 428.868 83.8623 424.284 Q80.8068 419.678 80.8068 410.951 Q80.8068 402.201 83.8623 397.618 Q86.941 393.011 92.7512 393.011 Z\" fill=\"#000000\" fill-rule=\"evenodd\" fill-opacity=\"1\" /><path clip-path=\"url(#clip790)\" d=\"M122.913 396.715 Q119.302 396.715 117.473 400.28 Q115.668 403.822 115.668 410.951 Q115.668 418.058 117.473 421.622 Q119.302 425.164 122.913 425.164 Q126.547 425.164 128.353 421.622 Q130.182 418.058 130.182 410.951 Q130.182 403.822 128.353 400.28 Q126.547 396.715 122.913 396.715 M122.913 393.011 Q128.723 393.011 131.779 397.618 Q134.857 402.201 134.857 410.951 Q134.857 419.678 131.779 424.284 Q128.723 428.868 122.913 428.868 Q117.103 428.868 114.024 424.284 Q110.969 419.678 110.969 410.951 Q110.969 402.201 114.024 397.618 Q117.103 393.011 122.913 393.011 Z\" fill=\"#000000\" fill-rule=\"evenodd\" fill-opacity=\"1\" /><path clip-path=\"url(#clip790)\" d=\"M603.433 18.8205 L603.433 65.8515 L613.318 65.8515 Q625.835 65.8515 631.628 60.1802 Q637.461 54.509 637.461 42.2752 Q637.461 30.1225 631.628 24.4918 Q625.835 18.8205 613.318 18.8205 L603.433 18.8205 M595.251 12.096 L612.062 12.096 Q629.643 12.096 637.866 19.4281 Q646.089 26.7198 646.089 42.2752 Q646.089 57.9117 637.826 65.2439 Q629.562 72.576 612.062 72.576 L595.251 72.576 L595.251 12.096 Z\" fill=\"#000000\" fill-rule=\"evenodd\" fill-opacity=\"1\" /><path clip-path=\"url(#clip790)\" d=\"M697.617 48.0275 L697.617 51.6733 L663.346 51.6733 Q663.832 59.3701 667.964 63.421 Q672.137 67.4314 679.55 67.4314 Q683.844 67.4314 687.854 66.3781 Q691.905 65.3249 695.875 63.2184 L695.875 70.267 Q691.865 71.9684 687.652 72.8596 Q683.439 73.7508 679.104 73.7508 Q668.248 73.7508 661.888 67.4314 Q655.569 61.1119 655.569 50.3365 Q655.569 39.1965 661.564 32.6746 Q667.6 26.1121 677.808 26.1121 Q686.963 26.1121 692.27 32.0264 Q697.617 37.9003 697.617 48.0275 M690.163 45.84 Q690.082 39.7232 686.72 36.0774 Q683.398 32.4315 677.889 32.4315 Q671.651 32.4315 667.883 35.9558 Q664.157 39.4801 663.589 45.8805 L690.163 45.84 Z\" fill=\"#000000\" fill-rule=\"evenodd\" fill-opacity=\"1\" /><path clip-path=\"url(#clip790)\" d=\"M730.47 49.7694 Q721.436 49.7694 717.953 51.8354 Q714.469 53.9013 714.469 58.8839 Q714.469 62.8538 717.061 65.2034 Q719.694 67.5124 724.191 67.5124 Q730.389 67.5124 734.116 63.1374 Q737.883 58.7219 737.883 51.4303 L737.883 49.7694 L730.47 49.7694 M745.337 46.6907 L745.337 72.576 L737.883 72.576 L737.883 65.6895 Q735.331 69.8214 731.523 71.8063 Q727.715 73.7508 722.206 73.7508 Q715.238 73.7508 711.106 69.8619 Q707.015 65.9325 707.015 59.3701 Q707.015 51.7138 712.119 47.825 Q717.264 43.9361 727.432 43.9361 L737.883 43.9361 L737.883 43.2069 Q737.883 38.0623 734.48 35.2672 Q731.118 32.4315 725.001 32.4315 Q721.112 32.4315 717.426 33.3632 Q713.74 34.295 710.337 36.1584 L710.337 29.2718 Q714.428 27.692 718.277 26.9223 Q722.125 26.1121 725.771 26.1121 Q735.614 26.1121 740.476 31.2163 Q745.337 36.3204 745.337 46.6907 Z\" fill=\"#000000\" fill-rule=\"evenodd\" fill-opacity=\"1\" /><path clip-path=\"url(#clip790)\" d=\"M790.545 34.0924 L790.545 9.54393 L797.998 9.54393 L797.998 72.576 L790.545 72.576 L790.545 65.7705 Q788.195 69.8214 784.59 71.8063 Q781.025 73.7508 776.002 73.7508 Q767.779 73.7508 762.593 67.1883 Q757.449 60.6258 757.449 49.9314 Q757.449 39.2371 762.593 32.6746 Q767.779 26.1121 776.002 26.1121 Q781.025 26.1121 784.59 28.0971 Q788.195 30.0415 790.545 34.0924 M765.146 49.9314 Q765.146 58.1548 768.508 62.8538 Q771.911 67.5124 777.825 67.5124 Q783.739 67.5124 787.142 62.8538 Q790.545 58.1548 790.545 49.9314 Q790.545 41.7081 787.142 37.0496 Q783.739 32.3505 777.825 32.3505 Q771.911 32.3505 768.508 37.0496 Q765.146 41.7081 765.146 49.9314 Z\" fill=\"#000000\" fill-rule=\"evenodd\" fill-opacity=\"1\" /><path clip-path=\"url(#clip790)\" d=\"M848.23 18.8205 L848.23 41.5461 L858.519 41.5461 Q864.231 41.5461 867.35 38.5889 Q870.469 35.6318 870.469 30.163 Q870.469 24.7348 867.35 21.7777 Q864.231 18.8205 858.519 18.8205 L848.23 18.8205 M840.047 12.096 L858.519 12.096 Q868.687 12.096 873.872 16.714 Q879.097 21.2916 879.097 30.163 Q879.097 39.1155 873.872 43.6931 Q868.687 48.2706 858.519 48.2706 L848.23 48.2706 L848.23 72.576 L840.047 72.576 L840.047 12.096 Z\" fill=\"#000000\" fill-rule=\"evenodd\" fill-opacity=\"1\" /><path clip-path=\"url(#clip790)\" d=\"M906.644 49.7694 Q897.61 49.7694 894.126 51.8354 Q890.643 53.9013 890.643 58.8839 Q890.643 62.8538 893.235 65.2034 Q895.868 67.5124 900.365 67.5124 Q906.563 67.5124 910.289 63.1374 Q914.057 58.7219 914.057 51.4303 L914.057 49.7694 L906.644 49.7694 M921.51 46.6907 L921.51 72.576 L914.057 72.576 L914.057 65.6895 Q911.505 69.8214 907.697 71.8063 Q903.889 73.7508 898.38 73.7508 Q891.412 73.7508 887.28 69.8619 Q883.189 65.9325 883.189 59.3701 Q883.189 51.7138 888.293 47.825 Q893.438 43.9361 903.605 43.9361 L914.057 43.9361 L914.057 43.2069 Q914.057 38.0623 910.654 35.2672 Q907.292 32.4315 901.175 32.4315 Q897.286 32.4315 893.6 33.3632 Q889.913 34.295 886.511 36.1584 L886.511 29.2718 Q890.602 27.692 894.45 26.9223 Q898.299 26.1121 901.945 26.1121 Q911.788 26.1121 916.649 31.2163 Q921.51 36.3204 921.51 46.6907 Z\" fill=\"#000000\" fill-rule=\"evenodd\" fill-opacity=\"1\" /><path clip-path=\"url(#clip790)\" d=\"M965.787 28.5427 L965.787 35.5912 Q962.627 33.9709 959.224 33.1607 Q955.822 32.3505 952.176 32.3505 Q946.626 32.3505 943.831 34.0519 Q941.076 35.7533 941.076 39.156 Q941.076 41.7486 943.061 43.2475 Q945.046 44.7058 951.042 46.0426 L953.594 46.6097 Q961.533 48.3111 964.855 51.4303 Q968.217 54.509 968.217 60.0587 Q968.217 66.3781 963.194 70.0644 Q958.212 73.7508 949.462 73.7508 Q945.816 73.7508 941.846 73.0216 Q937.917 72.3329 933.542 70.9151 L933.542 63.2184 Q937.674 65.3654 941.684 66.4591 Q945.694 67.5124 949.624 67.5124 Q954.89 67.5124 957.726 65.73 Q960.561 63.9071 960.561 60.6258 Q960.561 57.5877 958.495 55.9673 Q956.47 54.3469 949.543 52.8481 L946.95 52.2405 Q940.023 50.7821 936.944 47.7845 Q933.866 44.7463 933.866 39.4801 Q933.866 33.0797 938.403 29.5959 Q942.94 26.1121 951.285 26.1121 Q955.417 26.1121 959.062 26.7198 Q962.708 27.3274 965.787 28.5427 Z\" fill=\"#000000\" fill-rule=\"evenodd\" fill-opacity=\"1\" /><path clip-path=\"url(#clip790)\" d=\"M1009.01 28.5427 L1009.01 35.5912 Q1005.85 33.9709 1002.45 33.1607 Q999.045 32.3505 995.399 32.3505 Q989.849 32.3505 987.054 34.0519 Q984.299 35.7533 984.299 39.156 Q984.299 41.7486 986.284 43.2475 Q988.269 44.7058 994.265 46.0426 L996.817 46.6097 Q1004.76 48.3111 1008.08 51.4303 Q1011.44 54.509 1011.44 60.0587 Q1011.44 66.3781 1006.42 70.0644 Q1001.43 73.7508 992.685 73.7508 Q989.039 73.7508 985.069 73.0216 Q981.14 72.3329 976.765 70.9151 L976.765 63.2184 Q980.897 65.3654 984.907 66.4591 Q988.917 67.5124 992.847 67.5124 Q998.113 67.5124 1000.95 65.73 Q1003.78 63.9071 1003.78 60.6258 Q1003.78 57.5877 1001.72 55.9673 Q999.693 54.3469 992.766 52.8481 L990.173 52.2405 Q983.246 50.7821 980.168 47.7845 Q977.089 44.7463 977.089 39.4801 Q977.089 33.0797 981.626 29.5959 Q986.163 26.1121 994.508 26.1121 Q998.64 26.1121 1002.29 26.7198 Q1005.93 27.3274 1009.01 28.5427 Z\" fill=\"#000000\" fill-rule=\"evenodd\" fill-opacity=\"1\" /><path clip-path=\"url(#clip790)\" d=\"M1062.12 48.0275 L1062.12 51.6733 L1027.85 51.6733 Q1028.33 59.3701 1032.46 63.421 Q1036.64 67.4314 1044.05 67.4314 Q1048.34 67.4314 1052.35 66.3781 Q1056.41 65.3249 1060.38 63.2184 L1060.38 70.267 Q1056.37 71.9684 1052.15 72.8596 Q1047.94 73.7508 1043.6 73.7508 Q1032.75 73.7508 1026.39 67.4314 Q1020.07 61.1119 1020.07 50.3365 Q1020.07 39.1965 1026.06 32.6746 Q1032.1 26.1121 1042.31 26.1121 Q1051.46 26.1121 1056.77 32.0264 Q1062.12 37.9003 1062.12 48.0275 M1054.66 45.84 Q1054.58 39.7232 1051.22 36.0774 Q1047.9 32.4315 1042.39 32.4315 Q1036.15 32.4315 1032.38 35.9558 Q1028.66 39.4801 1028.09 45.8805 L1054.66 45.84 Z\" fill=\"#000000\" fill-rule=\"evenodd\" fill-opacity=\"1\" /><path clip-path=\"url(#clip790)\" d=\"M1112.06 45.1919 L1112.06 72.576 L1104.61 72.576 L1104.61 45.4349 Q1104.61 38.994 1102.1 35.7938 Q1099.59 32.5936 1094.57 32.5936 Q1088.53 32.5936 1085.05 36.4419 Q1081.56 40.2903 1081.56 46.9338 L1081.56 72.576 L1074.07 72.576 L1074.07 27.2059 L1081.56 27.2059 L1081.56 34.2544 Q1084.24 30.163 1087.84 28.1376 Q1091.49 26.1121 1096.23 26.1121 Q1104.04 26.1121 1108.05 30.9732 Q1112.06 35.7938 1112.06 45.1919 Z\" fill=\"#000000\" fill-rule=\"evenodd\" fill-opacity=\"1\" /><path clip-path=\"url(#clip790)\" d=\"M1156.79 49.3643 Q1156.79 41.2625 1153.42 36.8065 Q1150.1 32.3505 1144.07 32.3505 Q1138.07 32.3505 1134.71 36.8065 Q1131.39 41.2625 1131.39 49.3643 Q1131.39 57.4256 1134.71 61.8816 Q1138.07 66.3376 1144.07 66.3376 Q1150.1 66.3376 1153.42 61.8816 Q1156.79 57.4256 1156.79 49.3643 M1164.24 66.9452 Q1164.24 78.5308 1159.1 84.1616 Q1153.95 89.8329 1143.34 89.8329 Q1139.41 89.8329 1135.92 89.2252 Q1132.44 88.6581 1129.16 87.4428 L1129.16 80.1917 Q1132.44 81.9741 1135.64 82.8248 Q1138.84 83.6755 1142.16 83.6755 Q1149.5 83.6755 1153.14 79.8271 Q1156.79 76.0193 1156.79 68.282 L1156.79 64.5957 Q1154.48 68.6061 1150.87 70.5911 Q1147.27 72.576 1142.24 72.576 Q1133.9 72.576 1128.8 66.2161 Q1123.69 59.8562 1123.69 49.3643 Q1123.69 38.832 1128.8 32.472 Q1133.9 26.1121 1142.24 26.1121 Q1147.27 26.1121 1150.87 28.0971 Q1154.48 30.082 1156.79 34.0924 L1156.79 27.2059 L1164.24 27.2059 L1164.24 66.9452 Z\" fill=\"#000000\" fill-rule=\"evenodd\" fill-opacity=\"1\" /><path clip-path=\"url(#clip790)\" d=\"M1218.4 48.0275 L1218.4 51.6733 L1184.13 51.6733 Q1184.62 59.3701 1188.75 63.421 Q1192.92 67.4314 1200.33 67.4314 Q1204.63 67.4314 1208.64 66.3781 Q1212.69 65.3249 1216.66 63.2184 L1216.66 70.267 Q1212.65 71.9684 1208.44 72.8596 Q1204.22 73.7508 1199.89 73.7508 Q1189.03 73.7508 1182.67 67.4314 Q1176.35 61.1119 1176.35 50.3365 Q1176.35 39.1965 1182.35 32.6746 Q1188.38 26.1121 1198.59 26.1121 Q1207.75 26.1121 1213.05 32.0264 Q1218.4 37.9003 1218.4 48.0275 M1210.95 45.84 Q1210.87 39.7232 1207.5 36.0774 Q1204.18 32.4315 1198.67 32.4315 Q1192.43 32.4315 1188.67 35.9558 Q1184.94 39.4801 1184.37 45.8805 L1210.95 45.84 Z\" fill=\"#000000\" fill-rule=\"evenodd\" fill-opacity=\"1\" /><path clip-path=\"url(#clip790)\" d=\"M1256.93 34.1734 Q1255.67 33.4443 1254.17 33.1202 Q1252.71 32.7556 1250.93 32.7556 Q1244.61 32.7556 1241.21 36.8875 Q1237.85 40.9789 1237.85 48.6757 L1237.85 72.576 L1230.35 72.576 L1230.35 27.2059 L1237.85 27.2059 L1237.85 34.2544 Q1240.2 30.1225 1243.96 28.1376 Q1247.73 26.1121 1253.12 26.1121 Q1253.89 26.1121 1254.82 26.2337 Q1255.75 26.3147 1256.88 26.5172 L1256.93 34.1734 Z\" fill=\"#000000\" fill-rule=\"evenodd\" fill-opacity=\"1\" /><path clip-path=\"url(#clip790)\" d=\"M1293.67 28.5427 L1293.67 35.5912 Q1290.51 33.9709 1287.1 33.1607 Q1283.7 32.3505 1280.06 32.3505 Q1274.51 32.3505 1271.71 34.0519 Q1268.96 35.7533 1268.96 39.156 Q1268.96 41.7486 1270.94 43.2475 Q1272.93 44.7058 1278.92 46.0426 L1281.47 46.6097 Q1289.41 48.3111 1292.74 51.4303 Q1296.1 54.509 1296.1 60.0587 Q1296.1 66.3781 1291.07 70.0644 Q1286.09 73.7508 1277.34 73.7508 Q1273.7 73.7508 1269.73 73.0216 Q1265.8 72.3329 1261.42 70.9151 L1261.42 63.2184 Q1265.55 65.3654 1269.56 66.4591 Q1273.57 67.5124 1277.5 67.5124 Q1282.77 67.5124 1285.61 65.73 Q1288.44 63.9071 1288.44 60.6258 Q1288.44 57.5877 1286.38 55.9673 Q1284.35 54.3469 1277.42 52.8481 L1274.83 52.2405 Q1267.9 50.7821 1264.82 47.7845 Q1261.75 44.7463 1261.75 39.4801 Q1261.75 33.0797 1266.28 29.5959 Q1270.82 26.1121 1279.16 26.1121 Q1283.3 26.1121 1286.94 26.7198 Q1290.59 27.3274 1293.67 28.5427 Z\" fill=\"#000000\" fill-rule=\"evenodd\" fill-opacity=\"1\" /><path clip-path=\"url(#clip790)\" d=\"M1366.91 49.9314 Q1366.91 41.7081 1363.5 37.0496 Q1360.14 32.3505 1354.23 32.3505 Q1348.31 32.3505 1344.91 37.0496 Q1341.55 41.7081 1341.55 49.9314 Q1341.55 58.1548 1344.91 62.8538 Q1348.31 67.5124 1354.23 67.5124 Q1360.14 67.5124 1363.5 62.8538 Q1366.91 58.1548 1366.91 49.9314 M1341.55 34.0924 Q1343.9 30.0415 1347.46 28.0971 Q1351.07 26.1121 1356.05 26.1121 Q1364.31 26.1121 1369.46 32.6746 Q1374.64 39.2371 1374.64 49.9314 Q1374.64 60.6258 1369.46 67.1883 Q1364.31 73.7508 1356.05 73.7508 Q1351.07 73.7508 1347.46 71.8063 Q1343.9 69.8214 1341.55 65.7705 L1341.55 72.576 L1334.05 72.576 L1334.05 9.54393 L1341.55 9.54393 L1341.55 34.0924 Z\" fill=\"#000000\" fill-rule=\"evenodd\" fill-opacity=\"1\" /><path clip-path=\"url(#clip790)\" d=\"M1405.88 76.7889 Q1402.72 84.8907 1399.72 87.3618 Q1396.72 89.8329 1391.7 89.8329 L1385.74 89.8329 L1385.74 83.5945 L1390.12 83.5945 Q1393.2 83.5945 1394.9 82.1361 Q1396.6 80.6778 1398.67 75.2496 L1400 71.8468 L1381.65 27.2059 L1389.55 27.2059 L1403.73 62.6918 L1417.91 27.2059 L1425.81 27.2059 L1405.88 76.7889 Z\" fill=\"#000000\" fill-rule=\"evenodd\" fill-opacity=\"1\" /><path clip-path=\"url(#clip790)\" d=\"M1454.41 12.096 L1505.57 12.096 L1505.57 18.9825 L1484.1 18.9825 L1484.1 72.576 L1475.88 72.576 L1475.88 18.9825 L1454.41 18.9825 L1454.41 12.096 Z\" fill=\"#000000\" fill-rule=\"evenodd\" fill-opacity=\"1\" /><path clip-path=\"url(#clip790)\" d=\"M1510.59 27.2059 L1518.05 27.2059 L1518.05 72.576 L1510.59 72.576 L1510.59 27.2059 M1510.59 9.54393 L1518.05 9.54393 L1518.05 18.9825 L1510.59 18.9825 L1510.59 9.54393 Z\" fill=\"#000000\" fill-rule=\"evenodd\" fill-opacity=\"1\" /><path clip-path=\"url(#clip790)\" d=\"M1566.29 28.9478 L1566.29 35.9153 Q1563.13 34.1734 1559.93 33.3227 Q1556.77 32.4315 1553.53 32.4315 Q1546.28 32.4315 1542.27 37.0496 Q1538.26 41.6271 1538.26 49.9314 Q1538.26 58.2358 1542.27 62.8538 Q1546.28 67.4314 1553.53 67.4314 Q1556.77 67.4314 1559.93 66.5807 Q1563.13 65.6895 1566.29 63.9476 L1566.29 70.8341 Q1563.17 72.2924 1559.81 73.0216 Q1556.49 73.7508 1552.72 73.7508 Q1542.47 73.7508 1536.44 67.3098 Q1530.4 60.8689 1530.4 49.9314 Q1530.4 38.832 1536.48 32.472 Q1542.6 26.1121 1553.21 26.1121 Q1556.65 26.1121 1559.93 26.8413 Q1563.21 27.5299 1566.29 28.9478 Z\" fill=\"#000000\" fill-rule=\"evenodd\" fill-opacity=\"1\" /><path clip-path=\"url(#clip790)\" d=\"M1578.97 9.54393 L1586.47 9.54393 L1586.47 46.7717 L1608.71 27.2059 L1618.23 27.2059 L1594.16 48.4326 L1619.24 72.576 L1609.52 72.576 L1586.47 50.4176 L1586.47 72.576 L1578.97 72.576 L1578.97 9.54393 Z\" fill=\"#000000\" fill-rule=\"evenodd\" fill-opacity=\"1\" /><path clip-path=\"url(#clip790)\" d=\"M1663.15 48.0275 L1663.15 51.6733 L1628.88 51.6733 Q1629.37 59.3701 1633.5 63.421 Q1637.67 67.4314 1645.08 67.4314 Q1649.38 67.4314 1653.39 66.3781 Q1657.44 65.3249 1661.41 63.2184 L1661.41 70.267 Q1657.4 71.9684 1653.18 72.8596 Q1648.97 73.7508 1644.64 73.7508 Q1633.78 73.7508 1627.42 67.4314 Q1621.1 61.1119 1621.1 50.3365 Q1621.1 39.1965 1627.1 32.6746 Q1633.13 26.1121 1643.34 26.1121 Q1652.5 26.1121 1657.8 32.0264 Q1663.15 37.9003 1663.15 48.0275 M1655.7 45.84 Q1655.62 39.7232 1652.25 36.0774 Q1648.93 32.4315 1643.42 32.4315 Q1637.18 32.4315 1633.42 35.9558 Q1629.69 39.4801 1629.12 45.8805 L1655.7 45.84 Z\" fill=\"#000000\" fill-rule=\"evenodd\" fill-opacity=\"1\" /><path clip-path=\"url(#clip790)\" d=\"M1682.76 14.324 L1682.76 27.2059 L1698.11 27.2059 L1698.11 32.9987 L1682.76 32.9987 L1682.76 57.6282 Q1682.76 63.1779 1684.26 64.7578 Q1685.79 66.3376 1690.45 66.3376 L1698.11 66.3376 L1698.11 72.576 L1690.45 72.576 Q1681.82 72.576 1678.54 69.3758 Q1675.26 66.1351 1675.26 57.6282 L1675.26 32.9987 L1669.79 32.9987 L1669.79 27.2059 L1675.26 27.2059 L1675.26 14.324 L1682.76 14.324 Z\" fill=\"#000000\" fill-rule=\"evenodd\" fill-opacity=\"1\" /><path clip-path=\"url(#clip790)\" d=\"M1766.93 28.9478 L1766.93 35.9153 Q1763.77 34.1734 1760.57 33.3227 Q1757.41 32.4315 1754.17 32.4315 Q1746.92 32.4315 1742.91 37.0496 Q1738.9 41.6271 1738.9 49.9314 Q1738.9 58.2358 1742.91 62.8538 Q1746.92 67.4314 1754.17 67.4314 Q1757.41 67.4314 1760.57 66.5807 Q1763.77 65.6895 1766.93 63.9476 L1766.93 70.8341 Q1763.81 72.2924 1760.45 73.0216 Q1757.13 73.7508 1753.36 73.7508 Q1743.11 73.7508 1737.08 67.3098 Q1731.04 60.8689 1731.04 49.9314 Q1731.04 38.832 1737.12 32.472 Q1743.24 26.1121 1753.85 26.1121 Q1757.29 26.1121 1760.57 26.8413 Q1763.86 27.5299 1766.93 28.9478 Z\" fill=\"#000000\" fill-rule=\"evenodd\" fill-opacity=\"1\" /><path clip-path=\"url(#clip790)\" d=\"M1779.9 9.54393 L1787.35 9.54393 L1787.35 72.576 L1779.9 72.576 L1779.9 9.54393 Z\" fill=\"#000000\" fill-rule=\"evenodd\" fill-opacity=\"1\" /><path clip-path=\"url(#clip790)\" d=\"M1823.57 49.7694 Q1814.53 49.7694 1811.05 51.8354 Q1807.56 53.9013 1807.56 58.8839 Q1807.56 62.8538 1810.16 65.2034 Q1812.79 67.5124 1817.29 67.5124 Q1823.48 67.5124 1827.21 63.1374 Q1830.98 58.7219 1830.98 51.4303 L1830.98 49.7694 L1823.57 49.7694 M1838.43 46.6907 L1838.43 72.576 L1830.98 72.576 L1830.98 65.6895 Q1828.43 69.8214 1824.62 71.8063 Q1820.81 73.7508 1815.3 73.7508 Q1808.33 73.7508 1804.2 69.8619 Q1800.11 65.9325 1800.11 59.3701 Q1800.11 51.7138 1805.22 47.825 Q1810.36 43.9361 1820.53 43.9361 L1830.98 43.9361 L1830.98 43.2069 Q1830.98 38.0623 1827.58 35.2672 Q1824.21 32.4315 1818.1 32.4315 Q1814.21 32.4315 1810.52 33.3632 Q1806.84 34.295 1803.43 36.1584 L1803.43 29.2718 Q1807.52 27.692 1811.37 26.9223 Q1815.22 26.1121 1818.87 26.1121 Q1828.71 26.1121 1833.57 31.2163 Q1838.43 36.3204 1838.43 46.6907 Z\" fill=\"#000000\" fill-rule=\"evenodd\" fill-opacity=\"1\" /><path clip-path=\"url(#clip790)\" d=\"M1882.71 28.5427 L1882.71 35.5912 Q1879.55 33.9709 1876.15 33.1607 Q1872.74 32.3505 1869.1 32.3505 Q1863.55 32.3505 1860.75 34.0519 Q1858 35.7533 1858 39.156 Q1858 41.7486 1859.98 43.2475 Q1861.97 44.7058 1867.96 46.0426 L1870.52 46.6097 Q1878.46 48.3111 1881.78 51.4303 Q1885.14 54.509 1885.14 60.0587 Q1885.14 66.3781 1880.12 70.0644 Q1875.13 73.7508 1866.38 73.7508 Q1862.74 73.7508 1858.77 73.0216 Q1854.84 72.3329 1850.46 70.9151 L1850.46 63.2184 Q1854.6 65.3654 1858.61 66.4591 Q1862.62 67.5124 1866.55 67.5124 Q1871.81 67.5124 1874.65 65.73 Q1877.48 63.9071 1877.48 60.6258 Q1877.48 57.5877 1875.42 55.9673 Q1873.39 54.3469 1866.46 52.8481 L1863.87 52.2405 Q1856.95 50.7821 1853.87 47.7845 Q1850.79 44.7463 1850.79 39.4801 Q1850.79 33.0797 1855.32 29.5959 Q1859.86 26.1121 1868.21 26.1121 Q1872.34 26.1121 1875.98 26.7198 Q1879.63 27.3274 1882.71 28.5427 Z\" fill=\"#000000\" fill-rule=\"evenodd\" fill-opacity=\"1\" /><path clip-path=\"url(#clip790)\" d=\"M1925.93 28.5427 L1925.93 35.5912 Q1922.77 33.9709 1919.37 33.1607 Q1915.97 32.3505 1912.32 32.3505 Q1906.77 32.3505 1903.98 34.0519 Q1901.22 35.7533 1901.22 39.156 Q1901.22 41.7486 1903.21 43.2475 Q1905.19 44.7058 1911.19 46.0426 L1913.74 46.6097 Q1921.68 48.3111 1925 51.4303 Q1928.36 54.509 1928.36 60.0587 Q1928.36 66.3781 1923.34 70.0644 Q1918.36 73.7508 1909.61 73.7508 Q1905.96 73.7508 1901.99 73.0216 Q1898.06 72.3329 1893.69 70.9151 L1893.69 63.2184 Q1897.82 65.3654 1901.83 66.4591 Q1905.84 67.5124 1909.77 67.5124 Q1915.04 67.5124 1917.87 65.73 Q1920.71 63.9071 1920.71 60.6258 Q1920.71 57.5877 1918.64 55.9673 Q1916.62 54.3469 1909.69 52.8481 L1907.1 52.2405 Q1900.17 50.7821 1897.09 47.7845 Q1894.01 44.7463 1894.01 39.4801 Q1894.01 33.0797 1898.55 29.5959 Q1903.09 26.1121 1911.43 26.1121 Q1915.56 26.1121 1919.21 26.7198 Q1922.85 27.3274 1925.93 28.5427 Z\" fill=\"#000000\" fill-rule=\"evenodd\" fill-opacity=\"1\" /><path clip-path=\"url(#clip792)\" d=\"M290.866 1171.35 L290.866 1447.87 L845.689 1447.87 L845.689 1171.35 L290.866 1171.35 L290.866 1171.35  Z\" fill=\"#009af9\" fill-rule=\"evenodd\" fill-opacity=\"1\"/>\n",
       "<polyline clip-path=\"url(#clip792)\" style=\"stroke:#000000; stroke-linecap:round; stroke-linejoin:round; stroke-width:4; stroke-opacity:1; fill:none\" points=\"290.866,1171.35 290.866,1447.87 845.689,1447.87 845.689,1171.35 290.866,1171.35 \"/>\n",
       "<path clip-path=\"url(#clip792)\" d=\"M984.395 1112.59 L984.395 1447.87 L1539.22 1447.87 L1539.22 1112.59 L984.395 1112.59 L984.395 1112.59  Z\" fill=\"#009af9\" fill-rule=\"evenodd\" fill-opacity=\"1\"/>\n",
       "<polyline clip-path=\"url(#clip792)\" style=\"stroke:#000000; stroke-linecap:round; stroke-linejoin:round; stroke-width:4; stroke-opacity:1; fill:none\" points=\"984.395,1112.59 984.395,1447.87 1539.22,1447.87 1539.22,1112.59 984.395,1112.59 \"/>\n",
       "<path clip-path=\"url(#clip792)\" d=\"M1677.92 162.047 L1677.92 1447.87 L2232.75 1447.87 L2232.75 162.047 L1677.92 162.047 L1677.92 162.047  Z\" fill=\"#009af9\" fill-rule=\"evenodd\" fill-opacity=\"1\"/>\n",
       "<polyline clip-path=\"url(#clip792)\" style=\"stroke:#000000; stroke-linecap:round; stroke-linejoin:round; stroke-width:4; stroke-opacity:1; fill:none\" points=\"1677.92,162.047 1677.92,1447.87 2232.75,1447.87 2232.75,162.047 1677.92,162.047 \"/>\n",
       "<circle clip-path=\"url(#clip792)\" style=\"fill:#009af9; stroke:none; fill-opacity:0\" cx=\"568.277\" cy=\"1171.35\" r=\"2\"/>\n",
       "<circle clip-path=\"url(#clip792)\" style=\"fill:#009af9; stroke:none; fill-opacity:0\" cx=\"1261.81\" cy=\"1112.59\" r=\"2\"/>\n",
       "<circle clip-path=\"url(#clip792)\" style=\"fill:#009af9; stroke:none; fill-opacity:0\" cx=\"1955.34\" cy=\"162.047\" r=\"2\"/>\n",
       "<path clip-path=\"url(#clip790)\" d=\"M541.805 1172.87 Q535.971 1172.87 532.609 1175.99 Q529.287 1179.11 529.287 1184.58 Q529.287 1190.05 532.609 1193.17 Q535.971 1196.28 541.805 1196.28 Q547.638 1196.28 551 1193.17 Q554.363 1190.01 554.363 1184.58 Q554.363 1179.11 551 1175.99 Q547.679 1172.87 541.805 1172.87 M533.622 1169.39 Q528.356 1168.09 525.399 1164.49 Q522.482 1160.88 522.482 1155.69 Q522.482 1148.44 527.627 1144.23 Q532.812 1140.02 541.805 1140.02 Q550.838 1140.02 555.983 1144.23 Q561.128 1148.44 561.128 1155.69 Q561.128 1160.88 558.17 1164.49 Q555.254 1168.09 550.028 1169.39 Q555.942 1170.76 559.224 1174.77 Q562.545 1178.78 562.545 1184.58 Q562.545 1193.37 557.158 1198.07 Q551.81 1202.77 541.805 1202.77 Q531.799 1202.77 526.411 1198.07 Q521.064 1193.37 521.064 1184.58 Q521.064 1178.78 524.386 1174.77 Q527.708 1170.76 533.622 1169.39 M530.624 1156.46 Q530.624 1161.16 533.541 1163.8 Q536.498 1166.43 541.805 1166.43 Q547.071 1166.43 550.028 1163.8 Q553.026 1161.16 553.026 1156.46 Q553.026 1151.77 550.028 1149.13 Q547.071 1146.5 541.805 1146.5 Q536.498 1146.5 533.541 1149.13 Q530.624 1151.77 530.624 1156.46 Z\" fill=\"#000000\" fill-rule=\"evenodd\" fill-opacity=\"1\" /><path clip-path=\"url(#clip790)\" d=\"M594.588 1146.5 Q588.269 1146.5 585.068 1152.74 Q581.909 1158.94 581.909 1171.41 Q581.909 1183.85 585.068 1190.09 Q588.269 1196.28 594.588 1196.28 Q600.948 1196.28 604.108 1190.09 Q607.308 1183.85 607.308 1171.41 Q607.308 1158.94 604.108 1152.74 Q600.948 1146.5 594.588 1146.5 M594.588 1140.02 Q604.756 1140.02 610.103 1148.08 Q615.491 1156.1 615.491 1171.41 Q615.491 1186.68 610.103 1194.75 Q604.756 1202.77 594.588 1202.77 Q584.42 1202.77 579.033 1194.75 Q573.685 1186.68 573.685 1171.41 Q573.685 1156.1 579.033 1148.08 Q584.42 1140.02 594.588 1140.02 Z\" fill=\"#000000\" fill-rule=\"evenodd\" fill-opacity=\"1\" /><path clip-path=\"url(#clip790)\" d=\"M1219.07 1141.57 L1219.07 1134.12 Q1222.15 1135.58 1225.31 1136.35 Q1228.47 1137.12 1231.51 1137.12 Q1239.61 1137.12 1243.86 1131.69 Q1248.16 1126.22 1248.76 1115.12 Q1246.41 1118.61 1242.81 1120.47 Q1239.2 1122.33 1234.83 1122.33 Q1225.75 1122.33 1220.45 1116.86 Q1215.18 1111.35 1215.18 1101.84 Q1215.18 1092.52 1220.69 1086.89 Q1226.2 1081.26 1235.35 1081.26 Q1245.85 1081.26 1251.36 1089.32 Q1256.91 1097.34 1256.91 1112.65 Q1256.91 1126.95 1250.1 1135.5 Q1243.33 1144.01 1231.87 1144.01 Q1228.79 1144.01 1225.63 1143.4 Q1222.47 1142.79 1219.07 1141.57 M1235.35 1115.93 Q1240.86 1115.93 1244.06 1112.17 Q1247.3 1108.4 1247.3 1101.84 Q1247.3 1095.31 1244.06 1091.55 Q1240.86 1087.74 1235.35 1087.74 Q1229.85 1087.74 1226.6 1091.55 Q1223.4 1095.31 1223.4 1101.84 Q1223.4 1108.4 1226.6 1112.17 Q1229.85 1115.93 1235.35 1115.93 Z\" fill=\"#000000\" fill-rule=\"evenodd\" fill-opacity=\"1\" /><path clip-path=\"url(#clip790)\" d=\"M1269.54 1082.35 L1308.43 1082.35 L1308.43 1085.83 L1286.48 1142.83 L1277.93 1142.83 L1298.59 1089.24 L1269.54 1089.24 L1269.54 1082.35 Z\" fill=\"#000000\" fill-rule=\"evenodd\" fill-opacity=\"1\" /><path clip-path=\"url(#clip790)\" d=\"M1910.82 159.677 Q1916.69 160.933 1919.97 164.903 Q1923.29 168.873 1923.29 174.706 Q1923.29 183.658 1917.14 188.56 Q1910.98 193.462 1899.64 193.462 Q1895.83 193.462 1891.78 192.692 Q1887.77 191.963 1883.47 190.464 L1883.47 182.565 Q1886.88 184.55 1890.93 185.562 Q1894.98 186.575 1899.39 186.575 Q1907.09 186.575 1911.1 183.537 Q1915.15 180.499 1915.15 174.706 Q1915.15 169.359 1911.38 166.361 Q1907.66 163.323 1900.97 163.323 L1893.92 163.323 L1893.92 156.598 L1901.3 156.598 Q1907.33 156.598 1910.53 154.208 Q1913.73 151.778 1913.73 147.241 Q1913.73 142.582 1910.41 140.111 Q1907.13 137.6 1900.97 137.6 Q1897.61 137.6 1893.76 138.329 Q1889.91 139.058 1885.3 140.597 L1885.3 133.306 Q1889.95 132.009 1894.01 131.361 Q1898.1 130.713 1901.7 130.713 Q1911.02 130.713 1916.45 134.967 Q1921.88 139.18 1921.88 146.39 Q1921.88 151.413 1919 154.897 Q1916.12 158.34 1910.82 159.677 Z\" fill=\"#000000\" fill-rule=\"evenodd\" fill-opacity=\"1\" /><path clip-path=\"url(#clip790)\" d=\"M1936.74 131.807 L1975.63 131.807 L1975.63 135.291 L1953.68 192.287 L1945.13 192.287 L1965.79 138.693 L1936.74 138.693 L1936.74 131.807 Z\" fill=\"#000000\" fill-rule=\"evenodd\" fill-opacity=\"1\" /><path clip-path=\"url(#clip790)\" d=\"M1998.64 185.4 L2027.2 185.4 L2027.2 192.287 L1988.8 192.287 L1988.8 185.4 Q1993.45 180.58 2001.48 172.478 Q2009.54 164.336 2011.6 161.986 Q2015.53 157.571 2017.07 154.532 Q2018.65 151.454 2018.65 148.497 Q2018.65 143.676 2015.25 140.638 Q2011.89 137.6 2006.46 137.6 Q2002.61 137.6 1998.32 138.937 Q1994.06 140.273 1989.2 142.987 L1989.2 134.724 Q1994.14 132.739 1998.44 131.726 Q2002.73 130.713 2006.3 130.713 Q2015.69 130.713 2021.28 135.412 Q2026.87 140.111 2026.87 147.97 Q2026.87 151.697 2025.46 155.059 Q2024.08 158.381 2020.39 162.918 Q2019.38 164.093 2013.95 169.723 Q2008.52 175.314 1998.64 185.4 Z\" fill=\"#000000\" fill-rule=\"evenodd\" fill-opacity=\"1\" /></svg>\n"
      ]
     },
     "execution_count": 41,
     "metadata": {},
     "output_type": "execute_result"
    }
   ],
   "source": [
    "death_by_pclass = combine(groupby(train_df[train_df.Survived .== 0,:],\"Pclass\"), nrow => \"Count\")\n",
    "plot(death_by_pclass.Pclass, death_by_pclass.Count, title=\"Dead Passengers by Ticket class\", label=nothing, \n",
    "    seriestype=\"bar\", texts=death_by_pclass.Count)\n",
    "xticks!([1:1:3;],[\"First\",\"Second\",\"Third\"])"
   ]
  },
  {
   "cell_type": "code",
   "execution_count": 42,
   "id": "fb9c08c0",
   "metadata": {},
   "outputs": [
    {
     "data": {
      "text/plain": [
       "889-element Vector{Int64}:\n",
       " 0\n",
       " 1\n",
       " 1\n",
       " 1\n",
       " 0\n",
       " 0\n",
       " 0\n",
       " 0\n",
       " 1\n",
       " 1\n",
       " 1\n",
       " 1\n",
       " 0\n",
       " ⋮\n",
       " 1\n",
       " 1\n",
       " 0\n",
       " 0\n",
       " 0\n",
       " 0\n",
       " 0\n",
       " 0\n",
       " 1\n",
       " 0\n",
       " 1\n",
       " 0"
      ]
     },
     "execution_count": 42,
     "metadata": {},
     "output_type": "execute_result"
    }
   ],
   "source": [
    "# Extract features matrix and labels vector\n",
    "X = Matrix(train_df[:,Not([\"Survived\"])])\n",
    "y = train_df[:,\"Survived\"]"
   ]
  },
  {
   "cell_type": "code",
   "execution_count": 50,
   "id": "9d354551",
   "metadata": {},
   "outputs": [
    {
     "data": {
      "text/plain": [
       "0.7921348314606742"
      ]
     },
     "execution_count": 50,
     "metadata": {},
     "output_type": "execute_result"
    }
   ],
   "source": [
    "using DecisionTree,ScikitLearn.CrossValidation\n",
    "model = RandomForestClassifier(n_trees=100)\n",
    "fit!(model,X,y)\n",
    "accuracy = minimum(cross_val_score(model, X, y, cv=5))"
   ]
  },
  {
   "cell_type": "code",
   "execution_count": 51,
   "id": "45b0d3ae",
   "metadata": {},
   "outputs": [
    {
     "data": {
      "text/html": [
       "<div><div style = \"float: left;\"><span>11×7 DataFrame</span></div><div style = \"clear: both;\"></div></div><div class = \"data-frame\" style = \"overflow-x: scroll;\"><table class = \"data-frame\" style = \"margin-bottom: 6px;\"><thead><tr class = \"header\"><th class = \"rowNumber\" style = \"font-weight: bold; text-align: right;\">Row</th><th style = \"text-align: left;\">variable</th><th style = \"text-align: left;\">mean</th><th style = \"text-align: left;\">min</th><th style = \"text-align: left;\">median</th><th style = \"text-align: left;\">max</th><th style = \"text-align: left;\">nmissing</th><th style = \"text-align: left;\">eltype</th></tr><tr class = \"subheader headerLastRow\"><th class = \"rowNumber\" style = \"font-weight: bold; text-align: right;\"></th><th title = \"Symbol\" style = \"text-align: left;\">Symbol</th><th title = \"Union{Nothing, Float64}\" style = \"text-align: left;\">Union…</th><th title = \"Any\" style = \"text-align: left;\">Any</th><th title = \"Union{Nothing, Float64}\" style = \"text-align: left;\">Union…</th><th title = \"Any\" style = \"text-align: left;\">Any</th><th title = \"Int64\" style = \"text-align: left;\">Int64</th><th title = \"Type\" style = \"text-align: left;\">Type</th></tr></thead><tbody><tr><td class = \"rowNumber\" style = \"font-weight: bold; text-align: right;\">1</td><td style = \"text-align: left;\">PassengerId</td><td style = \"text-align: left;\">1100.5</td><td style = \"text-align: left;\">892</td><td style = \"text-align: left;\">1100.5</td><td style = \"text-align: left;\">1309</td><td style = \"text-align: right;\">0</td><td style = \"text-align: left;\">Int64</td></tr><tr><td class = \"rowNumber\" style = \"font-weight: bold; text-align: right;\">2</td><td style = \"text-align: left;\">Pclass</td><td style = \"text-align: left;\">2.26555</td><td style = \"text-align: left;\">1</td><td style = \"text-align: left;\">3.0</td><td style = \"text-align: left;\">3</td><td style = \"text-align: right;\">0</td><td style = \"text-align: left;\">Int64</td></tr><tr><td class = \"rowNumber\" style = \"font-weight: bold; text-align: right;\">3</td><td style = \"text-align: left;\">Name</td><td style = \"font-style: italic; text-align: left;\"></td><td style = \"text-align: left;\">Abbott, Master. Eugene Joseph</td><td style = \"font-style: italic; text-align: left;\"></td><td style = \"text-align: left;\">van Billiard, Master. Walter John</td><td style = \"text-align: right;\">0</td><td style = \"text-align: left;\">String</td></tr><tr><td class = \"rowNumber\" style = \"font-weight: bold; text-align: right;\">4</td><td style = \"text-align: left;\">Sex</td><td style = \"font-style: italic; text-align: left;\"></td><td style = \"text-align: left;\">female</td><td style = \"font-style: italic; text-align: left;\"></td><td style = \"text-align: left;\">male</td><td style = \"text-align: right;\">0</td><td style = \"text-align: left;\">String7</td></tr><tr><td class = \"rowNumber\" style = \"font-weight: bold; text-align: right;\">5</td><td style = \"text-align: left;\">Age</td><td style = \"text-align: left;\">30.2726</td><td style = \"text-align: left;\">0.17</td><td style = \"text-align: left;\">27.0</td><td style = \"text-align: left;\">76.0</td><td style = \"text-align: right;\">86</td><td style = \"text-align: left;\">Union{Missing, Float64}</td></tr><tr><td class = \"rowNumber\" style = \"font-weight: bold; text-align: right;\">6</td><td style = \"text-align: left;\">SibSp</td><td style = \"text-align: left;\">0.447368</td><td style = \"text-align: left;\">0</td><td style = \"text-align: left;\">0.0</td><td style = \"text-align: left;\">8</td><td style = \"text-align: right;\">0</td><td style = \"text-align: left;\">Int64</td></tr><tr><td class = \"rowNumber\" style = \"font-weight: bold; text-align: right;\">7</td><td style = \"text-align: left;\">Parch</td><td style = \"text-align: left;\">0.392344</td><td style = \"text-align: left;\">0</td><td style = \"text-align: left;\">0.0</td><td style = \"text-align: left;\">9</td><td style = \"text-align: right;\">0</td><td style = \"text-align: left;\">Int64</td></tr><tr><td class = \"rowNumber\" style = \"font-weight: bold; text-align: right;\">8</td><td style = \"text-align: left;\">Ticket</td><td style = \"font-style: italic; text-align: left;\"></td><td style = \"text-align: left;\">110469</td><td style = \"font-style: italic; text-align: left;\"></td><td style = \"text-align: left;\">W.E.P. 5734</td><td style = \"text-align: right;\">0</td><td style = \"text-align: left;\">String31</td></tr><tr><td class = \"rowNumber\" style = \"font-weight: bold; text-align: right;\">9</td><td style = \"text-align: left;\">Fare</td><td style = \"text-align: left;\">35.6272</td><td style = \"text-align: left;\">0.0</td><td style = \"text-align: left;\">14.4542</td><td style = \"text-align: left;\">512.329</td><td style = \"text-align: right;\">1</td><td style = \"text-align: left;\">Union{Missing, Float64}</td></tr><tr><td class = \"rowNumber\" style = \"font-weight: bold; text-align: right;\">10</td><td style = \"text-align: left;\">Cabin</td><td style = \"font-style: italic; text-align: left;\"></td><td style = \"text-align: left;\">A11</td><td style = \"font-style: italic; text-align: left;\"></td><td style = \"text-align: left;\">G6</td><td style = \"text-align: right;\">327</td><td style = \"text-align: left;\">Union{Missing, String15}</td></tr><tr><td class = \"rowNumber\" style = \"font-weight: bold; text-align: right;\">11</td><td style = \"text-align: left;\">Embarked</td><td style = \"font-style: italic; text-align: left;\"></td><td style = \"text-align: left;\">C</td><td style = \"font-style: italic; text-align: left;\"></td><td style = \"text-align: left;\">S</td><td style = \"text-align: right;\">0</td><td style = \"text-align: left;\">String1</td></tr></tbody></table></div>"
      ],
      "text/latex": [
       "\\begin{tabular}{r|cccccc}\n",
       "\t& variable & mean & min & median & max & \\\\\n",
       "\t\\hline\n",
       "\t& Symbol & Union… & Any & Union… & Any & \\\\\n",
       "\t\\hline\n",
       "\t1 & PassengerId & 1100.5 & 892 & 1100.5 & 1309 & $\\dots$ \\\\\n",
       "\t2 & Pclass & 2.26555 & 1 & 3.0 & 3 & $\\dots$ \\\\\n",
       "\t3 & Name &  & Abbott, Master. Eugene Joseph &  & van Billiard, Master. Walter John & $\\dots$ \\\\\n",
       "\t4 & Sex &  & female &  & male & $\\dots$ \\\\\n",
       "\t5 & Age & 30.2726 & 0.17 & 27.0 & 76.0 & $\\dots$ \\\\\n",
       "\t6 & SibSp & 0.447368 & 0 & 0.0 & 8 & $\\dots$ \\\\\n",
       "\t7 & Parch & 0.392344 & 0 & 0.0 & 9 & $\\dots$ \\\\\n",
       "\t8 & Ticket &  & 110469 &  & W.E.P. 5734 & $\\dots$ \\\\\n",
       "\t9 & Fare & 35.6272 & 0.0 & 14.4542 & 512.329 & $\\dots$ \\\\\n",
       "\t10 & Cabin &  & A11 &  & G6 & $\\dots$ \\\\\n",
       "\t11 & Embarked &  & C &  & S & $\\dots$ \\\\\n",
       "\\end{tabular}\n"
      ],
      "text/plain": [
       "\u001b[1m11×7 DataFrame\u001b[0m\n",
       "\u001b[1m Row \u001b[0m│\u001b[1m variable    \u001b[0m\u001b[1m mean     \u001b[0m\u001b[1m min                           \u001b[0m\u001b[1m median  \u001b[0m\u001b[1m max     \u001b[0m ⋯\n",
       "     │\u001b[90m Symbol      \u001b[0m\u001b[90m Union…   \u001b[0m\u001b[90m Any                           \u001b[0m\u001b[90m Union…  \u001b[0m\u001b[90m Any     \u001b[0m ⋯\n",
       "─────┼──────────────────────────────────────────────────────────────────────────\n",
       "   1 │ PassengerId  1100.5    892                            1100.5   1309     ⋯\n",
       "   2 │ Pclass       2.26555   1                              3.0      3\n",
       "   3 │ Name        \u001b[90m          \u001b[0m Abbott, Master. Eugene Joseph \u001b[90m         \u001b[0m van Bill\n",
       "   4 │ Sex         \u001b[90m          \u001b[0m female                        \u001b[90m         \u001b[0m male\n",
       "   5 │ Age          30.2726   0.17                           27.0     76.0     ⋯\n",
       "   6 │ SibSp        0.447368  0                              0.0      8\n",
       "   7 │ Parch        0.392344  0                              0.0      9\n",
       "   8 │ Ticket      \u001b[90m          \u001b[0m 110469                        \u001b[90m         \u001b[0m W.E.P. 5\n",
       "   9 │ Fare         35.6272   0.0                            14.4542  512.329  ⋯\n",
       "  10 │ Cabin       \u001b[90m          \u001b[0m A11                           \u001b[90m         \u001b[0m G6\n",
       "  11 │ Embarked    \u001b[90m          \u001b[0m C                             \u001b[90m         \u001b[0m S\n",
       "\u001b[36m                                                               3 columns omitted\u001b[0m"
      ]
     },
     "execution_count": 51,
     "metadata": {},
     "output_type": "execute_result"
    }
   ],
   "source": [
    "# Load testing dataset and show summary info\n",
    "test_df = CSV.read(\"test.csv\",DataFrame)\n",
    "describe(test_df)"
   ]
  },
  {
   "cell_type": "code",
   "execution_count": 52,
   "id": "de6aeb70",
   "metadata": {},
   "outputs": [
    {
     "data": {
      "text/plain": [
       "418-element Vector{Int64}:\n",
       "  892\n",
       "  893\n",
       "  894\n",
       "  895\n",
       "  896\n",
       "  897\n",
       "  898\n",
       "  899\n",
       "  900\n",
       "  901\n",
       "  902\n",
       "  903\n",
       "  904\n",
       "    ⋮\n",
       " 1298\n",
       " 1299\n",
       " 1300\n",
       " 1301\n",
       " 1302\n",
       " 1303\n",
       " 1304\n",
       " 1305\n",
       " 1306\n",
       " 1307\n",
       " 1308\n",
       " 1309"
      ]
     },
     "execution_count": 52,
     "metadata": {},
     "output_type": "execute_result"
    }
   ],
   "source": [
    "# Save PassengerId field to separate variable\n",
    "PassengerId = test_df[:,\"PassengerId\"]"
   ]
  },
  {
   "cell_type": "code",
   "execution_count": 53,
   "id": "9cb49cf0",
   "metadata": {},
   "outputs": [
    {
     "data": {
      "text/plain": [
       "418-element Vector{Float64}:\n",
       "   7.8292\n",
       "   7.0\n",
       "   9.6875\n",
       "   8.6625\n",
       "  12.2875\n",
       "   9.225\n",
       "   7.6292\n",
       "  29.0\n",
       "   7.2292\n",
       "  24.15\n",
       "   7.8958\n",
       "  26.0\n",
       "  82.2667\n",
       "   ⋮\n",
       "  10.5\n",
       " 211.5\n",
       "   7.7208\n",
       "  13.775\n",
       "   7.75\n",
       "  90.0\n",
       "   7.775\n",
       "   8.05\n",
       " 108.9\n",
       "   7.25\n",
       "   8.05\n",
       "  22.3583"
      ]
     },
     "execution_count": 53,
     "metadata": {},
     "output_type": "execute_result"
    }
   ],
   "source": [
    "# Repeat the same transformations as we done for training dataset\n",
    "test_df = select(test_df,Not([\"PassengerId\",\"Name\",\"Ticket\",\"Cabin\"]))\n",
    "test_df.Age = replace(test_df.Age,missing=>28)\n",
    "test_df.Embarked = replace(test_df.Embarked,\"S\" => 1, \"C\" => 2, \"Q\" => 3)\n",
    "test_df.Embarked = convert.(Int64,test_df.Embarked)\n",
    "test_df.Sex = replace(test_df.Sex,\"female\" => 1,\"male\" => 2)\n",
    "test_df.Sex = convert.(Int64,test_df.Sex)\n",
    "\n",
    "# In addition, replace missing value in 'Fare' field with median\n",
    "test_df.Fare = replace(test_df.Fare,missing=>14.4542)"
   ]
  },
  {
   "cell_type": "code",
   "execution_count": 54,
   "id": "4117afd8",
   "metadata": {},
   "outputs": [
    {
     "data": {
      "text/html": [
       "<div><div style = \"float: left;\"><span>7×7 DataFrame</span></div><div style = \"clear: both;\"></div></div><div class = \"data-frame\" style = \"overflow-x: scroll;\"><table class = \"data-frame\" style = \"margin-bottom: 6px;\"><thead><tr class = \"header\"><th class = \"rowNumber\" style = \"font-weight: bold; text-align: right;\">Row</th><th style = \"text-align: left;\">variable</th><th style = \"text-align: left;\">mean</th><th style = \"text-align: left;\">min</th><th style = \"text-align: left;\">median</th><th style = \"text-align: left;\">max</th><th style = \"text-align: left;\">nmissing</th><th style = \"text-align: left;\">eltype</th></tr><tr class = \"subheader headerLastRow\"><th class = \"rowNumber\" style = \"font-weight: bold; text-align: right;\"></th><th title = \"Symbol\" style = \"text-align: left;\">Symbol</th><th title = \"Float64\" style = \"text-align: left;\">Float64</th><th title = \"Real\" style = \"text-align: left;\">Real</th><th title = \"Float64\" style = \"text-align: left;\">Float64</th><th title = \"Real\" style = \"text-align: left;\">Real</th><th title = \"Int64\" style = \"text-align: left;\">Int64</th><th title = \"DataType\" style = \"text-align: left;\">DataType</th></tr></thead><tbody><tr><td class = \"rowNumber\" style = \"font-weight: bold; text-align: right;\">1</td><td style = \"text-align: left;\">Pclass</td><td style = \"text-align: right;\">2.26555</td><td style = \"text-align: right;\">1</td><td style = \"text-align: right;\">3.0</td><td style = \"text-align: right;\">3</td><td style = \"text-align: right;\">0</td><td style = \"text-align: left;\">Int64</td></tr><tr><td class = \"rowNumber\" style = \"font-weight: bold; text-align: right;\">2</td><td style = \"text-align: left;\">Sex</td><td style = \"text-align: right;\">1.63636</td><td style = \"text-align: right;\">1</td><td style = \"text-align: right;\">2.0</td><td style = \"text-align: right;\">2</td><td style = \"text-align: right;\">0</td><td style = \"text-align: left;\">Int64</td></tr><tr><td class = \"rowNumber\" style = \"font-weight: bold; text-align: right;\">3</td><td style = \"text-align: left;\">Age</td><td style = \"text-align: right;\">29.805</td><td style = \"text-align: right;\">0.17</td><td style = \"text-align: right;\">28.0</td><td style = \"text-align: right;\">76.0</td><td style = \"text-align: right;\">0</td><td style = \"text-align: left;\">Float64</td></tr><tr><td class = \"rowNumber\" style = \"font-weight: bold; text-align: right;\">4</td><td style = \"text-align: left;\">SibSp</td><td style = \"text-align: right;\">0.447368</td><td style = \"text-align: right;\">0</td><td style = \"text-align: right;\">0.0</td><td style = \"text-align: right;\">8</td><td style = \"text-align: right;\">0</td><td style = \"text-align: left;\">Int64</td></tr><tr><td class = \"rowNumber\" style = \"font-weight: bold; text-align: right;\">5</td><td style = \"text-align: left;\">Parch</td><td style = \"text-align: right;\">0.392344</td><td style = \"text-align: right;\">0</td><td style = \"text-align: right;\">0.0</td><td style = \"text-align: right;\">9</td><td style = \"text-align: right;\">0</td><td style = \"text-align: left;\">Int64</td></tr><tr><td class = \"rowNumber\" style = \"font-weight: bold; text-align: right;\">6</td><td style = \"text-align: left;\">Fare</td><td style = \"text-align: right;\">35.5765</td><td style = \"text-align: right;\">0.0</td><td style = \"text-align: right;\">14.4542</td><td style = \"text-align: right;\">512.329</td><td style = \"text-align: right;\">0</td><td style = \"text-align: left;\">Float64</td></tr><tr><td class = \"rowNumber\" style = \"font-weight: bold; text-align: right;\">7</td><td style = \"text-align: left;\">Embarked</td><td style = \"text-align: right;\">1.46411</td><td style = \"text-align: right;\">1</td><td style = \"text-align: right;\">1.0</td><td style = \"text-align: right;\">3</td><td style = \"text-align: right;\">0</td><td style = \"text-align: left;\">Int64</td></tr></tbody></table></div>"
      ],
      "text/latex": [
       "\\begin{tabular}{r|ccccccc}\n",
       "\t& variable & mean & min & median & max & nmissing & eltype\\\\\n",
       "\t\\hline\n",
       "\t& Symbol & Float64 & Real & Float64 & Real & Int64 & DataType\\\\\n",
       "\t\\hline\n",
       "\t1 & Pclass & 2.26555 & 1 & 3.0 & 3 & 0 & Int64 \\\\\n",
       "\t2 & Sex & 1.63636 & 1 & 2.0 & 2 & 0 & Int64 \\\\\n",
       "\t3 & Age & 29.805 & 0.17 & 28.0 & 76.0 & 0 & Float64 \\\\\n",
       "\t4 & SibSp & 0.447368 & 0 & 0.0 & 8 & 0 & Int64 \\\\\n",
       "\t5 & Parch & 0.392344 & 0 & 0.0 & 9 & 0 & Int64 \\\\\n",
       "\t6 & Fare & 35.5765 & 0.0 & 14.4542 & 512.329 & 0 & Float64 \\\\\n",
       "\t7 & Embarked & 1.46411 & 1 & 1.0 & 3 & 0 & Int64 \\\\\n",
       "\\end{tabular}\n"
      ],
      "text/plain": [
       "\u001b[1m7×7 DataFrame\u001b[0m\n",
       "\u001b[1m Row \u001b[0m│\u001b[1m variable \u001b[0m\u001b[1m mean      \u001b[0m\u001b[1m min  \u001b[0m\u001b[1m median  \u001b[0m\u001b[1m max     \u001b[0m\u001b[1m nmissing \u001b[0m\u001b[1m eltype   \u001b[0m\n",
       "     │\u001b[90m Symbol   \u001b[0m\u001b[90m Float64   \u001b[0m\u001b[90m Real \u001b[0m\u001b[90m Float64 \u001b[0m\u001b[90m Real    \u001b[0m\u001b[90m Int64    \u001b[0m\u001b[90m DataType \u001b[0m\n",
       "─────┼─────────────────────────────────────────────────────────────────\n",
       "   1 │ Pclass     2.26555   1      3.0       3             0  Int64\n",
       "   2 │ Sex        1.63636   1      2.0       2             0  Int64\n",
       "   3 │ Age       29.805     0.17  28.0      76.0           0  Float64\n",
       "   4 │ SibSp      0.447368  0      0.0       8             0  Int64\n",
       "   5 │ Parch      0.392344  0      0.0       9             0  Int64\n",
       "   6 │ Fare      35.5765    0.0   14.4542  512.329         0  Float64\n",
       "   7 │ Embarked   1.46411   1      1.0       3             0  Int64"
      ]
     },
     "execution_count": 54,
     "metadata": {},
     "output_type": "execute_result"
    }
   ],
   "source": [
    "# Ensure that all data transofrmations applied correctly\n",
    "describe(test_df)"
   ]
  },
  {
   "cell_type": "code",
   "execution_count": 55,
   "id": "f7afaa77",
   "metadata": {},
   "outputs": [
    {
     "data": {
      "text/plain": [
       "418-element Vector{Int64}:\n",
       " 0\n",
       " 0\n",
       " 0\n",
       " 0\n",
       " 0\n",
       " 0\n",
       " 0\n",
       " 0\n",
       " 1\n",
       " 0\n",
       " 0\n",
       " 0\n",
       " 1\n",
       " ⋮\n",
       " 0\n",
       " 0\n",
       " 1\n",
       " 1\n",
       " 1\n",
       " 1\n",
       " 0\n",
       " 0\n",
       " 1\n",
       " 0\n",
       " 0\n",
       " 0"
      ]
     },
     "execution_count": 55,
     "metadata": {},
     "output_type": "execute_result"
    }
   ],
   "source": [
    "# Make a prediction for testing dataframe using the trained model\n",
    "Survived = predict(model,Matrix(test_df))"
   ]
  },
  {
   "cell_type": "code",
   "execution_count": 56,
   "id": "d508b076",
   "metadata": {},
   "outputs": [
    {
     "data": {
      "text/plain": [
       "\"submission.csv\""
      ]
     },
     "execution_count": 56,
     "metadata": {},
     "output_type": "execute_result"
    }
   ],
   "source": [
    "# Create a dataset in a format, required for Kaggle submission (with 'PassengerId' and 'Survived' columns)\n",
    "# and save it to CSV\n",
    "submit_df = DataFrame(PassengerId=PassengerId,Survived=Survived)\n",
    "CSV.write(\"submission.csv\",submit_df)"
   ]
  },
  {
   "cell_type": "code",
   "execution_count": 57,
   "id": "94b3ef72",
   "metadata": {},
   "outputs": [
    {
     "data": {
      "text/html": [
       "<div><div style = \"float: left;\"><span>418×2 DataFrame</span></div><div style = \"float: right;\"><span style = \"font-style: italic;\">393 rows omitted</span></div><div style = \"clear: both;\"></div></div><div class = \"data-frame\" style = \"overflow-x: scroll;\"><table class = \"data-frame\" style = \"margin-bottom: 6px;\"><thead><tr class = \"header\"><th class = \"rowNumber\" style = \"font-weight: bold; text-align: right;\">Row</th><th style = \"text-align: left;\">PassengerId</th><th style = \"text-align: left;\">Survived</th></tr><tr class = \"subheader headerLastRow\"><th class = \"rowNumber\" style = \"font-weight: bold; text-align: right;\"></th><th title = \"Int64\" style = \"text-align: left;\">Int64</th><th title = \"Int64\" style = \"text-align: left;\">Int64</th></tr></thead><tbody><tr><td class = \"rowNumber\" style = \"font-weight: bold; text-align: right;\">1</td><td style = \"text-align: right;\">892</td><td style = \"text-align: right;\">0</td></tr><tr><td class = \"rowNumber\" style = \"font-weight: bold; text-align: right;\">2</td><td style = \"text-align: right;\">893</td><td style = \"text-align: right;\">0</td></tr><tr><td class = \"rowNumber\" style = \"font-weight: bold; text-align: right;\">3</td><td style = \"text-align: right;\">894</td><td style = \"text-align: right;\">0</td></tr><tr><td class = \"rowNumber\" style = \"font-weight: bold; text-align: right;\">4</td><td style = \"text-align: right;\">895</td><td style = \"text-align: right;\">0</td></tr><tr><td class = \"rowNumber\" style = \"font-weight: bold; text-align: right;\">5</td><td style = \"text-align: right;\">896</td><td style = \"text-align: right;\">0</td></tr><tr><td class = \"rowNumber\" style = \"font-weight: bold; text-align: right;\">6</td><td style = \"text-align: right;\">897</td><td style = \"text-align: right;\">0</td></tr><tr><td class = \"rowNumber\" style = \"font-weight: bold; text-align: right;\">7</td><td style = \"text-align: right;\">898</td><td style = \"text-align: right;\">0</td></tr><tr><td class = \"rowNumber\" style = \"font-weight: bold; text-align: right;\">8</td><td style = \"text-align: right;\">899</td><td style = \"text-align: right;\">0</td></tr><tr><td class = \"rowNumber\" style = \"font-weight: bold; text-align: right;\">9</td><td style = \"text-align: right;\">900</td><td style = \"text-align: right;\">1</td></tr><tr><td class = \"rowNumber\" style = \"font-weight: bold; text-align: right;\">10</td><td style = \"text-align: right;\">901</td><td style = \"text-align: right;\">0</td></tr><tr><td class = \"rowNumber\" style = \"font-weight: bold; text-align: right;\">11</td><td style = \"text-align: right;\">902</td><td style = \"text-align: right;\">0</td></tr><tr><td class = \"rowNumber\" style = \"font-weight: bold; text-align: right;\">12</td><td style = \"text-align: right;\">903</td><td style = \"text-align: right;\">0</td></tr><tr><td class = \"rowNumber\" style = \"font-weight: bold; text-align: right;\">13</td><td style = \"text-align: right;\">904</td><td style = \"text-align: right;\">1</td></tr><tr><td style = \"text-align: right;\">&vellip;</td><td style = \"text-align: right;\">&vellip;</td><td style = \"text-align: right;\">&vellip;</td></tr><tr><td class = \"rowNumber\" style = \"font-weight: bold; text-align: right;\">407</td><td style = \"text-align: right;\">1298</td><td style = \"text-align: right;\">0</td></tr><tr><td class = \"rowNumber\" style = \"font-weight: bold; text-align: right;\">408</td><td style = \"text-align: right;\">1299</td><td style = \"text-align: right;\">0</td></tr><tr><td class = \"rowNumber\" style = \"font-weight: bold; text-align: right;\">409</td><td style = \"text-align: right;\">1300</td><td style = \"text-align: right;\">1</td></tr><tr><td class = \"rowNumber\" style = \"font-weight: bold; text-align: right;\">410</td><td style = \"text-align: right;\">1301</td><td style = \"text-align: right;\">1</td></tr><tr><td class = \"rowNumber\" style = \"font-weight: bold; text-align: right;\">411</td><td style = \"text-align: right;\">1302</td><td style = \"text-align: right;\">1</td></tr><tr><td class = \"rowNumber\" style = \"font-weight: bold; text-align: right;\">412</td><td style = \"text-align: right;\">1303</td><td style = \"text-align: right;\">1</td></tr><tr><td class = \"rowNumber\" style = \"font-weight: bold; text-align: right;\">413</td><td style = \"text-align: right;\">1304</td><td style = \"text-align: right;\">0</td></tr><tr><td class = \"rowNumber\" style = \"font-weight: bold; text-align: right;\">414</td><td style = \"text-align: right;\">1305</td><td style = \"text-align: right;\">0</td></tr><tr><td class = \"rowNumber\" style = \"font-weight: bold; text-align: right;\">415</td><td style = \"text-align: right;\">1306</td><td style = \"text-align: right;\">1</td></tr><tr><td class = \"rowNumber\" style = \"font-weight: bold; text-align: right;\">416</td><td style = \"text-align: right;\">1307</td><td style = \"text-align: right;\">0</td></tr><tr><td class = \"rowNumber\" style = \"font-weight: bold; text-align: right;\">417</td><td style = \"text-align: right;\">1308</td><td style = \"text-align: right;\">0</td></tr><tr><td class = \"rowNumber\" style = \"font-weight: bold; text-align: right;\">418</td><td style = \"text-align: right;\">1309</td><td style = \"text-align: right;\">0</td></tr></tbody></table></div>"
      ],
      "text/latex": [
       "\\begin{tabular}{r|cc}\n",
       "\t& PassengerId & Survived\\\\\n",
       "\t\\hline\n",
       "\t& Int64 & Int64\\\\\n",
       "\t\\hline\n",
       "\t1 & 892 & 0 \\\\\n",
       "\t2 & 893 & 0 \\\\\n",
       "\t3 & 894 & 0 \\\\\n",
       "\t4 & 895 & 0 \\\\\n",
       "\t5 & 896 & 0 \\\\\n",
       "\t6 & 897 & 0 \\\\\n",
       "\t7 & 898 & 0 \\\\\n",
       "\t8 & 899 & 0 \\\\\n",
       "\t9 & 900 & 1 \\\\\n",
       "\t10 & 901 & 0 \\\\\n",
       "\t11 & 902 & 0 \\\\\n",
       "\t12 & 903 & 0 \\\\\n",
       "\t13 & 904 & 1 \\\\\n",
       "\t14 & 905 & 0 \\\\\n",
       "\t15 & 906 & 1 \\\\\n",
       "\t16 & 907 & 1 \\\\\n",
       "\t17 & 908 & 0 \\\\\n",
       "\t18 & 909 & 0 \\\\\n",
       "\t19 & 910 & 0 \\\\\n",
       "\t20 & 911 & 0 \\\\\n",
       "\t21 & 912 & 0 \\\\\n",
       "\t22 & 913 & 0 \\\\\n",
       "\t23 & 914 & 1 \\\\\n",
       "\t24 & 915 & 0 \\\\\n",
       "\t25 & 916 & 1 \\\\\n",
       "\t26 & 917 & 0 \\\\\n",
       "\t27 & 918 & 1 \\\\\n",
       "\t28 & 919 & 0 \\\\\n",
       "\t29 & 920 & 1 \\\\\n",
       "\t30 & 921 & 0 \\\\\n",
       "\t$\\dots$ & $\\dots$ & $\\dots$ \\\\\n",
       "\\end{tabular}\n"
      ],
      "text/plain": [
       "\u001b[1m418×2 DataFrame\u001b[0m\n",
       "\u001b[1m Row \u001b[0m│\u001b[1m PassengerId \u001b[0m\u001b[1m Survived \u001b[0m\n",
       "     │\u001b[90m Int64       \u001b[0m\u001b[90m Int64    \u001b[0m\n",
       "─────┼───────────────────────\n",
       "   1 │         892         0\n",
       "   2 │         893         0\n",
       "   3 │         894         0\n",
       "   4 │         895         0\n",
       "   5 │         896         0\n",
       "   6 │         897         0\n",
       "   7 │         898         0\n",
       "   8 │         899         0\n",
       "   9 │         900         1\n",
       "  10 │         901         0\n",
       "  11 │         902         0\n",
       "  ⋮  │      ⋮          ⋮\n",
       " 409 │        1300         1\n",
       " 410 │        1301         1\n",
       " 411 │        1302         1\n",
       " 412 │        1303         1\n",
       " 413 │        1304         0\n",
       " 414 │        1305         0\n",
       " 415 │        1306         1\n",
       " 416 │        1307         0\n",
       " 417 │        1308         0\n",
       " 418 │        1309         0\n",
       "\u001b[36m             397 rows omitted\u001b[0m"
      ]
     },
     "execution_count": 57,
     "metadata": {},
     "output_type": "execute_result"
    }
   ],
   "source": [
    "submit_df"
   ]
  },
  {
   "cell_type": "code",
   "execution_count": 58,
   "id": "cea9a36c",
   "metadata": {},
   "outputs": [],
   "source": [
    "# Serialize and save the model to a file for deployment in production\n",
    "save_object(\"titanic.jld2\",model)"
   ]
  }
 ],
 "metadata": {
  "kernelspec": {
   "display_name": "Julia 1.8.5",
   "language": "julia",
   "name": "julia-1.8"
  },
  "language_info": {
   "file_extension": ".jl",
   "mimetype": "application/julia",
   "name": "julia",
   "version": "1.8.5"
  }
 },
 "nbformat": 4,
 "nbformat_minor": 5
}
